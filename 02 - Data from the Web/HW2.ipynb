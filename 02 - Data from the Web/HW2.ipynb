{
 "cells": [
  {
   "cell_type": "markdown",
   "metadata": {},
   "source": [
    "# Exercise 1"
   ]
  },
  {
   "cell_type": "code",
   "execution_count": 13,
   "metadata": {
    "collapsed": false
   },
   "outputs": [],
   "source": [
    "import requests\n",
    "from enum import Enum\n",
    "from bs4 import BeautifulSoup"
   ]
  },
  {
   "cell_type": "markdown",
   "metadata": {},
   "source": [
    "The data can be fetched from IS-Academia usign a form. To automate this process we looked at the form  source code to find out what query is sent to the server to obtain the data. We found that the query is sent to http://isa.epfl.ch/imoniteur_ISAP/!GEDPUBLICREPORTS.filter with the values of the form fields as request parameters (appended to the URL after a '?').\n",
    "\n",
    "The first step is to find out the values correspondig to the parameters we're interested in. To do so we parse the form HTML with BeautifulSoup."
   ]
  },
  {
   "cell_type": "code",
   "execution_count": 20,
   "metadata": {
    "collapsed": false
   },
   "outputs": [],
   "source": [
    "r = requests.get('http://isa.epfl.ch/imoniteur_ISAP/!GEDPUBLICREPORTS.filter?ww_b_list=1&ww_i_reportmodel=133685247&ww_c_langue=&ww_i_reportModelXsl=133685270&zz_x_UNITE_ACAD=Informatique&ww_x_UNITE_ACAD=249847&zz_x_PERIODE_ACAD=2016-2017&ww_x_PERIODE_ACAD=355925344&zz_x_PERIODE_PEDAGO=Bachelor+semestre+1&ww_x_PERIODE_PEDAGO=249108&zz_x_HIVERETE=&ww_x_HIVERETE=null&dummy=ok')\n",
    "soup = BeautifulSoup(r.text, 'html.parser')"
   ]
  },
  {
   "cell_type": "code",
   "execution_count": 35,
   "metadata": {
    "collapsed": false
   },
   "outputs": [],
   "source": [
    "def printFieldValues(field_name):\n",
    "    for opt in soup.find('select', {'name': field_name}).find_all('option'):\n",
    "        print(opt.string, \" = \", opt['value'])"
   ]
  },
  {
   "cell_type": "markdown",
   "metadata": {},
   "source": [
    "The values of the different fields:"
   ]
  },
  {
   "cell_type": "code",
   "execution_count": 36,
   "metadata": {
    "collapsed": false
   },
   "outputs": [
    {
     "name": "stdout",
     "output_type": "stream",
     "text": [
      "=== Academic unit ===\n",
      "None  =  null\n",
      "Architecture  =  942293\n",
      "Chimie et génie chimique  =  246696\n",
      "Cours de mathématiques spéciales  =  943282\n",
      "EME (EPFL Middle East)  =  637841336\n",
      "Génie civil  =  942623\n",
      "Génie mécanique  =  944263\n",
      "Génie électrique et électronique   =  943936\n",
      "Humanités digitales  =  2054839157\n",
      "Informatique  =  249847\n",
      "Ingénierie financière  =  120623110\n",
      "Management de la technologie  =  946882\n",
      "Mathématiques  =  944590\n",
      "Microtechnique  =  945244\n",
      "Physique  =  945571\n",
      "Science et génie des matériaux  =  944917\n",
      "Sciences et ingénierie de l'environnement  =  942953\n",
      "Sciences et technologies du vivant  =  945901\n",
      "Section FCUE  =  1574548993\n",
      "Systèmes de communication  =  946228\n",
      "\n",
      "\n",
      "=== Academic period ===\n",
      "None  =  null\n",
      "2016-2017  =  355925344\n",
      "2015-2016  =  213638028\n",
      "2014-2015  =  213637922\n",
      "2013-2014  =  213637754\n",
      "2012-2013  =  123456101\n",
      "2011-2012  =  123455150\n",
      "2010-2011  =  39486325\n",
      "2009-2010  =  978195\n",
      "2008-2009  =  978187\n",
      "2007-2008  =  978181\n",
      "\n",
      "\n",
      "=== Pedagogic period ===\n",
      "None  =  null\n",
      "Bachelor semestre 1  =  249108\n",
      "Bachelor semestre 2  =  249114\n",
      "Bachelor semestre 3  =  942155\n",
      "Bachelor semestre 4  =  942163\n",
      "Bachelor semestre 5  =  942120\n",
      "Bachelor semestre 5b  =  2226768\n",
      "Bachelor semestre 6  =  942175\n",
      "Bachelor semestre 6b  =  2226785\n",
      "Master semestre 1  =  2230106\n",
      "Master semestre 2  =  942192\n",
      "Master semestre 3  =  2230128\n",
      "Master semestre 4  =  2230140\n",
      "Mineur semestre 1  =  2335667\n",
      "Mineur semestre 2  =  2335676\n",
      "Mise à niveau  =  2063602308\n",
      "Projet Master automne  =  249127\n",
      "Projet Master printemps  =  3781783\n",
      "Semestre automne  =  953159\n",
      "Semestre printemps  =  2754553\n",
      "Stage automne 3ème année  =  953137\n",
      "Stage automne 4ème année  =  2226616\n",
      "Stage printemps 3ème année  =  983606\n",
      "Stage printemps 4ème année  =  2226626\n",
      "Stage printemps master  =  2227132\n"
     ]
    }
   ],
   "source": [
    "# Academic unit\n",
    "print(\"=== Academic unit ===\")\n",
    "printFieldValues('ww_x_UNITE_ACAD')\n",
    "\n",
    "# Academic period\n",
    "print(\"\\n\\n=== Academic period ===\")\n",
    "printFieldValues('ww_x_PERIODE_ACAD')\n",
    "\n",
    "# Pedagogic period\n",
    "print(\"\\n\\n=== Pedagogic period ===\")\n",
    "printFieldValues('ww_x_PERIODE_PEDAGO')"
   ]
  },
  {
   "cell_type": "markdown",
   "metadata": {},
   "source": [
    "To make the code more readable we define enums containing these values:"
   ]
  },
  {
   "cell_type": "code",
   "execution_count": 37,
   "metadata": {
    "collapsed": false
   },
   "outputs": [],
   "source": [
    "# Define ISA codes\n",
    "\n",
    "class AcademicUnit(Enum):\n",
    "    Informatique = 249847\n",
    "    \n",
    "class AcademicPeriod(Enum):\n",
    "    y20162017  =  355925344\n",
    "    y20152016  =  213638028\n",
    "    y20142015  =  213637922\n",
    "    y20132014  =  213637754\n",
    "    y20122013  =  123456101\n",
    "    y20112012  =  123455150\n",
    "    y20102011  =  39486325\n",
    "    y20092010  =  978195\n",
    "    y20082009  =  978187\n",
    "    y20072008  =  978181\n",
    "    \n",
    "class PedagogicPeriod(Enum):\n",
    "    Bachelor1  =  249108\n",
    "    Bachelor2  =  249114\n",
    "    Bachelor3  =  942155\n",
    "    Bachelor4  =  942163\n",
    "    Bachelor5  =  942120\n",
    "    Bachelor5b  =  2226768\n",
    "    Bachelor6  =  942175\n",
    "    Bachelor6b  =  2226785"
   ]
  },
  {
   "cell_type": "code",
   "execution_count": 38,
   "metadata": {
    "collapsed": false
   },
   "outputs": [
    {
     "name": "stdout",
     "output_type": "stream",
     "text": [
      "249847\n",
      "978181\n"
     ]
    }
   ],
   "source": [
    "print(AcademicUnit.Informatique.value)\n",
    "print(AcademicPeriod.y20072008.value)"
   ]
  },
  {
   "cell_type": "code",
   "execution_count": 4,
   "metadata": {
    "collapsed": false
   },
   "outputs": [],
   "source": [
    "baseURL = 'http://isa.epfl.ch/imoniteur_ISAP/'\n",
    "\n",
    "def getDataTable(academicUnit, academicPeriod, pedagogicPeriod):\n",
    "    \"\"\"Get HTML data for given form parameters (from the enum): TODO\"\"\"\n",
    "    #url to send request: !GEDPUBLICREPORTS.filter?ww_b_list=1&ww_i_reportmodel=133685247\n",
    "\n"
   ]
  },
  {
   "cell_type": "markdown",
   "metadata": {},
   "source": [
    "# Exercise 2"
   ]
  },
  {
   "cell_type": "code",
   "execution_count": null,
   "metadata": {
    "collapsed": true
   },
   "outputs": [],
   "source": []
  },
  {
   "cell_type": "code",
   "execution_count": null,
   "metadata": {
    "collapsed": true
   },
   "outputs": [],
   "source": []
  },
  {
   "cell_type": "code",
   "execution_count": null,
   "metadata": {
    "collapsed": true
   },
   "outputs": [],
   "source": []
  },
  {
   "cell_type": "code",
   "execution_count": null,
   "metadata": {
    "collapsed": true
   },
   "outputs": [],
   "source": []
  }
 ],
 "metadata": {
  "anaconda-cloud": {},
  "kernelspec": {
   "display_name": "Python [Root]",
   "language": "python",
   "name": "Python [Root]"
  },
  "language_info": {
   "codemirror_mode": {
    "name": "ipython",
    "version": 3
   },
   "file_extension": ".py",
   "mimetype": "text/x-python",
   "name": "python",
   "nbconvert_exporter": "python",
   "pygments_lexer": "ipython3",
   "version": "3.5.2"
  }
 },
 "nbformat": 4,
 "nbformat_minor": 0
}

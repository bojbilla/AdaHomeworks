{
 "cells": [
  {
   "cell_type": "markdown",
   "metadata": {},
   "source": [
    "# Exercise 1"
   ]
  },
  {
   "cell_type": "code",
   "execution_count": 1,
   "metadata": {
    "collapsed": false
   },
   "outputs": [],
   "source": [
    "import numpy as np\n",
    "import pandas as pd\n",
    "import scipy.stats as stats\n",
    "import requests\n",
    "import re\n",
    "import matplotlib\n",
    "%matplotlib inline\n",
    "from enum import Enum\n",
    "from bs4 import BeautifulSoup"
   ]
  },
  {
   "cell_type": "markdown",
   "metadata": {},
   "source": [
    "The data can be fetched from IS-Academia usign a form. To automate this process we looked at the form  source code to find out what query is sent to the server to obtain the data. We found that the query is sent to http://isa.epfl.ch/imoniteur_ISAP/!GEDPUBLICREPORTS.filter with the values of the form fields as request parameters (appended to the URL after a '?').\n",
    "\n",
    "The first step is to find out the values correspondig to the parameters we're interested in. To do so we parse the form HTML with BeautifulSoup."
   ]
  },
  {
   "cell_type": "code",
   "execution_count": 2,
   "metadata": {
    "collapsed": false
   },
   "outputs": [],
   "source": [
    "r = requests.get('http://isa.epfl.ch/imoniteur_ISAP/!GEDPUBLICREPORTS.filter?ww_b_list=1&ww_i_reportmodel=133685247&ww_c_langue=&ww_i_reportModelXsl=133685270&zz_x_UNITE_ACAD=Informatique&ww_x_UNITE_ACAD=249847&zz_x_PERIODE_ACAD=2016-2017&ww_x_PERIODE_ACAD=355925344&zz_x_PERIODE_PEDAGO=Bachelor+semestre+1&ww_x_PERIODE_PEDAGO=249108&zz_x_HIVERETE=&ww_x_HIVERETE=null&dummy=ok')\n",
    "soup = BeautifulSoup(r.text, 'html.parser')"
   ]
  },
  {
   "cell_type": "code",
   "execution_count": 3,
   "metadata": {
    "collapsed": false
   },
   "outputs": [],
   "source": [
    "def printFieldValues(field_name):\n",
    "    for opt in soup.find('select', {'name': field_name}).find_all('option'):\n",
    "        print(opt.string, \"=\", opt['value'])"
   ]
  },
  {
   "cell_type": "markdown",
   "metadata": {},
   "source": [
    "The values of the different fields:"
   ]
  },
  {
   "cell_type": "code",
   "execution_count": 4,
   "metadata": {
    "collapsed": false
   },
   "outputs": [
    {
     "name": "stdout",
     "output_type": "stream",
     "text": [
      "=== Academic unit ===\n",
      "None = null\n",
      "Architecture = 942293\n",
      "Chimie et génie chimique = 246696\n",
      "Cours de mathématiques spéciales = 943282\n",
      "EME (EPFL Middle East) = 637841336\n",
      "Génie civil = 942623\n",
      "Génie mécanique = 944263\n",
      "Génie électrique et électronique  = 943936\n",
      "Humanités digitales = 2054839157\n",
      "Informatique = 249847\n",
      "Ingénierie financière = 120623110\n",
      "Management de la technologie = 946882\n",
      "Mathématiques = 944590\n",
      "Microtechnique = 945244\n",
      "Physique = 945571\n",
      "Science et génie des matériaux = 944917\n",
      "Sciences et ingénierie de l'environnement = 942953\n",
      "Sciences et technologies du vivant = 945901\n",
      "Section FCUE = 1574548993\n",
      "Systèmes de communication = 946228\n",
      "\n",
      "\n",
      "=== Academic period ===\n",
      "None = null\n",
      "2016-2017 = 355925344\n",
      "2015-2016 = 213638028\n",
      "2014-2015 = 213637922\n",
      "2013-2014 = 213637754\n",
      "2012-2013 = 123456101\n",
      "2011-2012 = 123455150\n",
      "2010-2011 = 39486325\n",
      "2009-2010 = 978195\n",
      "2008-2009 = 978187\n",
      "2007-2008 = 978181\n",
      "\n",
      "\n",
      "=== Pedagogic period ===\n",
      "None = null\n",
      "Bachelor semestre 1 = 249108\n",
      "Bachelor semestre 2 = 249114\n",
      "Bachelor semestre 3 = 942155\n",
      "Bachelor semestre 4 = 942163\n",
      "Bachelor semestre 5 = 942120\n",
      "Bachelor semestre 5b = 2226768\n",
      "Bachelor semestre 6 = 942175\n",
      "Bachelor semestre 6b = 2226785\n",
      "Master semestre 1 = 2230106\n",
      "Master semestre 2 = 942192\n",
      "Master semestre 3 = 2230128\n",
      "Master semestre 4 = 2230140\n",
      "Mineur semestre 1 = 2335667\n",
      "Mineur semestre 2 = 2335676\n",
      "Mise à niveau = 2063602308\n",
      "Projet Master automne = 249127\n",
      "Projet Master printemps = 3781783\n",
      "Semestre automne = 953159\n",
      "Semestre printemps = 2754553\n",
      "Stage automne 3ème année = 953137\n",
      "Stage automne 4ème année = 2226616\n",
      "Stage printemps 3ème année = 983606\n",
      "Stage printemps 4ème année = 2226626\n",
      "Stage printemps master = 2227132\n"
     ]
    }
   ],
   "source": [
    "# Academic unit\n",
    "print(\"=== Academic unit ===\")\n",
    "printFieldValues('ww_x_UNITE_ACAD')\n",
    "\n",
    "# Academic period\n",
    "print(\"\\n\\n=== Academic period ===\")\n",
    "printFieldValues('ww_x_PERIODE_ACAD')\n",
    "\n",
    "# Pedagogic period\n",
    "print(\"\\n\\n=== Pedagogic period ===\")\n",
    "printFieldValues('ww_x_PERIODE_PEDAGO')"
   ]
  },
  {
   "cell_type": "markdown",
   "metadata": {},
   "source": [
    "To make the code more readable we define enums containing these values:"
   ]
  },
  {
   "cell_type": "code",
   "execution_count": 5,
   "metadata": {
    "collapsed": false
   },
   "outputs": [],
   "source": [
    "# Define ISA codes\n",
    "\n",
    "class AcademicUnit(Enum):\n",
    "    Informatique = 249847\n",
    "    \n",
    "class AcademicPeriod(Enum):\n",
    "    y20162017  =  355925344\n",
    "    y20152016  =  213638028\n",
    "    y20142015  =  213637922\n",
    "    y20132014  =  213637754\n",
    "    y20122013  =  123456101\n",
    "    y20112012  =  123455150\n",
    "    y20102011  =  39486325\n",
    "    y20092010  =  978195\n",
    "    y20082009  =  978187\n",
    "    y20072008  =  978181\n",
    "    \n",
    "class PedagogicPeriod(Enum):\n",
    "    Bachelor1  =  249108\n",
    "    Bachelor2  =  249114\n",
    "    Bachelor3  =  942155\n",
    "    Bachelor4  =  942163\n",
    "    Bachelor5  =  942120\n",
    "    Bachelor6  =  942175"
   ]
  },
  {
   "cell_type": "markdown",
   "metadata": {},
   "source": [
    "We now create a function to get the data matching a filter from ISA. To do so we send a request with the given parameters to obtain the filter and the mysterious \"GPS\" value and then query the resulting table."
   ]
  },
  {
   "cell_type": "code",
   "execution_count": 6,
   "metadata": {
    "collapsed": false
   },
   "outputs": [],
   "source": [
    "def getDataTable(academicUnit, academicPeriod, pedagogicPeriod):\n",
    "    \"\"\"Get HTML table from ISA given filter values.\"\"\"\n",
    "    \n",
    "    # URLs of ISA\n",
    "    url1 = \"http://isa.epfl.ch/imoniteur_ISAP/!GEDPUBLICREPORTS.filter\"\n",
    "    url2 = \"http://isa.epfl.ch/imoniteur_ISAP/!GEDPUBLICREPORTS.html\"\n",
    "\n",
    "    # Send a first request to obtain the \"GPS\" value\n",
    "    payload1 = {\n",
    "        'ww_b_list':'1',\n",
    "        'ww_i_reportmodel':'133685247',\n",
    "        'ww_c_langue':'',\n",
    "        'ww_i_reportModelXsl':'133685270',\n",
    "        'zz_x_UNITE_ACAD':'',\n",
    "        'ww_x_UNITE_ACAD': academicUnit.value,\n",
    "        'zz_x_PERIODE_ACAD':'',\n",
    "        'ww_x_PERIODE_ACAD': academicPeriod.value,\n",
    "        'zz_x_PERIODE_PEDAGO':'',\n",
    "        'ww_x_PERIODE_PEDAGO': pedagogicPeriod.value,\n",
    "        'zz_x_HIVERETE':'',\n",
    "        'ww_x_HIVERETE': 'null',\n",
    "        'dummy':'ok'\n",
    "    }\n",
    "\n",
    "    # Get the GPS value in the response (it is in the second link with \"ww_x_GPS\" class)\n",
    "    r1 = requests.get(url1, payload1)\n",
    "    soup = BeautifulSoup(r1.text, 'html.parser')\n",
    "    gps = re.search(\"\\d+\",soup.find_all('a', {'class': 'ww_x_GPS'})[1]['onclick']).group(0)\n",
    "\n",
    "    # Send the request to obtain the table\n",
    "    payload2 = {\n",
    "        'ww_x_GPS':gps,\n",
    "        'ww_i_reportModel':'133685247',\n",
    "        'ww_i_reportModelXsl':'133685270',\n",
    "        'ww_x_UNITE_ACAD': academicUnit.value,\n",
    "        'ww_x_PERIODE_ACAD': academicPeriod.value,\n",
    "        'ww_x_PERIODE_PEDAGO': pedagogicPeriod.value,\n",
    "        'ww_x_HIVERETE': 'null'\n",
    "    }\n",
    "\n",
    "    # Return the table\n",
    "    r2 = requests.get(url2,payload2)\n",
    "    soup = BeautifulSoup(r2.text, 'html.parser')\n",
    "    \n",
    "    return soup.find('table')\n"
   ]
  },
  {
   "cell_type": "markdown",
   "metadata": {},
   "source": [
    "And then we create a function to build a DataFrame from the HTML table:"
   ]
  },
  {
   "cell_type": "code",
   "execution_count": 7,
   "metadata": {
    "collapsed": false
   },
   "outputs": [],
   "source": [
    "def parseTable(table, master=False):\n",
    "    \"\"\"Parses an HTML table from ISA and returns a dataframe with it's relevant content.\"\"\"\n",
    "    rows = map(lambda x: x.find_all('td'), table.find_all('tr')[2:])\n",
    "    data = []\n",
    "    \n",
    "    for row in rows:\n",
    "        if(master):\n",
    "            data.append({'Civility': row[0].string, 'Name': row[1].string, 'Specialisation': row[4].string,\n",
    "                         'Minor': row[6].string, 'Sciper': row[10].string})\n",
    "        else:\n",
    "            data.append({'Civility': row[0].string, 'Name': row[1].string, 'Sciper': row[10].string})\n",
    "        \n",
    "    return pd.DataFrame(data)\n",
    "    "
   ]
  },
  {
   "cell_type": "markdown",
   "metadata": {},
   "source": [
    "Now we can fetch bachelor student's data from ISA (takes a long time to execute, ~ 1 minute):"
   ]
  },
  {
   "cell_type": "code",
   "execution_count": 8,
   "metadata": {
    "collapsed": false
   },
   "outputs": [
    {
     "data": {
      "text/html": [
       "<div>\n",
       "<table border=\"1\" class=\"dataframe\">\n",
       "  <thead>\n",
       "    <tr style=\"text-align: right;\">\n",
       "      <th></th>\n",
       "      <th>Civility</th>\n",
       "      <th>Name</th>\n",
       "      <th>Sciper</th>\n",
       "      <th>Year</th>\n",
       "      <th>Semester</th>\n",
       "    </tr>\n",
       "  </thead>\n",
       "  <tbody>\n",
       "    <tr>\n",
       "      <th>0</th>\n",
       "      <td>Monsieur</td>\n",
       "      <td>Abbey Alexandre</td>\n",
       "      <td>235688</td>\n",
       "      <td>y20162017</td>\n",
       "      <td>Bachelor1</td>\n",
       "    </tr>\n",
       "    <tr>\n",
       "      <th>1</th>\n",
       "      <td>Monsieur</td>\n",
       "      <td>Ahn Seongho</td>\n",
       "      <td>274015</td>\n",
       "      <td>y20162017</td>\n",
       "      <td>Bachelor1</td>\n",
       "    </tr>\n",
       "    <tr>\n",
       "      <th>2</th>\n",
       "      <td>Madame</td>\n",
       "      <td>Alemanno Sara</td>\n",
       "      <td>268410</td>\n",
       "      <td>y20162017</td>\n",
       "      <td>Bachelor1</td>\n",
       "    </tr>\n",
       "    <tr>\n",
       "      <th>3</th>\n",
       "      <td>Monsieur</td>\n",
       "      <td>Althaus Luca</td>\n",
       "      <td>271464</td>\n",
       "      <td>y20162017</td>\n",
       "      <td>Bachelor1</td>\n",
       "    </tr>\n",
       "    <tr>\n",
       "      <th>4</th>\n",
       "      <td>Monsieur</td>\n",
       "      <td>Assi Karim</td>\n",
       "      <td>274518</td>\n",
       "      <td>y20162017</td>\n",
       "      <td>Bachelor1</td>\n",
       "    </tr>\n",
       "    <tr>\n",
       "      <th>5</th>\n",
       "      <td>Monsieur</td>\n",
       "      <td>Badoux Luc-Antoine</td>\n",
       "      <td>249613</td>\n",
       "      <td>y20162017</td>\n",
       "      <td>Bachelor1</td>\n",
       "    </tr>\n",
       "    <tr>\n",
       "      <th>6</th>\n",
       "      <td>Monsieur</td>\n",
       "      <td>Bagnoud Jérôme</td>\n",
       "      <td>262214</td>\n",
       "      <td>y20162017</td>\n",
       "      <td>Bachelor1</td>\n",
       "    </tr>\n",
       "    <tr>\n",
       "      <th>7</th>\n",
       "      <td>Monsieur</td>\n",
       "      <td>Barbaras Yann Quentin</td>\n",
       "      <td>262239</td>\n",
       "      <td>y20162017</td>\n",
       "      <td>Bachelor1</td>\n",
       "    </tr>\n",
       "    <tr>\n",
       "      <th>8</th>\n",
       "      <td>Monsieur</td>\n",
       "      <td>Barras Luca</td>\n",
       "      <td>257916</td>\n",
       "      <td>y20162017</td>\n",
       "      <td>Bachelor1</td>\n",
       "    </tr>\n",
       "    <tr>\n",
       "      <th>9</th>\n",
       "      <td>Madame</td>\n",
       "      <td>Barsi Clémence Marie Sabine</td>\n",
       "      <td>271508</td>\n",
       "      <td>y20162017</td>\n",
       "      <td>Bachelor1</td>\n",
       "    </tr>\n",
       "    <tr>\n",
       "      <th>10</th>\n",
       "      <td>Monsieur</td>\n",
       "      <td>Baudat Adrian</td>\n",
       "      <td>269521</td>\n",
       "      <td>y20162017</td>\n",
       "      <td>Bachelor1</td>\n",
       "    </tr>\n",
       "    <tr>\n",
       "      <th>11</th>\n",
       "      <td>Monsieur</td>\n",
       "      <td>Baudet Sébastien</td>\n",
       "      <td>266684</td>\n",
       "      <td>y20162017</td>\n",
       "      <td>Bachelor1</td>\n",
       "    </tr>\n",
       "    <tr>\n",
       "      <th>12</th>\n",
       "      <td>Monsieur</td>\n",
       "      <td>Ben Achour Ghazi</td>\n",
       "      <td>258071</td>\n",
       "      <td>y20162017</td>\n",
       "      <td>Bachelor1</td>\n",
       "    </tr>\n",
       "    <tr>\n",
       "      <th>13</th>\n",
       "      <td>Madame</td>\n",
       "      <td>Ben Ali Ariane Leila Marie</td>\n",
       "      <td>271608</td>\n",
       "      <td>y20162017</td>\n",
       "      <td>Bachelor1</td>\n",
       "    </tr>\n",
       "    <tr>\n",
       "      <th>14</th>\n",
       "      <td>Monsieur</td>\n",
       "      <td>Ben Hassen Nour</td>\n",
       "      <td>204625</td>\n",
       "      <td>y20162017</td>\n",
       "      <td>Bachelor1</td>\n",
       "    </tr>\n",
       "    <tr>\n",
       "      <th>15</th>\n",
       "      <td>Monsieur</td>\n",
       "      <td>Ben Naceur Walid Aymen</td>\n",
       "      <td>273765</td>\n",
       "      <td>y20162017</td>\n",
       "      <td>Bachelor1</td>\n",
       "    </tr>\n",
       "    <tr>\n",
       "      <th>16</th>\n",
       "      <td>Monsieur</td>\n",
       "      <td>Benitez Angulo Nicolas</td>\n",
       "      <td>266668</td>\n",
       "      <td>y20162017</td>\n",
       "      <td>Bachelor1</td>\n",
       "    </tr>\n",
       "    <tr>\n",
       "      <th>17</th>\n",
       "      <td>Monsieur</td>\n",
       "      <td>Bensoussan Jérémy</td>\n",
       "      <td>269502</td>\n",
       "      <td>y20162017</td>\n",
       "      <td>Bachelor1</td>\n",
       "    </tr>\n",
       "    <tr>\n",
       "      <th>18</th>\n",
       "      <td>Monsieur</td>\n",
       "      <td>Berla Francesco</td>\n",
       "      <td>274748</td>\n",
       "      <td>y20162017</td>\n",
       "      <td>Bachelor1</td>\n",
       "    </tr>\n",
       "    <tr>\n",
       "      <th>19</th>\n",
       "      <td>Monsieur</td>\n",
       "      <td>Beuret Florian</td>\n",
       "      <td>274746</td>\n",
       "      <td>y20162017</td>\n",
       "      <td>Bachelor1</td>\n",
       "    </tr>\n",
       "    <tr>\n",
       "      <th>20</th>\n",
       "      <td>Madame</td>\n",
       "      <td>Biryukov Alice</td>\n",
       "      <td>270953</td>\n",
       "      <td>y20162017</td>\n",
       "      <td>Bachelor1</td>\n",
       "    </tr>\n",
       "    <tr>\n",
       "      <th>21</th>\n",
       "      <td>Monsieur</td>\n",
       "      <td>Bloem Yannick</td>\n",
       "      <td>262179</td>\n",
       "      <td>y20162017</td>\n",
       "      <td>Bachelor1</td>\n",
       "    </tr>\n",
       "    <tr>\n",
       "      <th>22</th>\n",
       "      <td>Madame</td>\n",
       "      <td>Bochatay Séverine</td>\n",
       "      <td>274751</td>\n",
       "      <td>y20162017</td>\n",
       "      <td>Bachelor1</td>\n",
       "    </tr>\n",
       "    <tr>\n",
       "      <th>23</th>\n",
       "      <td>Madame</td>\n",
       "      <td>Bogaert Alexia Marie-Céline Eveline</td>\n",
       "      <td>258330</td>\n",
       "      <td>y20162017</td>\n",
       "      <td>Bachelor1</td>\n",
       "    </tr>\n",
       "    <tr>\n",
       "      <th>24</th>\n",
       "      <td>Monsieur</td>\n",
       "      <td>Bonatti Raphael</td>\n",
       "      <td>260772</td>\n",
       "      <td>y20162017</td>\n",
       "      <td>Bachelor1</td>\n",
       "    </tr>\n",
       "    <tr>\n",
       "      <th>25</th>\n",
       "      <td>Monsieur</td>\n",
       "      <td>Bonjour Jonatan</td>\n",
       "      <td>189560</td>\n",
       "      <td>y20162017</td>\n",
       "      <td>Bachelor1</td>\n",
       "    </tr>\n",
       "    <tr>\n",
       "      <th>26</th>\n",
       "      <td>Madame</td>\n",
       "      <td>Boross Mathilde</td>\n",
       "      <td>270349</td>\n",
       "      <td>y20162017</td>\n",
       "      <td>Bachelor1</td>\n",
       "    </tr>\n",
       "    <tr>\n",
       "      <th>27</th>\n",
       "      <td>Monsieur</td>\n",
       "      <td>Bottin Stéphane Michel</td>\n",
       "      <td>269905</td>\n",
       "      <td>y20162017</td>\n",
       "      <td>Bachelor1</td>\n",
       "    </tr>\n",
       "    <tr>\n",
       "      <th>28</th>\n",
       "      <td>Monsieur</td>\n",
       "      <td>Boujo Max</td>\n",
       "      <td>275608</td>\n",
       "      <td>y20162017</td>\n",
       "      <td>Bachelor1</td>\n",
       "    </tr>\n",
       "    <tr>\n",
       "      <th>29</th>\n",
       "      <td>Monsieur</td>\n",
       "      <td>Boulaguiem Saad</td>\n",
       "      <td>263800</td>\n",
       "      <td>y20162017</td>\n",
       "      <td>Bachelor1</td>\n",
       "    </tr>\n",
       "    <tr>\n",
       "      <th>...</th>\n",
       "      <td>...</td>\n",
       "      <td>...</td>\n",
       "      <td>...</td>\n",
       "      <td>...</td>\n",
       "      <td>...</td>\n",
       "    </tr>\n",
       "    <tr>\n",
       "      <th>8</th>\n",
       "      <td>Monsieur</td>\n",
       "      <td>Conus Johann</td>\n",
       "      <td>153762</td>\n",
       "      <td>y20072008</td>\n",
       "      <td>Bachelor6</td>\n",
       "    </tr>\n",
       "    <tr>\n",
       "      <th>9</th>\n",
       "      <td>Monsieur</td>\n",
       "      <td>Delort Vincent</td>\n",
       "      <td>166548</td>\n",
       "      <td>y20072008</td>\n",
       "      <td>Bachelor6</td>\n",
       "    </tr>\n",
       "    <tr>\n",
       "      <th>10</th>\n",
       "      <td>Monsieur</td>\n",
       "      <td>Donzé Benjamin</td>\n",
       "      <td>166746</td>\n",
       "      <td>y20072008</td>\n",
       "      <td>Bachelor6</td>\n",
       "    </tr>\n",
       "    <tr>\n",
       "      <th>11</th>\n",
       "      <td>Monsieur</td>\n",
       "      <td>Dos Santos Patrick</td>\n",
       "      <td>166748</td>\n",
       "      <td>y20072008</td>\n",
       "      <td>Bachelor6</td>\n",
       "    </tr>\n",
       "    <tr>\n",
       "      <th>12</th>\n",
       "      <td>Monsieur</td>\n",
       "      <td>Droz Olivier</td>\n",
       "      <td>166751</td>\n",
       "      <td>y20072008</td>\n",
       "      <td>Bachelor6</td>\n",
       "    </tr>\n",
       "    <tr>\n",
       "      <th>13</th>\n",
       "      <td>Monsieur</td>\n",
       "      <td>Eberle Julien</td>\n",
       "      <td>170414</td>\n",
       "      <td>y20072008</td>\n",
       "      <td>Bachelor6</td>\n",
       "    </tr>\n",
       "    <tr>\n",
       "      <th>14</th>\n",
       "      <td>Monsieur</td>\n",
       "      <td>Genet Henry</td>\n",
       "      <td>166889</td>\n",
       "      <td>y20072008</td>\n",
       "      <td>Bachelor6</td>\n",
       "    </tr>\n",
       "    <tr>\n",
       "      <th>15</th>\n",
       "      <td>Madame</td>\n",
       "      <td>Grivet Ekaterina</td>\n",
       "      <td>161091</td>\n",
       "      <td>y20072008</td>\n",
       "      <td>Bachelor6</td>\n",
       "    </tr>\n",
       "    <tr>\n",
       "      <th>16</th>\n",
       "      <td>Madame</td>\n",
       "      <td>Javanmardy Khameneh Maryam</td>\n",
       "      <td>173604</td>\n",
       "      <td>y20072008</td>\n",
       "      <td>Bachelor6</td>\n",
       "    </tr>\n",
       "    <tr>\n",
       "      <th>17</th>\n",
       "      <td>Madame</td>\n",
       "      <td>Jesse Julia</td>\n",
       "      <td>159998</td>\n",
       "      <td>y20072008</td>\n",
       "      <td>Bachelor6</td>\n",
       "    </tr>\n",
       "    <tr>\n",
       "      <th>18</th>\n",
       "      <td>Monsieur</td>\n",
       "      <td>Joneja Vishal</td>\n",
       "      <td>170833</td>\n",
       "      <td>y20072008</td>\n",
       "      <td>Bachelor6</td>\n",
       "    </tr>\n",
       "    <tr>\n",
       "      <th>19</th>\n",
       "      <td>Monsieur</td>\n",
       "      <td>Jonnalagedda Manohar</td>\n",
       "      <td>170823</td>\n",
       "      <td>y20072008</td>\n",
       "      <td>Bachelor6</td>\n",
       "    </tr>\n",
       "    <tr>\n",
       "      <th>20</th>\n",
       "      <td>Monsieur</td>\n",
       "      <td>Laprade Philippe</td>\n",
       "      <td>170241</td>\n",
       "      <td>y20072008</td>\n",
       "      <td>Bachelor6</td>\n",
       "    </tr>\n",
       "    <tr>\n",
       "      <th>21</th>\n",
       "      <td>Monsieur</td>\n",
       "      <td>Lauber Jonas</td>\n",
       "      <td>170242</td>\n",
       "      <td>y20072008</td>\n",
       "      <td>Bachelor6</td>\n",
       "    </tr>\n",
       "    <tr>\n",
       "      <th>22</th>\n",
       "      <td>Monsieur</td>\n",
       "      <td>Lorch Daniel</td>\n",
       "      <td>165562</td>\n",
       "      <td>y20072008</td>\n",
       "      <td>Bachelor6</td>\n",
       "    </tr>\n",
       "    <tr>\n",
       "      <th>23</th>\n",
       "      <td>Monsieur</td>\n",
       "      <td>Ly Papa Alioune</td>\n",
       "      <td>167007</td>\n",
       "      <td>y20072008</td>\n",
       "      <td>Bachelor6</td>\n",
       "    </tr>\n",
       "    <tr>\n",
       "      <th>24</th>\n",
       "      <td>Monsieur</td>\n",
       "      <td>Mader Arnaud</td>\n",
       "      <td>166260</td>\n",
       "      <td>y20072008</td>\n",
       "      <td>Bachelor6</td>\n",
       "    </tr>\n",
       "    <tr>\n",
       "      <th>25</th>\n",
       "      <td>Monsieur</td>\n",
       "      <td>Marfurt Nicolas</td>\n",
       "      <td>167313</td>\n",
       "      <td>y20072008</td>\n",
       "      <td>Bachelor6</td>\n",
       "    </tr>\n",
       "    <tr>\n",
       "      <th>26</th>\n",
       "      <td>Monsieur</td>\n",
       "      <td>Neu Raoul</td>\n",
       "      <td>171028</td>\n",
       "      <td>y20072008</td>\n",
       "      <td>Bachelor6</td>\n",
       "    </tr>\n",
       "    <tr>\n",
       "      <th>27</th>\n",
       "      <td>Monsieur</td>\n",
       "      <td>Nguyen-Xuan Jérémy</td>\n",
       "      <td>167386</td>\n",
       "      <td>y20072008</td>\n",
       "      <td>Bachelor6</td>\n",
       "    </tr>\n",
       "    <tr>\n",
       "      <th>28</th>\n",
       "      <td>Monsieur</td>\n",
       "      <td>Raja Yanick</td>\n",
       "      <td>159516</td>\n",
       "      <td>y20072008</td>\n",
       "      <td>Bachelor6</td>\n",
       "    </tr>\n",
       "    <tr>\n",
       "      <th>29</th>\n",
       "      <td>Monsieur</td>\n",
       "      <td>Sahy François</td>\n",
       "      <td>161127</td>\n",
       "      <td>y20072008</td>\n",
       "      <td>Bachelor6</td>\n",
       "    </tr>\n",
       "    <tr>\n",
       "      <th>30</th>\n",
       "      <td>Monsieur</td>\n",
       "      <td>Smaga Jérémie</td>\n",
       "      <td>170931</td>\n",
       "      <td>y20072008</td>\n",
       "      <td>Bachelor6</td>\n",
       "    </tr>\n",
       "    <tr>\n",
       "      <th>31</th>\n",
       "      <td>Monsieur</td>\n",
       "      <td>Tangui Achraf</td>\n",
       "      <td>167045</td>\n",
       "      <td>y20072008</td>\n",
       "      <td>Bachelor6</td>\n",
       "    </tr>\n",
       "    <tr>\n",
       "      <th>32</th>\n",
       "      <td>Monsieur</td>\n",
       "      <td>Tourino Pablo</td>\n",
       "      <td>161220</td>\n",
       "      <td>y20072008</td>\n",
       "      <td>Bachelor6</td>\n",
       "    </tr>\n",
       "    <tr>\n",
       "      <th>33</th>\n",
       "      <td>Monsieur</td>\n",
       "      <td>Treccani Adrien</td>\n",
       "      <td>170975</td>\n",
       "      <td>y20072008</td>\n",
       "      <td>Bachelor6</td>\n",
       "    </tr>\n",
       "    <tr>\n",
       "      <th>34</th>\n",
       "      <td>Monsieur</td>\n",
       "      <td>Vallat Xavier</td>\n",
       "      <td>167530</td>\n",
       "      <td>y20072008</td>\n",
       "      <td>Bachelor6</td>\n",
       "    </tr>\n",
       "    <tr>\n",
       "      <th>35</th>\n",
       "      <td>Monsieur</td>\n",
       "      <td>Vogt Pascal</td>\n",
       "      <td>170265</td>\n",
       "      <td>y20072008</td>\n",
       "      <td>Bachelor6</td>\n",
       "    </tr>\n",
       "    <tr>\n",
       "      <th>36</th>\n",
       "      <td>Monsieur</td>\n",
       "      <td>Waldmeyer Marc</td>\n",
       "      <td>167439</td>\n",
       "      <td>y20072008</td>\n",
       "      <td>Bachelor6</td>\n",
       "    </tr>\n",
       "    <tr>\n",
       "      <th>37</th>\n",
       "      <td>Monsieur</td>\n",
       "      <td>Züger Walter</td>\n",
       "      <td>171042</td>\n",
       "      <td>y20072008</td>\n",
       "      <td>Bachelor6</td>\n",
       "    </tr>\n",
       "  </tbody>\n",
       "</table>\n",
       "<p>5793 rows × 5 columns</p>\n",
       "</div>"
      ],
      "text/plain": [
       "    Civility                                 Name  Sciper       Year  \\\n",
       "0   Monsieur                      Abbey Alexandre  235688  y20162017   \n",
       "1   Monsieur                          Ahn Seongho  274015  y20162017   \n",
       "2     Madame                        Alemanno Sara  268410  y20162017   \n",
       "3   Monsieur                         Althaus Luca  271464  y20162017   \n",
       "4   Monsieur                           Assi Karim  274518  y20162017   \n",
       "5   Monsieur                   Badoux Luc-Antoine  249613  y20162017   \n",
       "6   Monsieur                       Bagnoud Jérôme  262214  y20162017   \n",
       "7   Monsieur                Barbaras Yann Quentin  262239  y20162017   \n",
       "8   Monsieur                          Barras Luca  257916  y20162017   \n",
       "9     Madame          Barsi Clémence Marie Sabine  271508  y20162017   \n",
       "10  Monsieur                        Baudat Adrian  269521  y20162017   \n",
       "11  Monsieur                     Baudet Sébastien  266684  y20162017   \n",
       "12  Monsieur                     Ben Achour Ghazi  258071  y20162017   \n",
       "13    Madame           Ben Ali Ariane Leila Marie  271608  y20162017   \n",
       "14  Monsieur                      Ben Hassen Nour  204625  y20162017   \n",
       "15  Monsieur               Ben Naceur Walid Aymen  273765  y20162017   \n",
       "16  Monsieur               Benitez Angulo Nicolas  266668  y20162017   \n",
       "17  Monsieur                    Bensoussan Jérémy  269502  y20162017   \n",
       "18  Monsieur                      Berla Francesco  274748  y20162017   \n",
       "19  Monsieur                       Beuret Florian  274746  y20162017   \n",
       "20    Madame                       Biryukov Alice  270953  y20162017   \n",
       "21  Monsieur                        Bloem Yannick  262179  y20162017   \n",
       "22    Madame                    Bochatay Séverine  274751  y20162017   \n",
       "23    Madame  Bogaert Alexia Marie-Céline Eveline  258330  y20162017   \n",
       "24  Monsieur                      Bonatti Raphael  260772  y20162017   \n",
       "25  Monsieur                      Bonjour Jonatan  189560  y20162017   \n",
       "26    Madame                      Boross Mathilde  270349  y20162017   \n",
       "27  Monsieur               Bottin Stéphane Michel  269905  y20162017   \n",
       "28  Monsieur                            Boujo Max  275608  y20162017   \n",
       "29  Monsieur                      Boulaguiem Saad  263800  y20162017   \n",
       "..       ...                                  ...     ...        ...   \n",
       "8   Monsieur                         Conus Johann  153762  y20072008   \n",
       "9   Monsieur                       Delort Vincent  166548  y20072008   \n",
       "10  Monsieur                       Donzé Benjamin  166746  y20072008   \n",
       "11  Monsieur                   Dos Santos Patrick  166748  y20072008   \n",
       "12  Monsieur                         Droz Olivier  166751  y20072008   \n",
       "13  Monsieur                        Eberle Julien  170414  y20072008   \n",
       "14  Monsieur                          Genet Henry  166889  y20072008   \n",
       "15    Madame                     Grivet Ekaterina  161091  y20072008   \n",
       "16    Madame           Javanmardy Khameneh Maryam  173604  y20072008   \n",
       "17    Madame                          Jesse Julia  159998  y20072008   \n",
       "18  Monsieur                        Joneja Vishal  170833  y20072008   \n",
       "19  Monsieur                 Jonnalagedda Manohar  170823  y20072008   \n",
       "20  Monsieur                     Laprade Philippe  170241  y20072008   \n",
       "21  Monsieur                         Lauber Jonas  170242  y20072008   \n",
       "22  Monsieur                         Lorch Daniel  165562  y20072008   \n",
       "23  Monsieur                      Ly Papa Alioune  167007  y20072008   \n",
       "24  Monsieur                         Mader Arnaud  166260  y20072008   \n",
       "25  Monsieur                      Marfurt Nicolas  167313  y20072008   \n",
       "26  Monsieur                            Neu Raoul  171028  y20072008   \n",
       "27  Monsieur                   Nguyen-Xuan Jérémy  167386  y20072008   \n",
       "28  Monsieur                          Raja Yanick  159516  y20072008   \n",
       "29  Monsieur                        Sahy François  161127  y20072008   \n",
       "30  Monsieur                        Smaga Jérémie  170931  y20072008   \n",
       "31  Monsieur                        Tangui Achraf  167045  y20072008   \n",
       "32  Monsieur                        Tourino Pablo  161220  y20072008   \n",
       "33  Monsieur                      Treccani Adrien  170975  y20072008   \n",
       "34  Monsieur                        Vallat Xavier  167530  y20072008   \n",
       "35  Monsieur                          Vogt Pascal  170265  y20072008   \n",
       "36  Monsieur                       Waldmeyer Marc  167439  y20072008   \n",
       "37  Monsieur                         Züger Walter  171042  y20072008   \n",
       "\n",
       "     Semester  \n",
       "0   Bachelor1  \n",
       "1   Bachelor1  \n",
       "2   Bachelor1  \n",
       "3   Bachelor1  \n",
       "4   Bachelor1  \n",
       "5   Bachelor1  \n",
       "6   Bachelor1  \n",
       "7   Bachelor1  \n",
       "8   Bachelor1  \n",
       "9   Bachelor1  \n",
       "10  Bachelor1  \n",
       "11  Bachelor1  \n",
       "12  Bachelor1  \n",
       "13  Bachelor1  \n",
       "14  Bachelor1  \n",
       "15  Bachelor1  \n",
       "16  Bachelor1  \n",
       "17  Bachelor1  \n",
       "18  Bachelor1  \n",
       "19  Bachelor1  \n",
       "20  Bachelor1  \n",
       "21  Bachelor1  \n",
       "22  Bachelor1  \n",
       "23  Bachelor1  \n",
       "24  Bachelor1  \n",
       "25  Bachelor1  \n",
       "26  Bachelor1  \n",
       "27  Bachelor1  \n",
       "28  Bachelor1  \n",
       "29  Bachelor1  \n",
       "..        ...  \n",
       "8   Bachelor6  \n",
       "9   Bachelor6  \n",
       "10  Bachelor6  \n",
       "11  Bachelor6  \n",
       "12  Bachelor6  \n",
       "13  Bachelor6  \n",
       "14  Bachelor6  \n",
       "15  Bachelor6  \n",
       "16  Bachelor6  \n",
       "17  Bachelor6  \n",
       "18  Bachelor6  \n",
       "19  Bachelor6  \n",
       "20  Bachelor6  \n",
       "21  Bachelor6  \n",
       "22  Bachelor6  \n",
       "23  Bachelor6  \n",
       "24  Bachelor6  \n",
       "25  Bachelor6  \n",
       "26  Bachelor6  \n",
       "27  Bachelor6  \n",
       "28  Bachelor6  \n",
       "29  Bachelor6  \n",
       "30  Bachelor6  \n",
       "31  Bachelor6  \n",
       "32  Bachelor6  \n",
       "33  Bachelor6  \n",
       "34  Bachelor6  \n",
       "35  Bachelor6  \n",
       "36  Bachelor6  \n",
       "37  Bachelor6  \n",
       "\n",
       "[5793 rows x 5 columns]"
      ]
     },
     "execution_count": 8,
     "metadata": {},
     "output_type": "execute_result"
    }
   ],
   "source": [
    "# This takes a long time to execute !\n",
    "\n",
    "compiled_data = []\n",
    "\n",
    "for year in AcademicPeriod:\n",
    "    for semester in PedagogicPeriod:\n",
    "        data = parseTable(getDataTable(AcademicUnit.Informatique, year, semester))\n",
    "        data['Year'] = year.name\n",
    "        data['Semester'] = semester.name\n",
    "        compiled_data.append(data)\n",
    "        \n",
    "bachelor = pd.concat(compiled_data)\n",
    "bachelor"
   ]
  },
  {
   "cell_type": "markdown",
   "metadata": {},
   "source": [
    "Now that we have the data we can process it:\n",
    "- First we filter out students that do not appear in semester 1 and 6,\n",
    "- Then we count the number of semester they took for their bachelor,\n",
    "- Finally we display the average duration by gender."
   ]
  },
  {
   "cell_type": "code",
   "execution_count": 9,
   "metadata": {
    "collapsed": false
   },
   "outputs": [],
   "source": [
    "# Find out which students are registered in semester 1 and 6\n",
    "bachelor1 = bachelor[bachelor['Semester'] == 'Bachelor1']\n",
    "bachelor6 = bachelor[bachelor['Semester'] == 'Bachelor6']\n",
    "bachelor_complete = pd.merge(bachelor1, bachelor6, how='inner', on=['Sciper'])['Sciper']\n",
    "\n",
    "# Keep those from the whole list\n",
    "bachelor_complete = bachelor[bachelor['Sciper'].isin(bachelor_complete)]\n",
    "\n",
    "# Let's count how many semesters they took for their bachelor\n",
    "bc_sem_count = bachelor_complete[['Sciper']].copy()\n",
    "bc_sem_count['Month count'] = 6\n",
    "bc_sem_count = bc_sem_count.groupby('Sciper').sum()\n",
    "\n",
    "# Give them thier civility back\n",
    "civilities = bachelor[['Sciper', 'Civility']].drop_duplicates()\n",
    "bc_sem_count = civilities.join(bc_sem_count, how='inner', on='Sciper')"
   ]
  },
  {
   "cell_type": "code",
   "execution_count": 10,
   "metadata": {
    "collapsed": false
   },
   "outputs": [],
   "source": [
    "# Assumption: can't finish EPFL in less than 36 months (In this case there is only one dude that is filtered out)\n",
    "bc_sem_count = bc_sem_count[bc_sem_count['Month count'] >= 36]"
   ]
  },
  {
   "cell_type": "code",
   "execution_count": 11,
   "metadata": {
    "collapsed": false
   },
   "outputs": [
    {
     "data": {
      "text/plain": [
       "<matplotlib.axes._subplots.AxesSubplot at 0x216aee7a978>"
      ]
     },
     "execution_count": 11,
     "metadata": {},
     "output_type": "execute_result"
    },
    {
     "data": {
      "image/png": "[encoded data removed]",
      "text/plain": [
       "<matplotlib.figure.Figure at 0x216a99d33c8>"
      ]
     },
     "metadata": {},
     "output_type": "display_data"
    }
   ],
   "source": [
    "# Distribution of the number of month spent \n",
    "bc_sem_count[['Month count']].groupby('Month count').size().plot(kind='bar')"
   ]
  },
  {
   "cell_type": "code",
   "execution_count": 12,
   "metadata": {
    "collapsed": false
   },
   "outputs": [
    {
     "data": {
      "text/plain": [
       "<matplotlib.axes._subplots.AxesSubplot at 0x216a99d35c0>"
      ]
     },
     "execution_count": 12,
     "metadata": {},
     "output_type": "execute_result"
    },
    {
     "data": {
      "image/png": "[encoded data removed]",
      "text/plain": [
       "<matplotlib.figure.Figure at 0x216af2943c8>"
      ]
     },
     "metadata": {},
     "output_type": "display_data"
    }
   ],
   "source": [
    "# Distribution of man vs woman\n",
    "bc_sem_count.groupby('Civility').size().plot(kind='pie')"
   ]
  },
  {
   "cell_type": "code",
   "execution_count": 13,
   "metadata": {
    "collapsed": false
   },
   "outputs": [
    {
     "data": {
      "text/plain": [
       "<matplotlib.text.Text at 0x216af7e2da0>"
      ]
     },
     "execution_count": 13,
     "metadata": {},
     "output_type": "execute_result"
    },
    {
     "data": {
      "image/png": "[encoded data removed]",
      "text/plain": [
       "<matplotlib.figure.Figure at 0x216af788128>"
      ]
     },
     "metadata": {},
     "output_type": "display_data"
    }
   ],
   "source": [
    "# Distribution for women\n",
    "gpMa = bc_sem_count.groupby('Civility').get_group('Madame')\n",
    "sMa = gpMa.count()[0]\n",
    "ax = gpMa.groupby('Month count').size().map(lambda x: 100*x/sMa).plot(kind='bar')\n",
    "ax.set_ylabel('%')"
   ]
  },
  {
   "cell_type": "code",
   "execution_count": 14,
   "metadata": {
    "collapsed": false
   },
   "outputs": [
    {
     "data": {
      "text/plain": [
       "<matplotlib.text.Text at 0x216af7c8f60>"
      ]
     },
     "execution_count": 14,
     "metadata": {},
     "output_type": "execute_result"
    },
    {
     "data": {
      "image/png": "[encoded data removed]",
      "text/plain": [
       "<matplotlib.figure.Figure at 0x216af7f2fd0>"
      ]
     },
     "metadata": {},
     "output_type": "display_data"
    }
   ],
   "source": [
    "# Distribution for men\n",
    "gpMo = bc_sem_count.groupby('Civility').get_group('Monsieur')\n",
    "sMo = gpMo.count()[0]\n",
    "ax = gpMo.groupby('Month count').size().map(lambda x: 100*x/sMo).plot(kind='bar')\n",
    "ax.set_ylabel('%')"
   ]
  },
  {
   "cell_type": "code",
   "execution_count": 15,
   "metadata": {
    "collapsed": false
   },
   "outputs": [
    {
     "data": {
      "text/html": [
       "<div>\n",
       "<table border=\"1\" class=\"dataframe\">\n",
       "  <thead>\n",
       "    <tr style=\"text-align: right;\">\n",
       "      <th></th>\n",
       "      <th>Month count</th>\n",
       "    </tr>\n",
       "    <tr>\n",
       "      <th>Civility</th>\n",
       "      <th></th>\n",
       "    </tr>\n",
       "  </thead>\n",
       "  <tbody>\n",
       "    <tr>\n",
       "      <th>Madame</th>\n",
       "      <td>40.758621</td>\n",
       "    </tr>\n",
       "    <tr>\n",
       "      <th>Monsieur</th>\n",
       "      <td>42.686649</td>\n",
       "    </tr>\n",
       "  </tbody>\n",
       "</table>\n",
       "</div>"
      ],
      "text/plain": [
       "          Month count\n",
       "Civility             \n",
       "Madame      40.758621\n",
       "Monsieur    42.686649"
      ]
     },
     "execution_count": 15,
     "metadata": {},
     "output_type": "execute_result"
    }
   ],
   "source": [
    "# Compute the average bachelor duration by gender\n",
    "bc_sem_count.groupby('Civility').mean()"
   ]
  },
  {
   "cell_type": "code",
   "execution_count": 16,
   "metadata": {
    "collapsed": false
   },
   "outputs": [
    {
     "data": {
      "text/html": [
       "<div>\n",
       "<table border=\"1\" class=\"dataframe\">\n",
       "  <thead>\n",
       "    <tr style=\"text-align: right;\">\n",
       "      <th></th>\n",
       "      <th>Month count</th>\n",
       "    </tr>\n",
       "    <tr>\n",
       "      <th>Civility</th>\n",
       "      <th></th>\n",
       "    </tr>\n",
       "  </thead>\n",
       "  <tbody>\n",
       "    <tr>\n",
       "      <th>Madame</th>\n",
       "      <td>8.078433</td>\n",
       "    </tr>\n",
       "    <tr>\n",
       "      <th>Monsieur</th>\n",
       "      <td>9.182272</td>\n",
       "    </tr>\n",
       "  </tbody>\n",
       "</table>\n",
       "</div>"
      ],
      "text/plain": [
       "          Month count\n",
       "Civility             \n",
       "Madame       8.078433\n",
       "Monsieur     9.182272"
      ]
     },
     "execution_count": 16,
     "metadata": {},
     "output_type": "execute_result"
    }
   ],
   "source": [
    "# std is different\n",
    "bc_sem_count.groupby('Civility').std()"
   ]
  },
  {
   "cell_type": "markdown",
   "metadata": {},
   "source": [
    "Finally we have to decide if the difference in the means is statistically significant. To do so we will use the p-value obtained by the Two-Sample T-Test. The p-value represents the probability to observe such a difference even if the two samples are equally distributed. The Two-Sample test assumes that the two data samples are independent which is a reasonable assumption as every student is unique and passes it's exams alone."
   ]
  },
  {
   "cell_type": "code",
   "execution_count": 17,
   "metadata": {
    "collapsed": false
   },
   "outputs": [
    {
     "data": {
      "text/plain": [
       "0.22927095396453992"
      ]
     },
     "execution_count": 17,
     "metadata": {},
     "output_type": "execute_result"
    }
   ],
   "source": [
    "# Is the difference statistically significant ?\n",
    "\n",
    "male = bc_sem_count[bc_sem_count['Civility'] == 'Monsieur']['Month count']\n",
    "female = bc_sem_count[bc_sem_count['Civility'] == 'Madame']['Month count']\n",
    "\n",
    "stats.ttest_ind(a= male, b= female, equal_var=False).pvalue"
   ]
  },
  {
   "cell_type": "markdown",
   "metadata": {
    "collapsed": true
   },
   "source": [
    "With a p-value of ~22% we can see that it is not improbable to observe such a difference in the average bachelor duration if the null hypothesis is that the mean of the two groups are the same.\n",
    "\n",
    "If we were using a 95% confidence level we would fail to reject the null hypothesis, since the p-value is greater than the corresponding significance level of 5%."
   ]
  },
  {
   "cell_type": "markdown",
   "metadata": {},
   "source": [
    "# Exercise 2"
   ]
  },
  {
   "cell_type": "markdown",
   "metadata": {},
   "source": [
    "Same as before but for the master:"
   ]
  },
  {
   "cell_type": "code",
   "execution_count": 8,
   "metadata": {
    "collapsed": true
   },
   "outputs": [],
   "source": [
    "class MasterPedagogicPeriod(Enum):\n",
    "    Master1 = 2230106\n",
    "    Master2 = 942192\n",
    "    Master3 = 2230128\n",
    "    #These next three are commented out because there is no data for them.\n",
    "    #Master4 = 2230140\n",
    "    #Mineur1 = 2335667\n",
    "    #Mineur2 = 2335676\n",
    "    MasterThesisFall = 249127\n",
    "    MasterThesisSpring = 3781783"
   ]
  },
  {
   "cell_type": "markdown",
   "metadata": {},
   "source": [
    "Acquire data for Master students. This takes quite some time."
   ]
  },
  {
   "cell_type": "code",
   "execution_count": 9,
   "metadata": {
    "collapsed": false
   },
   "outputs": [],
   "source": [
    "compiled_data = []\n",
    "\n",
    "for year in AcademicPeriod:\n",
    "    for semester in MasterPedagogicPeriod:\n",
    "        data = parseTable(getDataTable(AcademicUnit.Informatique, year, semester), True)\n",
    "        data['Year'] = year.name\n",
    "        data['Semester'] = semester.name\n",
    "        compiled_data.append(data)\n",
    "        \n",
    "master = pd.concat(compiled_data)"
   ]
  },
  {
   "cell_type": "markdown",
   "metadata": {},
   "source": [
    "We are looking for people that have finished their master.\n",
    "\n",
    "Or that are finishing it this semester. That is:\n",
    "* People that are not registered this year\n",
    "* People that are finishing their master this semester, i.e. people that are in their master thesis   \n",
    "\n",
    "We assume that any master students have to at least have spent 2 semesters at EPFL. However students with a Minor or a Specialisation have to at least have spent 3 semesters at EPFL.\n"
   ]
  },
  {
   "cell_type": "code",
   "execution_count": 11,
   "metadata": {
    "collapsed": false
   },
   "outputs": [],
   "source": [
    "master_incomplete = master[(master[\"Year\"] == \"y20162017\") & (master[\"Semester\"] != \"MasterThesisFall\")]\n",
    "master_complete = master[~master[\"Sciper\"].isin(master_incomplete[\"Sciper\"])]\n",
    "master_complete_sem = master_complete.groupby(\"Sciper\").size()\n",
    "master_complete_scipers = master_complete_sem[master_complete_sem > 1]\n",
    "# Here we drop people that are not registered at least for 2 semesters "
   ]
  },
  {
   "cell_type": "code",
   "execution_count": 12,
   "metadata": {
    "collapsed": true
   },
   "outputs": [],
   "source": [
    "scipers_frame = master_complete_scipers.to_frame()\n",
    "scipers_frame.columns = [\"Month_count\"]\n",
    "scipers_frame[\"Month_count\"] = scipers_frame[\"Month_count\"]*6\n",
    "# Rename the column and multiply by 6 (number of month per semester)"
   ]
  },
  {
   "cell_type": "code",
   "execution_count": 13,
   "metadata": {
    "collapsed": false
   },
   "outputs": [],
   "source": [
    "columns_master = master_complete[[\"Sciper\", \"Minor\", \"Specialisation\"]].drop_duplicates()"
   ]
  },
  {
   "cell_type": "code",
   "execution_count": 14,
   "metadata": {
    "collapsed": false
   },
   "outputs": [],
   "source": [
    "# Join the tables to get all the columns back\n",
    "master_complete = columns_master.join(scipers_frame, how='inner', on='Sciper')"
   ]
  },
  {
   "cell_type": "code",
   "execution_count": 15,
   "metadata": {
    "collapsed": false
   },
   "outputs": [],
   "source": [
    "# Get the ones with a Minor or Spe, those one need to have spent at least 3 semesters at EPFL\n",
    "# Get also the ones that did not do any spe or minor\n",
    "minor_or_spe = master_complete[(~master_complete[\"Minor\"].isnull()) | (~master_complete[\"Specialisation\"].isnull())]\n",
    "minor_or_spe_filtered = minor_or_spe[minor_or_spe['Month_count'] >= 6*3]\n",
    "not_minor_or_spe = master_complete[~master_complete[\"Sciper\"].isin(minor_or_spe[\"Sciper\"])]\n",
    "# Remove the ones that did 2 minor or spe\n",
    "master_finished = pd.concat([minor_or_spe_filtered, not_minor_or_spe]).drop_duplicates(subset=['Sciper'])"
   ]
  },
  {
   "cell_type": "code",
   "execution_count": 16,
   "metadata": {
    "collapsed": false
   },
   "outputs": [
    {
     "data": {
      "text/plain": [
       "<matplotlib.axes._subplots.AxesSubplot at 0x1d83d2ef3c8>"
      ]
     },
     "execution_count": 16,
     "metadata": {},
     "output_type": "execute_result"
    },
    {
     "data": {
      "image/png": "[encoded data removed]",
      "text/plain": [
       "<matplotlib.figure.Figure at 0x1d83d2b97f0>"
      ]
     },
     "metadata": {},
     "output_type": "display_data"
    }
   ],
   "source": [
    "# Distribution of months spent at EPFL \n",
    "master_finished['Month_count'].hist()"
   ]
  },
  {
   "cell_type": "code",
   "execution_count": 81,
   "metadata": {
    "collapsed": false
   },
   "outputs": [
    {
     "data": {
      "text/plain": [
       "20.364485981308412"
      ]
     },
     "execution_count": 81,
     "metadata": {},
     "output_type": "execute_result"
    }
   ],
   "source": [
    "# Calculate \"average stay at EPFL\"\n",
    "master_finished['Month_count'].mean()"
   ]
  },
  {
   "cell_type": "code",
   "execution_count": 23,
   "metadata": {
    "collapsed": false
   },
   "outputs": [
    {
     "data": {
      "text/html": [
       "<div>\n",
       "<table border=\"1\" class=\"dataframe\">\n",
       "  <thead>\n",
       "    <tr style=\"text-align: right;\">\n",
       "      <th></th>\n",
       "      <th>Month_count</th>\n",
       "    </tr>\n",
       "    <tr>\n",
       "      <th>Specialisation</th>\n",
       "      <th></th>\n",
       "    </tr>\n",
       "  </thead>\n",
       "  <tbody>\n",
       "    <tr>\n",
       "      <th>Biocomputing</th>\n",
       "      <td>25.500000</td>\n",
       "    </tr>\n",
       "    <tr>\n",
       "      <th>Computer Engineering - SP</th>\n",
       "      <td>21.428571</td>\n",
       "    </tr>\n",
       "    <tr>\n",
       "      <th>Foundations of Software</th>\n",
       "      <td>23.884615</td>\n",
       "    </tr>\n",
       "    <tr>\n",
       "      <th>Information Security - SP</th>\n",
       "      <td>30.000000</td>\n",
       "    </tr>\n",
       "    <tr>\n",
       "      <th>Internet computing</th>\n",
       "      <td>23.333333</td>\n",
       "    </tr>\n",
       "    <tr>\n",
       "      <th>Service science</th>\n",
       "      <td>22.000000</td>\n",
       "    </tr>\n",
       "    <tr>\n",
       "      <th>Signals, Images and Interfaces</th>\n",
       "      <td>25.090909</td>\n",
       "    </tr>\n",
       "    <tr>\n",
       "      <th>Software Systems</th>\n",
       "      <td>22.666667</td>\n",
       "    </tr>\n",
       "  </tbody>\n",
       "</table>\n",
       "</div>"
      ],
      "text/plain": [
       "                                Month_count\n",
       "Specialisation                             \n",
       "Biocomputing                      25.500000\n",
       "Computer Engineering - SP         21.428571\n",
       "Foundations of Software           23.884615\n",
       "Information Security - SP         30.000000\n",
       "Internet computing                23.333333\n",
       "Service science                   22.000000\n",
       "Signals, Images and Interfaces    25.090909\n",
       "Software Systems                  22.666667"
      ]
     },
     "execution_count": 23,
     "metadata": {},
     "output_type": "execute_result"
    }
   ],
   "source": [
    "# Get the people that did a Spécialisation\n",
    "spe = master_finished[(~master_finished[\"Specialisation\"].isnull())]\n",
    "#Average stay per specialisation\n",
    "spe_mean_duration = spe[['Specialisation','Month_count']].groupby('Specialisation').mean()\n",
    "spe_mean_duration"
   ]
  },
  {
   "cell_type": "markdown",
   "metadata": {
    "collapsed": true
   },
   "source": [
    "Since those values are all pretty close by, a regular bar plot isn't be very telling. So we subtract the mean, to see how each compares to it."
   ]
  },
  {
   "cell_type": "code",
   "execution_count": 45,
   "metadata": {
    "collapsed": false
   },
   "outputs": [
    {
     "data": {
      "text/plain": [
       "<matplotlib.axes._subplots.AxesSubplot at 0x1d83f50b518>"
      ]
     },
     "execution_count": 45,
     "metadata": {},
     "output_type": "execute_result"
    },
    {
     "data": {
      "image/png": "[encoded data removed]",
      "text/plain": [
       "<matplotlib.figure.Figure at 0x1d83f4ecc18>"
      ]
     },
     "metadata": {},
     "output_type": "display_data"
    }
   ],
   "source": [
    "#Subtract the mean\n",
    "spe_mean_duration_centered = spe_mean_duration['Month_count'].apply(lambda x: x - spe[['Month_count']].mean())\n",
    "#Sort and plot\n",
    "spe_mean_duration_centered.sort_values(by='Month_count').plot(kind='bar', legend=False)"
   ]
  },
  {
   "cell_type": "markdown",
   "metadata": {},
   "source": [
    "We see that the Information Security specialisation is the one in which the average stay is the longest."
   ]
  },
  {
   "cell_type": "markdown",
   "metadata": {},
   "source": [
    "# Exercise 3"
   ]
  },
  {
   "cell_type": "markdown",
   "metadata": {},
   "source": [
    "Give them back their civility and compute the av"
   ]
  },
  {
   "cell_type": "code",
   "execution_count": 79,
   "metadata": {
    "collapsed": false
   },
   "outputs": [
    {
     "data": {
      "text/html": [
       "<div>\n",
       "<table border=\"1\" class=\"dataframe\">\n",
       "  <thead>\n",
       "    <tr style=\"text-align: right;\">\n",
       "      <th></th>\n",
       "      <th>Month_count</th>\n",
       "    </tr>\n",
       "    <tr>\n",
       "      <th>Civility</th>\n",
       "      <th></th>\n",
       "    </tr>\n",
       "  </thead>\n",
       "  <tbody>\n",
       "    <tr>\n",
       "      <th>Madame</th>\n",
       "      <td>20.441860</td>\n",
       "    </tr>\n",
       "    <tr>\n",
       "      <th>Monsieur</th>\n",
       "      <td>20.352518</td>\n",
       "    </tr>\n",
       "  </tbody>\n",
       "</table>\n",
       "</div>"
      ],
      "text/plain": [
       "          Month_count\n",
       "Civility             \n",
       "Madame      20.441860\n",
       "Monsieur    20.352518"
      ]
     },
     "execution_count": 79,
     "metadata": {},
     "output_type": "execute_result"
    }
   ],
   "source": [
    "master_finished_civ = master_finished.join(master[['Civility', 'Sciper']].set_index('Sciper'), how='inner', on='Sciper')\n",
    "#master[['Civility', 'Sciper']].set_index('Sciper')\n",
    "master_finished_civ = master_finished_civ.drop_duplicates()\n",
    "master_finished_civ.groupby('Civility').mean()"
   ]
  }
 ],
 "metadata": {
  "anaconda-cloud": {},
  "kernelspec": {
   "display_name": "Python [conda root]",
   "language": "python",
   "name": "conda-root-py"
  },
  "language_info": {
   "codemirror_mode": {
    "name": "ipython",
    "version": 3
   },
   "file_extension": ".py",
   "mimetype": "text/x-python",
   "name": "python",
   "nbconvert_exporter": "python",
   "pygments_lexer": "ipython3",
   "version": "3.5.2"
  }
 },
 "nbformat": 4,
 "nbformat_minor": 0
}

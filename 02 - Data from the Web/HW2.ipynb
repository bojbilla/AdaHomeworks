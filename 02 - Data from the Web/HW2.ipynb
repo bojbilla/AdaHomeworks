{
 "cells": [
  {
   "cell_type": "markdown",
   "metadata": {},
   "source": [
    "# Exercise 1"
   ]
  },
  {
   "cell_type": "code",
   "execution_count": null,
   "metadata": {
    "collapsed": false
   },
   "outputs": [],
   "source": [
    "import numpy as np\n",
    "import pandas as pd\n",
    "import scipy.stats as stats\n",
    "import requests\n",
    "import re\n",
    "import matplotlib\n",
    "%matplotlib inline\n",
    "from enum import Enum\n",
    "from bs4 import BeautifulSoup"
   ]
  },
  {
   "cell_type": "markdown",
   "metadata": {},
   "source": [
    "The data can be fetched from IS-Academia usign a form. To automate this process we looked at the form  source code to find out what query is sent to the server to obtain the data. We found that the query is sent to http://isa.epfl.ch/imoniteur_ISAP/!GEDPUBLICREPORTS.filter with the values of the form fields as request parameters (appended to the URL after a '?').\n",
    "\n",
    "The first step is to find out the values correspondig to the parameters we're interested in. To do so we parse the form HTML with BeautifulSoup."
   ]
  },
  {
   "cell_type": "code",
   "execution_count": null,
   "metadata": {
    "collapsed": false
   },
   "outputs": [],
   "source": [
    "r = requests.get('http://isa.epfl.ch/imoniteur_ISAP/!GEDPUBLICREPORTS.filter?ww_b_list=1&ww_i_reportmodel=133685247&ww_c_langue=&ww_i_reportModelXsl=133685270&zz_x_UNITE_ACAD=Informatique&ww_x_UNITE_ACAD=249847&zz_x_PERIODE_ACAD=2016-2017&ww_x_PERIODE_ACAD=355925344&zz_x_PERIODE_PEDAGO=Bachelor+semestre+1&ww_x_PERIODE_PEDAGO=249108&zz_x_HIVERETE=&ww_x_HIVERETE=null&dummy=ok')\n",
    "soup = BeautifulSoup(r.text, 'html.parser')"
   ]
  },
  {
   "cell_type": "code",
   "execution_count": null,
   "metadata": {
    "collapsed": false
   },
   "outputs": [],
   "source": [
    "def printFieldValues(field_name):\n",
    "    for opt in soup.find('select', {'name': field_name}).find_all('option'):\n",
    "        print(opt.string, \"=\", opt['value'])"
   ]
  },
  {
   "cell_type": "markdown",
   "metadata": {},
   "source": [
    "The values of the different fields:"
   ]
  },
  {
   "cell_type": "code",
   "execution_count": null,
   "metadata": {
    "collapsed": false
   },
   "outputs": [],
   "source": [
    "# Academic unit\n",
    "print(\"=== Academic unit ===\")\n",
    "printFieldValues('ww_x_UNITE_ACAD')\n",
    "\n",
    "# Academic period\n",
    "print(\"\\n\\n=== Academic period ===\")\n",
    "printFieldValues('ww_x_PERIODE_ACAD')\n",
    "\n",
    "# Pedagogic period\n",
    "print(\"\\n\\n=== Pedagogic period ===\")\n",
    "printFieldValues('ww_x_PERIODE_PEDAGO')"
   ]
  },
  {
   "cell_type": "markdown",
   "metadata": {},
   "source": [
    "To make the code more readable we define enums containing these values:"
   ]
  },
  {
   "cell_type": "code",
   "execution_count": null,
   "metadata": {
    "collapsed": false
   },
   "outputs": [],
   "source": [
    "# Define ISA codes\n",
    "\n",
    "class AcademicUnit(Enum):\n",
    "    Informatique = 249847\n",
    "    \n",
    "class AcademicPeriod(Enum):\n",
    "    y20162017  =  355925344\n",
    "    y20152016  =  213638028\n",
    "    y20142015  =  213637922\n",
    "    y20132014  =  213637754\n",
    "    y20122013  =  123456101\n",
    "    y20112012  =  123455150\n",
    "    y20102011  =  39486325\n",
    "    y20092010  =  978195\n",
    "    y20082009  =  978187\n",
    "    y20072008  =  978181\n",
    "    \n",
    "class PedagogicPeriod(Enum):\n",
    "    Bachelor1  =  249108\n",
    "    Bachelor2  =  249114\n",
    "    Bachelor3  =  942155\n",
    "    Bachelor4  =  942163\n",
    "    Bachelor5  =  942120\n",
    "    Bachelor6  =  942175"
   ]
  },
  {
   "cell_type": "markdown",
   "metadata": {},
   "source": [
    "We now create a function to get the data matching a filter from ISA. To do so we send a request with the given parameters to obtain the filter and the mysterious \"GPS\" value and then query the resulting table."
   ]
  },
  {
   "cell_type": "code",
   "execution_count": null,
   "metadata": {
    "collapsed": false
   },
   "outputs": [],
   "source": [
    "def getDataTable(academicUnit, academicPeriod, pedagogicPeriod):\n",
    "    \"\"\"Get HTML table from ISA given filter values.\"\"\"\n",
    "    \n",
    "    # URLs of ISA\n",
    "    url1 = \"http://isa.epfl.ch/imoniteur_ISAP/!GEDPUBLICREPORTS.filter\"\n",
    "    url2 = \"http://isa.epfl.ch/imoniteur_ISAP/!GEDPUBLICREPORTS.html\"\n",
    "\n",
    "    # Send a first request to obtain the \"GPS\" value\n",
    "    payload1 = {\n",
    "        'ww_b_list':'1',\n",
    "        'ww_i_reportmodel':'133685247',\n",
    "        'ww_c_langue':'',\n",
    "        'ww_i_reportModelXsl':'133685270',\n",
    "        'zz_x_UNITE_ACAD':'',\n",
    "        'ww_x_UNITE_ACAD': academicUnit.value,\n",
    "        'zz_x_PERIODE_ACAD':'',\n",
    "        'ww_x_PERIODE_ACAD': academicPeriod.value,\n",
    "        'zz_x_PERIODE_PEDAGO':'',\n",
    "        'ww_x_PERIODE_PEDAGO': pedagogicPeriod.value,\n",
    "        'zz_x_HIVERETE':'',\n",
    "        'ww_x_HIVERETE': 'null',\n",
    "        'dummy':'ok'\n",
    "    }\n",
    "\n",
    "    # Get the GPS value in the response (it is in the second link with \"ww_x_GPS\" class)\n",
    "    r1 = requests.get(url1, payload1)\n",
    "    soup = BeautifulSoup(r1.text, 'html.parser')\n",
    "    gps = re.search(\"\\d+\",soup.find_all('a', {'class': 'ww_x_GPS'})[1]['onclick']).group(0)\n",
    "\n",
    "    # Send the request to obtain the table\n",
    "    payload2 = {\n",
    "        'ww_x_GPS':gps,\n",
    "        'ww_i_reportModel':'133685247',\n",
    "        'ww_i_reportModelXsl':'133685270',\n",
    "        'ww_x_UNITE_ACAD': academicUnit.value,\n",
    "        'ww_x_PERIODE_ACAD': academicPeriod.value,\n",
    "        'ww_x_PERIODE_PEDAGO': pedagogicPeriod.value,\n",
    "        'ww_x_HIVERETE': 'null'\n",
    "    }\n",
    "\n",
    "    # Return the table\n",
    "    r2 = requests.get(url2,payload2)\n",
    "    soup = BeautifulSoup(r2.text, 'html.parser')\n",
    "    \n",
    "    return soup.find('table')\n"
   ]
  },
  {
   "cell_type": "markdown",
   "metadata": {},
   "source": [
    "And then we create a function to build a DataFrame from the HTML table:"
   ]
  },
  {
   "cell_type": "code",
   "execution_count": null,
   "metadata": {
    "collapsed": false
   },
   "outputs": [],
   "source": [
    "def parseTable(table, master=False):\n",
    "    \"\"\"Parses an HTML table from ISA and returns a dataframe with it's relevant content.\"\"\"\n",
    "    rows = map(lambda x: x.find_all('td'), table.find_all('tr')[2:])\n",
    "    data = []\n",
    "    \n",
    "    for row in rows:\n",
    "        if(master):\n",
    "            data.append({'Civility': row[0].string, 'Name': row[1].string, 'Specialisation': row[4].string,\n",
    "                         'Minor': row[6].string, 'Sciper': row[10].string})\n",
    "        else:\n",
    "            data.append({'Civility': row[0].string, 'Name': row[1].string, 'Sciper': row[10].string})\n",
    "        \n",
    "    return pd.DataFrame(data)\n",
    "    "
   ]
  },
  {
   "cell_type": "markdown",
   "metadata": {},
   "source": [
    "Now we can fetch bachelor student's data from ISA (takes a long time to execute, ~ 1 minute):"
   ]
  },
  {
   "cell_type": "code",
   "execution_count": null,
   "metadata": {
    "collapsed": false
   },
   "outputs": [],
   "source": [
    "# This takes a long time to execute !\n",
    "\n",
    "compiled_data = []\n",
    "\n",
    "for year in AcademicPeriod:\n",
    "    for semester in PedagogicPeriod:\n",
    "        data = parseTable(getDataTable(AcademicUnit.Informatique, year, semester))\n",
    "        data['Year'] = year.name\n",
    "        data['Semester'] = semester.name\n",
    "        compiled_data.append(data)\n",
    "        \n",
    "bachelor = pd.concat(compiled_data)\n",
    "bachelor"
   ]
  },
  {
   "cell_type": "markdown",
   "metadata": {},
   "source": [
    "Now that we have the data we can process it:\n",
    "- First we filter out students that do not appear in semester 1 and 6,\n",
    "- Then we count the number of semester they took for their bachelor,\n",
    "- Finally we display the average duration by gender."
   ]
  },
  {
   "cell_type": "code",
   "execution_count": null,
   "metadata": {
    "collapsed": false
   },
   "outputs": [],
   "source": [
    "# Find out which students are registered in semester 1 and 6\n",
    "bachelor1 = bachelor[bachelor['Semester'] == 'Bachelor1']\n",
    "bachelor6 = bachelor[bachelor['Semester'] == 'Bachelor6']\n",
    "bachelor_complete = pd.merge(bachelor1, bachelor6, how='inner', on=['Sciper'])['Sciper']\n",
    "\n",
    "# Keep those from the whole list\n",
    "bachelor_complete = bachelor[bachelor['Sciper'].isin(bachelor_complete)]\n",
    "\n",
    "# Let's count how many semesters they took for their bachelor\n",
    "bc_sem_count = bachelor_complete[['Sciper']].copy()\n",
    "bc_sem_count['Month count'] = 6\n",
    "bc_sem_count = bc_sem_count.groupby('Sciper').sum()\n",
    "\n",
    "# Give them thier civility back\n",
    "civilities = bachelor[['Sciper', 'Civility']].drop_duplicates()\n",
    "bc_sem_count = civilities.join(bc_sem_count, how='inner', on='Sciper')"
   ]
  },
  {
   "cell_type": "code",
   "execution_count": null,
   "metadata": {
    "collapsed": false
   },
   "outputs": [],
   "source": [
    "# Assumption: can't finish EPFL in less than 36 months (In this case there is only one dude that is filtered out)\n",
    "bc_sem_count = bc_sem_count[bc_sem_count['Month count'] >= 36]"
   ]
  },
  {
   "cell_type": "code",
   "execution_count": null,
   "metadata": {
    "collapsed": false
   },
   "outputs": [],
   "source": [
    "# Distribution of the number of month spent \n",
    "bc_sem_count[['Month count']].groupby('Month count').size().plot(kind='bar')"
   ]
  },
  {
   "cell_type": "code",
   "execution_count": null,
   "metadata": {
    "collapsed": false
   },
   "outputs": [],
   "source": [
    "# Distribution of man vs woman\n",
    "bc_sem_count.groupby('Civility').size().plot(kind='pie')"
   ]
  },
  {
   "cell_type": "code",
   "execution_count": null,
   "metadata": {
    "collapsed": false
   },
   "outputs": [],
   "source": [
    "# Distribution for women\n",
    "gpMa = bc_sem_count.groupby('Civility').get_group('Madame')\n",
    "sMa = gpMa.count()[0]\n",
    "ax = gpMa.groupby('Month count').size().map(lambda x: 100*x/sMa).plot(kind='bar')\n",
    "ax.set_ylabel('%')"
   ]
  },
  {
   "cell_type": "code",
   "execution_count": null,
   "metadata": {
    "collapsed": false
   },
   "outputs": [],
   "source": [
    "# Distribution for men\n",
    "gpMo = bc_sem_count.groupby('Civility').get_group('Monsieur')\n",
    "sMo = gpMo.count()[0]\n",
    "ax = gpMo.groupby('Month count').size().map(lambda x: 100*x/sMo).plot(kind='bar')\n",
    "ax.set_ylabel('%')"
   ]
  },
  {
   "cell_type": "code",
   "execution_count": null,
   "metadata": {
    "collapsed": false
   },
   "outputs": [],
   "source": [
    "# Compute the average bachelor duration by gender\n",
    "bc_sem_count.groupby('Civility').mean()"
   ]
  },
  {
   "cell_type": "code",
   "execution_count": null,
   "metadata": {
    "collapsed": false
   },
   "outputs": [],
   "source": [
    "# std is different\n",
    "bc_sem_count.groupby('Civility').std()"
   ]
  },
  {
   "cell_type": "markdown",
   "metadata": {},
   "source": [
    "Finally we have to decide if the difference in the means is statistically significant. To do so we will use the p-value obtained by the Two-Sample T-Test. The p-value represents the probability to observe such a difference even if the two samples are equally distributed. The Two-Sample test assumes that the two data samples are independent which is a reasonable assumption as every student is unique and passes it's exams alone."
   ]
  },
  {
   "cell_type": "code",
   "execution_count": null,
   "metadata": {
    "collapsed": false
   },
   "outputs": [],
   "source": [
    "# Is the difference statistically significant ?\n",
    "\n",
    "male = bc_sem_count[bc_sem_count['Civility'] == 'Monsieur']['Month count']\n",
    "female = bc_sem_count[bc_sem_count['Civility'] == 'Madame']['Month count']\n",
    "\n",
    "stats.ttest_ind(a= male, b= female, equal_var=False).pvalue"
   ]
  },
  {
   "cell_type": "markdown",
   "metadata": {
    "collapsed": true
   },
   "source": [
    "With a p-value of ~22% we can see that it is not improbable to observe such a difference in the average bachelor duration if the null hypothesis is that the mean of the two groups are the same.\n",
    "\n",
    "If we were using a 95% confidence level we would fail to reject the null hypothesis, since the p-value is greater than the corresponding significance level of 5%."
   ]
  },
  {
   "cell_type": "markdown",
   "metadata": {},
   "source": [
    "# Exercise 2"
   ]
  },
  {
   "cell_type": "markdown",
   "metadata": {},
   "source": [
    "Same as before but for the master:"
   ]
  },
  {
   "cell_type": "code",
   "execution_count": null,
   "metadata": {
    "collapsed": true
   },
   "outputs": [],
   "source": [
    "class MasterPedagogicPeriod(Enum):\n",
    "    Master1 = 2230106\n",
    "    Master2 = 942192\n",
    "    Master3 = 2230128\n",
    "    #These next three are commented out because there is no data for them.\n",
    "    #Master4 = 2230140\n",
    "    #Mineur1 = 2335667\n",
    "    #Mineur2 = 2335676\n",
    "    MasterThesisFall = 249127\n",
    "    MasterThesisSpring = 3781783"
   ]
  },
  {
   "cell_type": "markdown",
   "metadata": {},
   "source": [
    "Acquire data for Master students. This takes quite some time."
   ]
  },
  {
   "cell_type": "code",
   "execution_count": null,
   "metadata": {
    "collapsed": false
   },
   "outputs": [],
   "source": [
    "compiled_data = []\n",
    "\n",
    "for year in AcademicPeriod:\n",
    "    for semester in MasterPedagogicPeriod:\n",
    "        data = parseTable(getDataTable(AcademicUnit.Informatique, year, semester), True)\n",
    "        data['Year'] = year.name\n",
    "        data['Semester'] = semester.name\n",
    "        compiled_data.append(data)\n",
    "        \n",
    "master = pd.concat(compiled_data)\n",
    "master"
   ]
  },
  {
   "cell_type": "markdown",
   "metadata": {},
   "source": [
    "We are looking for people that have finished their master, or that are finishing it this semester. That is:\n",
    "* People that are not registered this year\n",
    "* People that are finishing their master this semester, i.e. people that are in their master thesis    "
   ]
  },
  {
   "cell_type": "code",
   "execution_count": null,
   "metadata": {
    "collapsed": false
   },
   "outputs": [],
   "source": [
    "master_incomplete = master[(master[\"Year\"] == \"y20162017\") & (master[\"Semester\"] != \"MasterThesisFall\")]\n",
    "master_complete = master[~master[\"Sciper\"].isin(master_incomplete[\"Sciper\"])]"
   ]
  },
  {
   "cell_type": "code",
   "execution_count": null,
   "metadata": {
    "collapsed": false
   },
   "outputs": [],
   "source": [
    "master_sem_count = master_complete[['Sciper']].copy()\n",
    "master_sem_count['Month count'] = 6\n",
    "master_sem_count = master_sem_count.groupby('Sciper').sum()\n",
    "master_sem_count\n",
    "\n",
    "#Give them back their civilities\n",
    "civilities_master = master_complete[['Name', \"Sciper\", 'Civility']].drop_duplicates()\n",
    "master_sem_count = civilities_master.join(master_sem_count, how='inner', on='Sciper')\n",
    "master_sem_count[master_sem_count[\"Month count\"] == 6]"
   ]
  }
 ],
 "metadata": {
  "anaconda-cloud": {},
  "kernelspec": {
   "display_name": "Python [Root]",
   "language": "python",
   "name": "Python [Root]"
  },
  "language_info": {
   "codemirror_mode": {
    "name": "ipython",
    "version": 3
   },
   "file_extension": ".py",
   "mimetype": "text/x-python",
   "name": "python",
   "nbconvert_exporter": "python",
   "pygments_lexer": "ipython3",
   "version": "3.5.2"
  }
 },
 "nbformat": 4,
 "nbformat_minor": 0
}

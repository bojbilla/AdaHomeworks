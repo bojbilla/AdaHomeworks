{
 "cells": [
  {
   "cell_type": "markdown",
   "metadata": {},
   "source": [
    "# Description of Ex 1\n",
    "\n",
    "We decided to first aggregate the data per player instead of working with dyads because it seemed more appropriate knowing the task that was given. Then we used a Random forest regressor as our model, this is the case because the observations are not some categorical classes that are not related to one another. Indeed the observations are a discretization of the darkness of the skin of a player which is much simpler for a human to rate than to give a continuous grade (like 2.1235 instead of 2.1236).\n",
    "By applying cross-validation to our model we reduce overfitting of the model, and the results obtained with MSE are still quite good. \n",
    "At the end of the notebook we plotted the fifteen most important features in the dataset as well as their standard deviation.\n",
    "\n",
    "\n",
    "Steps of the exercise:\n",
    "- Read the csv file\n",
    "- Drop meaningless features that do not give us information about a player's skin color (such as 'player' and 'birthday')\n",
    "- In the first iteration of the exercise we do not use the features that are associated to the 'racistness' of the referees\n",
    "- We aggregate the data set by player, such that each row contains a player and the sum of features for goals, vitories etc... But we change those features by the number of those per game, which gives more insight than just the raw data. We also keep categorical features such as leagueCountry\n",
    "- We normalize the data to remove some bias induced\n",
    "- Drop some outliers\n",
    "- Encode the categorical data with a OneHotEncoder\n",
    "- Apply cross-validation on our Random Forest Regressor\n",
    "- Plot features importance"
   ]
  },
  {
   "cell_type": "code",
   "execution_count": 1,
   "metadata": {
    "collapsed": true
   },
   "outputs": [],
   "source": [
    "import pandas as pd            \n",
    "import numpy as np             \n",
    "import matplotlib.pyplot as plt\n",
    "from sklearn import preprocessing\n",
    "from sklearn.model_selection import train_test_split\n",
    "from sklearn.ensemble import RandomForestClassifier, RandomForestRegressor\n",
    "from sklearn.preprocessing import Imputer\n",
    "from sklearn.model_selection import cross_val_score\n",
    "%matplotlib inline"
   ]
  },
  {
   "cell_type": "code",
   "execution_count": 2,
   "metadata": {
    "collapsed": false
   },
   "outputs": [],
   "source": [
    "# Read csv\n",
    "df = pd.read_csv('CrowdstormingDataJuly1st.csv')\n",
    "# Drop meaningless columns, we don't need the whole player name nor the birthday\n",
    "df.drop(['player','birthday'], 1, inplace=True)\n",
    "# Drop dyads where there are no photoID\n",
    "df.dropna(axis=0, subset=['photoID'], inplace=True)\n",
    "df.drop('photoID', 1, inplace=True)\n",
    "# Drop dyads where there are no rating\n",
    "df.dropna(axis=0, how='all', subset=['rater1', 'rater2'], inplace=True)"
   ]
  },
  {
   "cell_type": "code",
   "execution_count": 3,
   "metadata": {
    "collapsed": true
   },
   "outputs": [],
   "source": [
    "# First, try without 'racist data'\n",
    "df.drop(['refNum','refCountry','Alpha_3','meanIAT','nIAT','seIAT','meanExp','nExp','seExp'], 1, inplace=True)"
   ]
  },
  {
   "cell_type": "code",
   "execution_count": 39,
   "metadata": {
    "collapsed": false,
    "scrolled": true
   },
   "outputs": [],
   "source": [
    "# Need to sum for the aggregation\n",
    "sumAggIndexes = ['playerShort', 'games', 'victories', 'ties', 'defeats', 'goals', 'yellowCards','yellowReds', 'redCards']\n",
    "dfSumAgg = df[sumAggIndexes]\n",
    "aggregatedWithSum = dfSumAgg.groupby('playerShort').sum()\n",
    "\n",
    "# No sum for aggregation\n",
    "dfIdentityAgg = df[['playerShort', 'club', 'leagueCountry', 'height', 'weight',\n",
    "       'position', 'rater1', 'rater2']]\n",
    "identity = lambda x: x.iloc[0]\n",
    "aggregatedWithIdentity = dfIdentityAgg.groupby('playerShort').agg(identity)\n",
    "\n",
    "# Concatenate\n",
    "dfd = pd.concat([aggregatedWithIdentity, aggregatedWithSum], axis=1)\n"
   ]
  },
  {
   "cell_type": "code",
   "execution_count": 60,
   "metadata": {
    "collapsed": false
   },
   "outputs": [],
   "source": [
    "# Normalize:\n",
    "\n",
    "# vitories, defeats, ties, goals, cards -> \n",
    "#   for each player x: x._/x.games\n",
    "\n",
    "colsToNorm = ['victories', 'ties', 'defeats', 'goals', 'yellowCards','yellowReds', 'redCards']\n",
    "ds = []\n",
    "for c in colsToNorm:\n",
    "    col = []\n",
    "    for i in dfd.index:\n",
    "        col.append(dfd[c].loc[i]/dfd['games'].loc[i])\n",
    "    ds.append(pd.DataFrame(columns=[c], index=dfd.index, data=col))\n",
    " \n",
    "# Normalize the games column\n",
    "colsToNorm.append('games')\n",
    "meanGames = dfd['games'].mean()\n",
    "stdGames = dfd['games'].std()\n",
    "\n",
    "ds.append(pd.DataFrame(columns=['games'], index=dfd.index, data=dfd['games'].map(lambda x : (x-meanGames)/stdGames)))\n",
    "\n",
    "dfd = pd.concat([pd.concat(ds,axis=1), dfd.drop(colsToNorm, axis=1)] ,axis=1)"
   ]
  },
  {
   "cell_type": "code",
   "execution_count": 61,
   "metadata": {
    "collapsed": false
   },
   "outputs": [],
   "source": [
    "# Deal with NaN in weight and height\n",
    "# There are only few missing data so we can fill them with the mean of the column without\n",
    "# inducing to much bias in the data\n",
    "\n",
    "ws = dfd['weight']\n",
    "meanW = ws.dropna().mean()\n",
    "dfd['weight'].fillna(meanW, inplace=True)\n",
    "stdW = dfd['weight'].std()\n",
    "dfd['weight'] = dfd['weight'].apply(lambda x: (x-meanW)/stdW)\n",
    "\n",
    "hs = dfd['height']\n",
    "meanH = hs.dropna().mean()\n",
    "dfd['height'].fillna(meanH, inplace=True)\n",
    "stdH = dfd['height'].std()\n",
    "dfd['height'] = dfd['height'].apply(lambda x: (x-meanH)/stdH)\n"
   ]
  },
  {
   "cell_type": "code",
   "execution_count": 62,
   "metadata": {
    "collapsed": false
   },
   "outputs": [],
   "source": [
    "# Remove players which are classified really differently (only 2)\n",
    "diff = abs(dfd['rater1']-dfd['rater2'])\n",
    "diff.value_counts()\n",
    "# rm outliers\n",
    "dfd.drop(diff[diff == 0.50].index, inplace=True)"
   ]
  },
  {
   "cell_type": "code",
   "execution_count": 63,
   "metadata": {
    "collapsed": false
   },
   "outputs": [],
   "source": [
    "# This is the target/observation\n",
    "target = (dfd['rater1']+dfd['rater2'])/2\n",
    "# This is the data\n",
    "data = dfd.drop(['rater1', 'rater2'], axis=1)"
   ]
  },
  {
   "cell_type": "code",
   "execution_count": 64,
   "metadata": {
    "collapsed": false,
    "scrolled": false
   },
   "outputs": [
    {
     "name": "stderr",
     "output_type": "stream",
     "text": [
      "C:\\Users\\bapti\\Anaconda3\\lib\\site-packages\\sklearn\\utils\\validation.py:395: DeprecationWarning: Passing 1d arrays as data is deprecated in 0.17 and will raise ValueError in 0.19. Reshape your data either using X.reshape(-1, 1) if your data has a single feature or X.reshape(1, -1) if it contains a single sample.\n",
      "  DeprecationWarning)\n"
     ]
    }
   ],
   "source": [
    "# Encode the categorical features\n",
    "le = preprocessing.LabelEncoder()\n",
    "clubEncoded = pd.Series(index=data.index, data=le.fit_transform(data.club))\n",
    "leagueCountryEncoded = pd.Series(index=data.index, data=le.fit_transform(data.leagueCountry))\n",
    "# Encode the 'position', it has NaN values, so we handle them by replacing them\n",
    "# by the most frequent label\n",
    "position = data['position']\n",
    "posFiltered = position.dropna()\n",
    "posNan = position[position.isnull()]\n",
    "posFilEnc = le.fit_transform(posFiltered)\n",
    "posFilEncAsSerie = pd.Series(index=posFiltered.index, data=posFilEnc)\n",
    "concat = pd.concat([posFilEncAsSerie, posNan])\n",
    "positionWithNan = concat.sort_index()\n",
    "\n",
    "imp = Imputer(missing_values='NaN', strategy='most_frequent', axis=1)\n",
    "positionEncoded = pd.Series(index=positionWithNan.index, data=imp.fit_transform(positionWithNan)[0].astype(int))\n",
    "\n",
    "# Dataframe with categorical data encoded as int\n",
    "dataEncoded = pd.concat([clubEncoded, positionEncoded, leagueCountryEncoded],axis=1)\n",
    "dataEncoded.columns = ['club', 'position', 'leagueCountry']"
   ]
  },
  {
   "cell_type": "code",
   "execution_count": 65,
   "metadata": {
    "collapsed": false
   },
   "outputs": [],
   "source": [
    "# One hot encoder\n",
    "enc = preprocessing.OneHotEncoder()\n",
    "enc.fit(dataEncoded)\n",
    "oneHotEncodedData = enc.transform(dataEncoded).toarray()\n",
    "#oneHotEncodedData.astype()\n",
    "dfEncoded = pd.DataFrame(index=dataEncoded.index, data=oneHotEncodedData).astype(int)"
   ]
  },
  {
   "cell_type": "code",
   "execution_count": 66,
   "metadata": {
    "collapsed": false,
    "scrolled": true
   },
   "outputs": [
    {
     "data": {
      "text/html": [
       "<div>\n",
       "<table border=\"1\" class=\"dataframe\">\n",
       "  <thead>\n",
       "    <tr style=\"text-align: right;\">\n",
       "      <th></th>\n",
       "      <th>victories</th>\n",
       "      <th>ties</th>\n",
       "      <th>defeats</th>\n",
       "      <th>goals</th>\n",
       "      <th>yellowCards</th>\n",
       "      <th>yellowReds</th>\n",
       "      <th>redCards</th>\n",
       "      <th>games</th>\n",
       "      <th>height</th>\n",
       "      <th>weight</th>\n",
       "      <th>...</th>\n",
       "      <th>103</th>\n",
       "      <th>104</th>\n",
       "      <th>105</th>\n",
       "      <th>106</th>\n",
       "      <th>107</th>\n",
       "      <th>108</th>\n",
       "      <th>109</th>\n",
       "      <th>110</th>\n",
       "      <th>111</th>\n",
       "      <th>112</th>\n",
       "    </tr>\n",
       "    <tr>\n",
       "      <th>playerShort</th>\n",
       "      <th></th>\n",
       "      <th></th>\n",
       "      <th></th>\n",
       "      <th></th>\n",
       "      <th></th>\n",
       "      <th></th>\n",
       "      <th></th>\n",
       "      <th></th>\n",
       "      <th></th>\n",
       "      <th></th>\n",
       "      <th></th>\n",
       "      <th></th>\n",
       "      <th></th>\n",
       "      <th></th>\n",
       "      <th></th>\n",
       "      <th></th>\n",
       "      <th></th>\n",
       "      <th></th>\n",
       "      <th></th>\n",
       "      <th></th>\n",
       "      <th></th>\n",
       "    </tr>\n",
       "  </thead>\n",
       "  <tbody>\n",
       "    <tr>\n",
       "      <th>aaron-hughes</th>\n",
       "      <td>0.377676</td>\n",
       "      <td>0.273700</td>\n",
       "      <td>0.348624</td>\n",
       "      <td>0.013761</td>\n",
       "      <td>0.029052</td>\n",
       "      <td>0.0</td>\n",
       "      <td>0.000000</td>\n",
       "      <td>2.933860</td>\n",
       "      <td>-0.007512</td>\n",
       "      <td>-0.714874</td>\n",
       "      <td>...</td>\n",
       "      <td>0</td>\n",
       "      <td>0</td>\n",
       "      <td>0</td>\n",
       "      <td>0</td>\n",
       "      <td>0</td>\n",
       "      <td>0</td>\n",
       "      <td>1</td>\n",
       "      <td>0</td>\n",
       "      <td>0</td>\n",
       "      <td>0</td>\n",
       "    </tr>\n",
       "    <tr>\n",
       "      <th>aaron-hunt</th>\n",
       "      <td>0.419643</td>\n",
       "      <td>0.217262</td>\n",
       "      <td>0.363095</td>\n",
       "      <td>0.184524</td>\n",
       "      <td>0.125000</td>\n",
       "      <td>0.0</td>\n",
       "      <td>0.002976</td>\n",
       "      <td>0.705114</td>\n",
       "      <td>0.140893</td>\n",
       "      <td>-0.431421</td>\n",
       "      <td>...</td>\n",
       "      <td>0</td>\n",
       "      <td>0</td>\n",
       "      <td>0</td>\n",
       "      <td>0</td>\n",
       "      <td>0</td>\n",
       "      <td>0</td>\n",
       "      <td>0</td>\n",
       "      <td>0</td>\n",
       "      <td>1</td>\n",
       "      <td>0</td>\n",
       "    </tr>\n",
       "  </tbody>\n",
       "</table>\n",
       "<p>2 rows × 123 columns</p>\n",
       "</div>"
      ],
      "text/plain": [
       "              victories      ties   defeats     goals  yellowCards  \\\n",
       "playerShort                                                          \n",
       "aaron-hughes   0.377676  0.273700  0.348624  0.013761     0.029052   \n",
       "aaron-hunt     0.419643  0.217262  0.363095  0.184524     0.125000   \n",
       "\n",
       "              yellowReds  redCards     games    height    weight ...   103  \\\n",
       "playerShort                                                      ...         \n",
       "aaron-hughes         0.0  0.000000  2.933860 -0.007512 -0.714874 ...     0   \n",
       "aaron-hunt           0.0  0.002976  0.705114  0.140893 -0.431421 ...     0   \n",
       "\n",
       "              104  105  106  107  108  109  110  111  112  \n",
       "playerShort                                                \n",
       "aaron-hughes    0    0    0    0    0    1    0    0    0  \n",
       "aaron-hunt      0    0    0    0    0    0    0    1    0  \n",
       "\n",
       "[2 rows x 123 columns]"
      ]
     },
     "execution_count": 66,
     "metadata": {},
     "output_type": "execute_result"
    }
   ],
   "source": [
    "# New data with categorical data encoded\n",
    "dff = pd.concat([data.drop(['club','position','leagueCountry'], axis=1), dfEncoded], axis=1)\n",
    "dff.head(2)"
   ]
  },
  {
   "cell_type": "code",
   "execution_count": 67,
   "metadata": {
    "collapsed": false,
    "scrolled": true
   },
   "outputs": [
    {
     "data": {
      "text/plain": [
       "-0.07669695132752169"
      ]
     },
     "execution_count": 67,
     "metadata": {},
     "output_type": "execute_result"
    }
   ],
   "source": [
    "# cross validate a random forest regressor\n",
    "clf = RandomForestRegressor(n_estimators=50)\n",
    "cross_val_score(clf, dff, target, cv=10, scoring='neg_mean_squared_error', n_jobs=-1).mean()"
   ]
  },
  {
   "cell_type": "code",
   "execution_count": 70,
   "metadata": {
    "collapsed": false
   },
   "outputs": [
    {
     "name": "stdout",
     "output_type": "stream",
     "text": [
      "Feature ranking:\n",
      "1. feature 7 (0.094107), games\n",
      "2. feature 3 (0.086136), goals\n",
      "3. feature 4 (0.082468), yellowCards\n",
      "4. feature 0 (0.077897), victories\n",
      "5. feature 1 (0.073981), ties\n",
      "6. feature 2 (0.073076), defeats\n",
      "7. feature 120 (0.065812), 110\n",
      "8. feature 9 (0.061049), weight\n",
      "9. feature 8 (0.056900), height\n",
      "10. feature 6 (0.050631), redCards\n",
      "11. feature 5 (0.043083), yellowReds\n",
      "12. feature 119 (0.012594), 109\n",
      "13. feature 121 (0.009872), 111\n",
      "14. feature 109 (0.009046), 99\n",
      "15. feature 61 (0.008473), 51\n"
     ]
    },
    {
     "data": {
      "text/plain": [
       "(-1, 15)"
      ]
     },
     "execution_count": 70,
     "metadata": {},
     "output_type": "execute_result"
    },
    {
     "data": {
      "image/png": "[encoded data removed]",
      "text/plain": [
       "<matplotlib.figure.Figure at 0x1b686d88b00>"
      ]
     },
     "metadata": {},
     "output_type": "display_data"
    }
   ],
   "source": [
    "forest = clf\n",
    "X = dff\n",
    "y = target\n",
    "forest.fit(X, y)\n",
    "importances = forest.feature_importances_\n",
    "std = np.std([tree.feature_importances_ for tree in forest.estimators_],\n",
    "             axis=0)\n",
    "indices = np.argsort(importances)[::-1]\n",
    "\n",
    "# Print the feature ranking\n",
    "print(\"Feature ranking:\")\n",
    "\n",
    "for f in range(15):\n",
    "    print(\"%d. feature %d (%f), %s\" % (f + 1, indices[f], importances[indices[f]], X.columns[indices[f]]))\n",
    "\n",
    "# Plot the feature importances of the forest\n",
    "plt.figure(figsize=(15,7))\n",
    "plt.title(\"10 most important features\")\n",
    "plt.bar(v, importances[indices[0:15]],\n",
    "       color=\"r\", yerr=std[indices[0:15]], align=\"center\")\n",
    "plt.xticks(v, X.columns[indices[0:15]])\n",
    "plt.xlim([-1, 15])"
   ]
  },
  {
   "cell_type": "markdown",
   "metadata": {},
   "source": [
    "# TEST CELLS"
   ]
  },
  {
   "cell_type": "code",
   "execution_count": 72,
   "metadata": {
    "collapsed": false,
    "scrolled": true
   },
   "outputs": [],
   "source": [
    "\n",
    "\n",
    "d = pd.DataFrame({'A' : ['foo', 'bar', 'foo', 'bar',\n",
    "                  'foo', 'bar', 'foo', 'foo'],\n",
    "                  'B' : ['one', 'one', 'two', 'three',\n",
    "                          'two', 'two', 'one', 'three'],\n",
    "                  'C' : np.random.randn(8),\n",
    "                  'D' : np.random.randn(8),\n",
    "                  'E' : [np.nan,'0','1','0','1','0','1','1'],\n",
    "                  'F' : [1,2,3,4,5,6,7,8]})\n",
    "d.set_index('F', inplace=True)"
   ]
  },
  {
   "cell_type": "code",
   "execution_count": 73,
   "metadata": {
    "collapsed": false
   },
   "outputs": [
    {
     "data": {
      "text/plain": [
       "['foo', 'bar', 'foo', 'bar', 'foo', 'bar', 'foo', 'foo']"
      ]
     },
     "execution_count": 73,
     "metadata": {},
     "output_type": "execute_result"
    }
   ],
   "source": [
    "x = []\n",
    "for c in d['A']:\n",
    "    x.append(c)\n",
    "    \n",
    "x"
   ]
  }
 ],
 "metadata": {
  "anaconda-cloud": {},
  "kernelspec": {
   "display_name": "Python [default]",
   "language": "python",
   "name": "python3"
  },
  "language_info": {
   "codemirror_mode": {
    "name": "ipython",
    "version": 3
   },
   "file_extension": ".py",
   "mimetype": "text/x-python",
   "name": "python",
   "nbconvert_exporter": "python",
   "pygments_lexer": "ipython3",
   "version": "3.5.2"
  }
 },
 "nbformat": 4,
 "nbformat_minor": 1
}

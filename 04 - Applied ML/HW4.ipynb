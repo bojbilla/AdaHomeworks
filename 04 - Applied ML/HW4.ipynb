{
 "cells": [
  {
   "cell_type": "code",
   "execution_count": 38,
   "metadata": {
    "collapsed": true
   },
   "outputs": [],
   "source": [
    "import pandas as pd            \n",
    "import numpy as np             \n",
    "import matplotlib.pyplot as plt\n",
    "from sklearn import preprocessing\n",
    "from sklearn.model_selection import train_test_split\n",
    "from sklearn.ensemble import RandomForestClassifier, RandomForestRegressor\n",
    "from sklearn.preprocessing import Imputer\n",
    "from sklearn.model_selection import cross_val_score\n",
    "%matplotlib inline"
   ]
  },
  {
   "cell_type": "code",
   "execution_count": 3,
   "metadata": {
    "collapsed": false
   },
   "outputs": [],
   "source": [
    "# Read csv\n",
    "df = pd.read_csv('CrowdstormingDataJuly1st.csv')\n",
    "# Drop meaningless columns, we don't need the whole player name nor the birthday\n",
    "df.drop(['player','birthday'], 1, inplace=True)\n",
    "# Drop dyads where there are no photoID\n",
    "df.dropna(axis=0, subset=['photoID'], inplace=True)\n",
    "df.drop('photoID', 1, inplace=True)\n",
    "# Drop dyads where there are no rating\n",
    "df.dropna(axis=0, how='all', subset=['rater1', 'rater2'], inplace=True)"
   ]
  },
  {
   "cell_type": "code",
   "execution_count": 4,
   "metadata": {
    "collapsed": true
   },
   "outputs": [],
   "source": [
    "# First, try without 'racist data'\n",
    "df.drop(['refNum','refCountry','Alpha_3','meanIAT','nIAT','seIAT','meanExp','nExp','seExp'], 1, inplace=True)"
   ]
  },
  {
   "cell_type": "code",
   "execution_count": 5,
   "metadata": {
    "collapsed": false,
    "scrolled": true
   },
   "outputs": [],
   "source": [
    "# Need to sum for the aggregation\n",
    "sumAggIndexes = ['playerShort', 'games', 'victories', 'ties', 'defeats', 'goals', 'yellowCards','yellowReds', 'redCards']\n",
    "dfSumAgg = df[sumAggIndexes]\n",
    "aggregatedWithSum = dfSumAgg.groupby('playerShort').sum()\n",
    "\n",
    "# No sum for aggregation\n",
    "dfIdentityAgg = df[['playerShort', 'club', 'leagueCountry', 'height', 'weight',\n",
    "       'position', 'rater1', 'rater2']]\n",
    "identity = lambda x: x.iloc[0]\n",
    "aggregatedWithIdentity = dfIdentityAgg.groupby('playerShort').agg(identity)\n",
    "\n",
    "# Concatenate\n",
    "dfd = pd.concat([aggregatedWithIdentity, aggregatedWithSum], axis=1)\n"
   ]
  },
  {
   "cell_type": "code",
   "execution_count": 6,
   "metadata": {
    "collapsed": false
   },
   "outputs": [],
   "source": [
    "# Normalize:\n",
    "\n",
    "# vitories, defeats, ties, goals, cards -> \n",
    "#   for each player x: x._/x.games\n",
    "\n",
    "colsToNorm = ['victories', 'ties', 'defeats', 'goals', 'yellowCards','yellowReds', 'redCards']\n",
    "ds = []\n",
    "for c in colsToNorm:\n",
    "    col = []\n",
    "    for i in dfd.index:\n",
    "        col.append(dfd[c].loc[i]/dfd['games'].loc[i])\n",
    "    ds.append(pd.DataFrame(columns=[c], index=dfd.index, data=col))\n",
    " \n",
    "# Normalize the games column\n",
    "colsToNorm.append('games')\n",
    "meanGames = dfd['games'].mean()\n",
    "stdGames = dfd['games'].std()\n",
    "\n",
    "ds.append(pd.DataFrame(columns=['games'], index=dfd.index, data=dfd['games'].map(lambda x : (x-meanGames)/stdGames)))\n",
    "\n",
    "dfd = pd.concat([pd.concat(ds,axis=1), dfd.drop(colsToNorm, axis=1)] ,axis=1)"
   ]
  },
  {
   "cell_type": "code",
   "execution_count": 7,
   "metadata": {
    "collapsed": false
   },
   "outputs": [],
   "source": [
    "# Deal with NaN in weight and height\n",
    "# There are only few missing data so we can fill them with the mean of the column without\n",
    "# inducing to much bias in the data\n",
    "\n",
    "ws = dfd['weight']\n",
    "meanW = ws.dropna().mean()\n",
    "dfd['weight'].fillna(meanW, inplace=True)\n",
    "\n",
    "hs = dfd['height']\n",
    "meanH = hs.dropna().mean()\n",
    "dfd['height'].fillna(meanH, inplace=True)"
   ]
  },
  {
   "cell_type": "code",
   "execution_count": 33,
   "metadata": {
    "collapsed": false
   },
   "outputs": [],
   "source": [
    "diff = abs(dfd['rater1']-dfd['rater2'])\n",
    "diff.value_counts()\n",
    "# rm outliers\n",
    "dfd.drop(diff[diff == 0.50].index, inplace=True)"
   ]
  },
  {
   "cell_type": "code",
   "execution_count": 34,
   "metadata": {
    "collapsed": false
   },
   "outputs": [
    {
     "data": {
      "text/html": [
       "<div>\n",
       "<table border=\"1\" class=\"dataframe\">\n",
       "  <thead>\n",
       "    <tr style=\"text-align: right;\">\n",
       "      <th></th>\n",
       "      <th>victories</th>\n",
       "      <th>ties</th>\n",
       "      <th>defeats</th>\n",
       "      <th>goals</th>\n",
       "      <th>yellowCards</th>\n",
       "      <th>yellowReds</th>\n",
       "      <th>redCards</th>\n",
       "      <th>games</th>\n",
       "      <th>club</th>\n",
       "      <th>leagueCountry</th>\n",
       "      <th>height</th>\n",
       "      <th>weight</th>\n",
       "      <th>position</th>\n",
       "    </tr>\n",
       "    <tr>\n",
       "      <th>playerShort</th>\n",
       "      <th></th>\n",
       "      <th></th>\n",
       "      <th></th>\n",
       "      <th></th>\n",
       "      <th></th>\n",
       "      <th></th>\n",
       "      <th></th>\n",
       "      <th></th>\n",
       "      <th></th>\n",
       "      <th></th>\n",
       "      <th></th>\n",
       "      <th></th>\n",
       "      <th></th>\n",
       "    </tr>\n",
       "  </thead>\n",
       "  <tbody>\n",
       "    <tr>\n",
       "      <th>aaron-hughes</th>\n",
       "      <td>0.377676</td>\n",
       "      <td>0.273700</td>\n",
       "      <td>0.348624</td>\n",
       "      <td>0.013761</td>\n",
       "      <td>0.029052</td>\n",
       "      <td>0.000000</td>\n",
       "      <td>0.000000</td>\n",
       "      <td>2.935828</td>\n",
       "      <td>Fulham FC</td>\n",
       "      <td>England</td>\n",
       "      <td>182.0</td>\n",
       "      <td>71.0</td>\n",
       "      <td>Center Back</td>\n",
       "    </tr>\n",
       "    <tr>\n",
       "      <th>aaron-hunt</th>\n",
       "      <td>0.419643</td>\n",
       "      <td>0.217262</td>\n",
       "      <td>0.363095</td>\n",
       "      <td>0.184524</td>\n",
       "      <td>0.125000</td>\n",
       "      <td>0.000000</td>\n",
       "      <td>0.002976</td>\n",
       "      <td>0.705694</td>\n",
       "      <td>Werder Bremen</td>\n",
       "      <td>Germany</td>\n",
       "      <td>183.0</td>\n",
       "      <td>73.0</td>\n",
       "      <td>Attacking Midfielder</td>\n",
       "    </tr>\n",
       "    <tr>\n",
       "      <th>aaron-lennon</th>\n",
       "      <td>0.485437</td>\n",
       "      <td>0.235437</td>\n",
       "      <td>0.279126</td>\n",
       "      <td>0.075243</td>\n",
       "      <td>0.026699</td>\n",
       "      <td>0.000000</td>\n",
       "      <td>0.000000</td>\n",
       "      <td>1.238682</td>\n",
       "      <td>Tottenham Hotspur</td>\n",
       "      <td>England</td>\n",
       "      <td>165.0</td>\n",
       "      <td>63.0</td>\n",
       "      <td>Right Midfielder</td>\n",
       "    </tr>\n",
       "    <tr>\n",
       "      <th>aaron-ramsey</th>\n",
       "      <td>0.576923</td>\n",
       "      <td>0.161538</td>\n",
       "      <td>0.261538</td>\n",
       "      <td>0.150000</td>\n",
       "      <td>0.119231</td>\n",
       "      <td>0.000000</td>\n",
       "      <td>0.003846</td>\n",
       "      <td>0.172706</td>\n",
       "      <td>Arsenal FC</td>\n",
       "      <td>England</td>\n",
       "      <td>178.0</td>\n",
       "      <td>76.0</td>\n",
       "      <td>Center Midfielder</td>\n",
       "    </tr>\n",
       "    <tr>\n",
       "      <th>abdelhamid-el-kaoutari</th>\n",
       "      <td>0.330645</td>\n",
       "      <td>0.322581</td>\n",
       "      <td>0.346774</td>\n",
       "      <td>0.008065</td>\n",
       "      <td>0.064516</td>\n",
       "      <td>0.032258</td>\n",
       "      <td>0.016129</td>\n",
       "      <td>-0.781062</td>\n",
       "      <td>Montpellier HSC</td>\n",
       "      <td>France</td>\n",
       "      <td>180.0</td>\n",
       "      <td>73.0</td>\n",
       "      <td>Center Back</td>\n",
       "    </tr>\n",
       "  </tbody>\n",
       "</table>\n",
       "</div>"
      ],
      "text/plain": [
       "                        victories      ties   defeats     goals  yellowCards  \\\n",
       "playerShort                                                                    \n",
       "aaron-hughes             0.377676  0.273700  0.348624  0.013761     0.029052   \n",
       "aaron-hunt               0.419643  0.217262  0.363095  0.184524     0.125000   \n",
       "aaron-lennon             0.485437  0.235437  0.279126  0.075243     0.026699   \n",
       "aaron-ramsey             0.576923  0.161538  0.261538  0.150000     0.119231   \n",
       "abdelhamid-el-kaoutari   0.330645  0.322581  0.346774  0.008065     0.064516   \n",
       "\n",
       "                        yellowReds  redCards     games               club  \\\n",
       "playerShort                                                                 \n",
       "aaron-hughes              0.000000  0.000000  2.935828          Fulham FC   \n",
       "aaron-hunt                0.000000  0.002976  0.705694      Werder Bremen   \n",
       "aaron-lennon              0.000000  0.000000  1.238682  Tottenham Hotspur   \n",
       "aaron-ramsey              0.000000  0.003846  0.172706         Arsenal FC   \n",
       "abdelhamid-el-kaoutari    0.032258  0.016129 -0.781062    Montpellier HSC   \n",
       "\n",
       "                       leagueCountry  height  weight              position  \n",
       "playerShort                                                                 \n",
       "aaron-hughes                 England   182.0    71.0           Center Back  \n",
       "aaron-hunt                   Germany   183.0    73.0  Attacking Midfielder  \n",
       "aaron-lennon                 England   165.0    63.0      Right Midfielder  \n",
       "aaron-ramsey                 England   178.0    76.0     Center Midfielder  \n",
       "abdelhamid-el-kaoutari        France   180.0    73.0           Center Back  "
      ]
     },
     "execution_count": 34,
     "metadata": {},
     "output_type": "execute_result"
    }
   ],
   "source": [
    "meanColor = (dfd['rater1']+dfd['rater2'])/2\n",
    "\n",
    "# This is the target/observation\n",
    "target = meanColor\n",
    "# This is the data\n",
    "data = dfd.drop(['rater1', 'rater2'], axis=1)\n",
    "data.head()"
   ]
  },
  {
   "cell_type": "code",
   "execution_count": 65,
   "metadata": {
    "collapsed": false,
    "scrolled": true
   },
   "outputs": [
    {
     "data": {
      "text/html": [
       "<div>\n",
       "<table border=\"1\" class=\"dataframe\">\n",
       "  <thead>\n",
       "    <tr style=\"text-align: right;\">\n",
       "      <th></th>\n",
       "      <th>victories</th>\n",
       "      <th>ties</th>\n",
       "      <th>defeats</th>\n",
       "      <th>goals</th>\n",
       "      <th>yellowCards</th>\n",
       "      <th>yellowReds</th>\n",
       "      <th>redCards</th>\n",
       "      <th>games</th>\n",
       "      <th>club</th>\n",
       "      <th>leagueCountry</th>\n",
       "      <th>height</th>\n",
       "      <th>weight</th>\n",
       "      <th>position</th>\n",
       "    </tr>\n",
       "    <tr>\n",
       "      <th>playerShort</th>\n",
       "      <th></th>\n",
       "      <th></th>\n",
       "      <th></th>\n",
       "      <th></th>\n",
       "      <th></th>\n",
       "      <th></th>\n",
       "      <th></th>\n",
       "      <th></th>\n",
       "      <th></th>\n",
       "      <th></th>\n",
       "      <th></th>\n",
       "      <th></th>\n",
       "      <th></th>\n",
       "    </tr>\n",
       "  </thead>\n",
       "  <tbody>\n",
       "    <tr>\n",
       "      <th>aaron-hughes</th>\n",
       "      <td>0.377676</td>\n",
       "      <td>0.273700</td>\n",
       "      <td>0.348624</td>\n",
       "      <td>0.013761</td>\n",
       "      <td>0.029052</td>\n",
       "      <td>0.000000</td>\n",
       "      <td>0.000000</td>\n",
       "      <td>2.935828</td>\n",
       "      <td>Fulham FC</td>\n",
       "      <td>England</td>\n",
       "      <td>182.0</td>\n",
       "      <td>71.0</td>\n",
       "      <td>Center Back</td>\n",
       "    </tr>\n",
       "    <tr>\n",
       "      <th>aaron-hunt</th>\n",
       "      <td>0.419643</td>\n",
       "      <td>0.217262</td>\n",
       "      <td>0.363095</td>\n",
       "      <td>0.184524</td>\n",
       "      <td>0.125000</td>\n",
       "      <td>0.000000</td>\n",
       "      <td>0.002976</td>\n",
       "      <td>0.705694</td>\n",
       "      <td>Werder Bremen</td>\n",
       "      <td>Germany</td>\n",
       "      <td>183.0</td>\n",
       "      <td>73.0</td>\n",
       "      <td>Attacking Midfielder</td>\n",
       "    </tr>\n",
       "    <tr>\n",
       "      <th>aaron-lennon</th>\n",
       "      <td>0.485437</td>\n",
       "      <td>0.235437</td>\n",
       "      <td>0.279126</td>\n",
       "      <td>0.075243</td>\n",
       "      <td>0.026699</td>\n",
       "      <td>0.000000</td>\n",
       "      <td>0.000000</td>\n",
       "      <td>1.238682</td>\n",
       "      <td>Tottenham Hotspur</td>\n",
       "      <td>England</td>\n",
       "      <td>165.0</td>\n",
       "      <td>63.0</td>\n",
       "      <td>Right Midfielder</td>\n",
       "    </tr>\n",
       "    <tr>\n",
       "      <th>aaron-ramsey</th>\n",
       "      <td>0.576923</td>\n",
       "      <td>0.161538</td>\n",
       "      <td>0.261538</td>\n",
       "      <td>0.150000</td>\n",
       "      <td>0.119231</td>\n",
       "      <td>0.000000</td>\n",
       "      <td>0.003846</td>\n",
       "      <td>0.172706</td>\n",
       "      <td>Arsenal FC</td>\n",
       "      <td>England</td>\n",
       "      <td>178.0</td>\n",
       "      <td>76.0</td>\n",
       "      <td>Center Midfielder</td>\n",
       "    </tr>\n",
       "    <tr>\n",
       "      <th>abdelhamid-el-kaoutari</th>\n",
       "      <td>0.330645</td>\n",
       "      <td>0.322581</td>\n",
       "      <td>0.346774</td>\n",
       "      <td>0.008065</td>\n",
       "      <td>0.064516</td>\n",
       "      <td>0.032258</td>\n",
       "      <td>0.016129</td>\n",
       "      <td>-0.781062</td>\n",
       "      <td>Montpellier HSC</td>\n",
       "      <td>France</td>\n",
       "      <td>180.0</td>\n",
       "      <td>73.0</td>\n",
       "      <td>Center Back</td>\n",
       "    </tr>\n",
       "  </tbody>\n",
       "</table>\n",
       "</div>"
      ],
      "text/plain": [
       "                        victories      ties   defeats     goals  yellowCards  \\\n",
       "playerShort                                                                    \n",
       "aaron-hughes             0.377676  0.273700  0.348624  0.013761     0.029052   \n",
       "aaron-hunt               0.419643  0.217262  0.363095  0.184524     0.125000   \n",
       "aaron-lennon             0.485437  0.235437  0.279126  0.075243     0.026699   \n",
       "aaron-ramsey             0.576923  0.161538  0.261538  0.150000     0.119231   \n",
       "abdelhamid-el-kaoutari   0.330645  0.322581  0.346774  0.008065     0.064516   \n",
       "\n",
       "                        yellowReds  redCards     games               club  \\\n",
       "playerShort                                                                 \n",
       "aaron-hughes              0.000000  0.000000  2.935828          Fulham FC   \n",
       "aaron-hunt                0.000000  0.002976  0.705694      Werder Bremen   \n",
       "aaron-lennon              0.000000  0.000000  1.238682  Tottenham Hotspur   \n",
       "aaron-ramsey              0.000000  0.003846  0.172706         Arsenal FC   \n",
       "abdelhamid-el-kaoutari    0.032258  0.016129 -0.781062    Montpellier HSC   \n",
       "\n",
       "                       leagueCountry  height  weight              position  \n",
       "playerShort                                                                 \n",
       "aaron-hughes                 England   182.0    71.0           Center Back  \n",
       "aaron-hunt                   Germany   183.0    73.0  Attacking Midfielder  \n",
       "aaron-lennon                 England   165.0    63.0      Right Midfielder  \n",
       "aaron-ramsey                 England   178.0    76.0     Center Midfielder  \n",
       "abdelhamid-el-kaoutari        France   180.0    73.0           Center Back  "
      ]
     },
     "execution_count": 65,
     "metadata": {},
     "output_type": "execute_result"
    }
   ],
   "source": [
    "# skin color\n",
    "#colors = np.array([0, 0.25, 0.5, 0.75, 1])\n",
    "#def find_nearest(array,value):\n",
    "#    idx = (np.abs(array-value)).argmin()\n",
    "#    return array[idx]\n",
    "#\n",
    "#meanColor = (dfd['rater1']+dfd['rater2'])/2\n",
    "#\n",
    "## This is the target/observation\n",
    "#target = meanColor.apply(lambda x: find_nearest(colors, x)).astype('str')\n",
    "## This is the data\n",
    "#data = dfd.drop(['rater1', 'rater2'], axis=1)\n",
    "#data.head()"
   ]
  },
  {
   "cell_type": "code",
   "execution_count": 35,
   "metadata": {
    "collapsed": false,
    "scrolled": false
   },
   "outputs": [
    {
     "name": "stderr",
     "output_type": "stream",
     "text": [
      "C:\\Users\\bapti\\Anaconda3\\lib\\site-packages\\sklearn\\utils\\validation.py:395: DeprecationWarning: Passing 1d arrays as data is deprecated in 0.17 and will raise ValueError in 0.19. Reshape your data either using X.reshape(-1, 1) if your data has a single feature or X.reshape(1, -1) if it contains a single sample.\n",
      "  DeprecationWarning)\n"
     ]
    }
   ],
   "source": [
    "# Encode the categorical features\n",
    "le = preprocessing.LabelEncoder()\n",
    "clubEncoded = pd.Series(index=data.index, data=le.fit_transform(data.club))\n",
    "leagueCountryEncoded = pd.Series(index=data.index, data=le.fit_transform(data.leagueCountry))\n",
    "# Encode the 'position', it has NaN values, so we handle them by replacing them\n",
    "# by the most frequent label\n",
    "position = data['position']\n",
    "posFiltered = position.dropna()\n",
    "posNan = position[position.isnull()]\n",
    "posFilEnc = le.fit_transform(posFiltered)\n",
    "posFilEncAsSerie = pd.Series(index=posFiltered.index, data=posFilEnc)\n",
    "concat = pd.concat([posFilEncAsSerie, posNan])\n",
    "positionWithNan = concat.sort_index()\n",
    "\n",
    "imp = Imputer(missing_values='NaN', strategy='most_frequent', axis=1)\n",
    "positionEncoded = pd.Series(index=positionWithNan.index, data=imp.fit_transform(positionWithNan)[0].astype(int))\n",
    "\n",
    "# Dataframe with categorical data encoded as int\n",
    "dataEncoded = pd.concat([clubEncoded, positionEncoded, leagueCountryEncoded],axis=1)\n",
    "dataEncoded.columns = ['club', 'position', 'leagueCountry']"
   ]
  },
  {
   "cell_type": "code",
   "execution_count": 36,
   "metadata": {
    "collapsed": false
   },
   "outputs": [],
   "source": [
    "# One hot encoder\n",
    "enc = preprocessing.OneHotEncoder()\n",
    "enc.fit(dataEncoded)\n",
    "oneHotEncodedData = enc.transform(dataEncoded).toarray()\n",
    "#oneHotEncodedData.astype()\n",
    "dfEncoded = pd.DataFrame(index=dataEncoded.index, data=oneHotEncodedData).astype(int)"
   ]
  },
  {
   "cell_type": "code",
   "execution_count": 37,
   "metadata": {
    "collapsed": false,
    "scrolled": true
   },
   "outputs": [
    {
     "data": {
      "text/html": [
       "<div>\n",
       "<table border=\"1\" class=\"dataframe\">\n",
       "  <thead>\n",
       "    <tr style=\"text-align: right;\">\n",
       "      <th></th>\n",
       "      <th>victories</th>\n",
       "      <th>ties</th>\n",
       "      <th>defeats</th>\n",
       "      <th>goals</th>\n",
       "      <th>yellowCards</th>\n",
       "      <th>yellowReds</th>\n",
       "      <th>redCards</th>\n",
       "      <th>games</th>\n",
       "      <th>height</th>\n",
       "      <th>weight</th>\n",
       "      <th>...</th>\n",
       "      <th>103</th>\n",
       "      <th>104</th>\n",
       "      <th>105</th>\n",
       "      <th>106</th>\n",
       "      <th>107</th>\n",
       "      <th>108</th>\n",
       "      <th>109</th>\n",
       "      <th>110</th>\n",
       "      <th>111</th>\n",
       "      <th>112</th>\n",
       "    </tr>\n",
       "    <tr>\n",
       "      <th>playerShort</th>\n",
       "      <th></th>\n",
       "      <th></th>\n",
       "      <th></th>\n",
       "      <th></th>\n",
       "      <th></th>\n",
       "      <th></th>\n",
       "      <th></th>\n",
       "      <th></th>\n",
       "      <th></th>\n",
       "      <th></th>\n",
       "      <th></th>\n",
       "      <th></th>\n",
       "      <th></th>\n",
       "      <th></th>\n",
       "      <th></th>\n",
       "      <th></th>\n",
       "      <th></th>\n",
       "      <th></th>\n",
       "      <th></th>\n",
       "      <th></th>\n",
       "      <th></th>\n",
       "    </tr>\n",
       "  </thead>\n",
       "  <tbody>\n",
       "    <tr>\n",
       "      <th>aaron-hughes</th>\n",
       "      <td>0.377676</td>\n",
       "      <td>0.273700</td>\n",
       "      <td>0.348624</td>\n",
       "      <td>0.013761</td>\n",
       "      <td>0.029052</td>\n",
       "      <td>0.0</td>\n",
       "      <td>0.000000</td>\n",
       "      <td>2.935828</td>\n",
       "      <td>182.0</td>\n",
       "      <td>71.0</td>\n",
       "      <td>...</td>\n",
       "      <td>0</td>\n",
       "      <td>0</td>\n",
       "      <td>0</td>\n",
       "      <td>0</td>\n",
       "      <td>0</td>\n",
       "      <td>0</td>\n",
       "      <td>1</td>\n",
       "      <td>0</td>\n",
       "      <td>0</td>\n",
       "      <td>0</td>\n",
       "    </tr>\n",
       "    <tr>\n",
       "      <th>aaron-hunt</th>\n",
       "      <td>0.419643</td>\n",
       "      <td>0.217262</td>\n",
       "      <td>0.363095</td>\n",
       "      <td>0.184524</td>\n",
       "      <td>0.125000</td>\n",
       "      <td>0.0</td>\n",
       "      <td>0.002976</td>\n",
       "      <td>0.705694</td>\n",
       "      <td>183.0</td>\n",
       "      <td>73.0</td>\n",
       "      <td>...</td>\n",
       "      <td>0</td>\n",
       "      <td>0</td>\n",
       "      <td>0</td>\n",
       "      <td>0</td>\n",
       "      <td>0</td>\n",
       "      <td>0</td>\n",
       "      <td>0</td>\n",
       "      <td>0</td>\n",
       "      <td>1</td>\n",
       "      <td>0</td>\n",
       "    </tr>\n",
       "  </tbody>\n",
       "</table>\n",
       "<p>2 rows × 123 columns</p>\n",
       "</div>"
      ],
      "text/plain": [
       "              victories      ties   defeats     goals  yellowCards  \\\n",
       "playerShort                                                          \n",
       "aaron-hughes   0.377676  0.273700  0.348624  0.013761     0.029052   \n",
       "aaron-hunt     0.419643  0.217262  0.363095  0.184524     0.125000   \n",
       "\n",
       "              yellowReds  redCards     games  height  weight ...   103  104  \\\n",
       "playerShort                                                  ...              \n",
       "aaron-hughes         0.0  0.000000  2.935828   182.0    71.0 ...     0    0   \n",
       "aaron-hunt           0.0  0.002976  0.705694   183.0    73.0 ...     0    0   \n",
       "\n",
       "              105  106  107  108  109  110  111  112  \n",
       "playerShort                                           \n",
       "aaron-hughes    0    0    0    0    1    0    0    0  \n",
       "aaron-hunt      0    0    0    0    0    0    1    0  \n",
       "\n",
       "[2 rows x 123 columns]"
      ]
     },
     "execution_count": 37,
     "metadata": {},
     "output_type": "execute_result"
    }
   ],
   "source": [
    "# New data with categorical data encoded\n",
    "dff = pd.concat([data.drop(['club','position','leagueCountry'], axis=1), dfEncoded], axis=1)\n",
    "dff.head(2)"
   ]
  },
  {
   "cell_type": "code",
   "execution_count": 43,
   "metadata": {
    "collapsed": false
   },
   "outputs": [
    {
     "data": {
      "text/plain": [
       "playerShort\n",
       "aaron-hughes    0.125\n",
       "aaron-hunt      0.125\n",
       "dtype: float64"
      ]
     },
     "execution_count": 43,
     "metadata": {},
     "output_type": "execute_result"
    }
   ],
   "source": [
    "target.head(2)"
   ]
  },
  {
   "cell_type": "code",
   "execution_count": 50,
   "metadata": {
    "collapsed": false
   },
   "outputs": [],
   "source": [
    "# Split the data \n",
    "X_train, X_test, y_train, y_test = train_test_split(dff, target, test_size=0.3, random_state=0)"
   ]
  },
  {
   "cell_type": "code",
   "execution_count": 76,
   "metadata": {
    "collapsed": false
   },
   "outputs": [],
   "source": [
    "# Classifier\n",
    "#clf = RandomForestClassifier(n_jobs=-1, n_estimators=100)"
   ]
  },
  {
   "cell_type": "code",
   "execution_count": 45,
   "metadata": {
    "collapsed": false
   },
   "outputs": [],
   "source": [
    "clf = RandomForestRegressor(n_estimators=50)"
   ]
  },
  {
   "cell_type": "code",
   "execution_count": 51,
   "metadata": {
    "collapsed": false,
    "scrolled": true
   },
   "outputs": [
    {
     "data": {
      "text/plain": [
       "RandomForestRegressor(bootstrap=True, criterion='mse', max_depth=None,\n",
       "           max_features='auto', max_leaf_nodes=None,\n",
       "           min_impurity_split=1e-07, min_samples_leaf=1,\n",
       "           min_samples_split=2, min_weight_fraction_leaf=0.0,\n",
       "           n_estimators=50, n_jobs=1, oob_score=False, random_state=None,\n",
       "           verbose=0, warm_start=False)"
      ]
     },
     "execution_count": 51,
     "metadata": {},
     "output_type": "execute_result"
    }
   ],
   "source": [
    "clf.fit(X_train, y_train)"
   ]
  },
  {
   "cell_type": "code",
   "execution_count": null,
   "metadata": {
    "collapsed": true
   },
   "outputs": [],
   "source": []
  },
  {
   "cell_type": "raw",
   "metadata": {},
   "source": []
  },
  {
   "cell_type": "code",
   "execution_count": 48,
   "metadata": {
    "collapsed": false
   },
   "outputs": [
    {
     "name": "stdout",
     "output_type": "stream",
     "text": [
      "Feature ranking:\n",
      "1. feature 7 (0.089113), games\n",
      "2. feature 4 (0.087372), yellowCards\n",
      "3. feature 3 (0.084419), goals\n",
      "4. feature 2 (0.075380), defeats\n",
      "5. feature 0 (0.072619), victories\n",
      "6. feature 1 (0.067034), ties\n",
      "7. feature 9 (0.063783), weight\n",
      "8. feature 120 (0.061060), 110\n",
      "9. feature 8 (0.059168), height\n",
      "10. feature 6 (0.057665), redCards\n",
      "11. feature 5 (0.043502), yellowReds\n",
      "12. feature 119 (0.015507), 109\n",
      "13. feature 109 (0.010538), 99\n",
      "14. feature 112 (0.009421), 102\n",
      "15. feature 121 (0.008876), 111\n",
      "16. feature 111 (0.007542), 101\n",
      "17. feature 61 (0.007471), 51\n",
      "18. feature 108 (0.007198), 98\n",
      "19. feature 113 (0.006774), 103\n",
      "20. feature 115 (0.006611), 105\n",
      "21. feature 118 (0.006593), 108\n",
      "22. feature 38 (0.005517), 28\n",
      "23. feature 99 (0.005195), 89\n",
      "24. feature 107 (0.004673), 97\n",
      "25. feature 122 (0.004178), 112\n",
      "26. feature 116 (0.004076), 106\n",
      "27. feature 62 (0.003872), 52\n",
      "28. feature 64 (0.003867), 54\n",
      "29. feature 58 (0.003837), 48\n",
      "30. feature 70 (0.003774), 60\n",
      "31. feature 84 (0.003773), 74\n",
      "32. feature 47 (0.003751), 37\n",
      "33. feature 87 (0.003706), 77\n",
      "34. feature 63 (0.003531), 53\n",
      "35. feature 101 (0.003296), 91\n",
      "36. feature 117 (0.003261), 107\n",
      "37. feature 93 (0.003243), 83\n",
      "38. feature 114 (0.003219), 104\n",
      "39. feature 104 (0.003074), 94\n",
      "40. feature 90 (0.002984), 80\n",
      "41. feature 35 (0.002885), 25\n",
      "42. feature 52 (0.002715), 42\n",
      "43. feature 68 (0.002668), 58\n",
      "44. feature 67 (0.002664), 57\n",
      "45. feature 49 (0.002567), 39\n",
      "46. feature 28 (0.002564), 18\n",
      "47. feature 12 (0.002501), 2\n",
      "48. feature 44 (0.002464), 34\n",
      "49. feature 71 (0.002363), 61\n",
      "50. feature 39 (0.002232), 29\n",
      "51. feature 92 (0.002128), 82\n",
      "52. feature 19 (0.002043), 9\n",
      "53. feature 21 (0.001941), 11\n",
      "54. feature 85 (0.001891), 75\n",
      "55. feature 22 (0.001877), 12\n",
      "56. feature 82 (0.001823), 72\n",
      "57. feature 13 (0.001812), 3\n",
      "58. feature 46 (0.001762), 36\n",
      "59. feature 59 (0.001708), 49\n",
      "60. feature 16 (0.001678), 6\n",
      "61. feature 41 (0.001653), 31\n",
      "62. feature 37 (0.001629), 27\n",
      "63. feature 91 (0.001478), 81\n",
      "64. feature 106 (0.001377), 96\n",
      "65. feature 110 (0.001319), 100\n",
      "66. feature 43 (0.001300), 33\n",
      "67. feature 15 (0.001270), 5\n",
      "68. feature 74 (0.001235), 64\n",
      "69. feature 103 (0.001149), 93\n",
      "70. feature 54 (0.001077), 44\n",
      "71. feature 48 (0.001045), 38\n",
      "72. feature 55 (0.000973), 45\n",
      "73. feature 31 (0.000953), 21\n",
      "74. feature 72 (0.000929), 62\n",
      "75. feature 11 (0.000907), 1\n",
      "76. feature 18 (0.000907), 8\n",
      "77. feature 33 (0.000865), 23\n",
      "78. feature 95 (0.000801), 85\n",
      "79. feature 89 (0.000785), 79\n",
      "80. feature 30 (0.000763), 20\n",
      "81. feature 25 (0.000732), 15\n",
      "82. feature 97 (0.000729), 87\n",
      "83. feature 66 (0.000711), 56\n",
      "84. feature 69 (0.000706), 59\n",
      "85. feature 78 (0.000703), 68\n",
      "86. feature 76 (0.000587), 66\n",
      "87. feature 102 (0.000585), 92\n",
      "88. feature 73 (0.000584), 63\n",
      "89. feature 14 (0.000575), 4\n",
      "90. feature 80 (0.000567), 70\n",
      "91. feature 26 (0.000539), 16\n",
      "92. feature 98 (0.000533), 88\n",
      "93. feature 36 (0.000527), 26\n",
      "94. feature 88 (0.000479), 78\n",
      "95. feature 34 (0.000459), 24\n",
      "96. feature 20 (0.000421), 10\n",
      "97. feature 40 (0.000404), 30\n",
      "98. feature 10 (0.000402), 0\n",
      "99. feature 45 (0.000395), 35\n",
      "100. feature 100 (0.000392), 90\n",
      "101. feature 42 (0.000312), 32\n",
      "102. feature 79 (0.000296), 69\n",
      "103. feature 50 (0.000203), 40\n",
      "104. feature 81 (0.000202), 71\n",
      "105. feature 23 (0.000191), 13\n",
      "106. feature 86 (0.000129), 76\n",
      "107. feature 105 (0.000117), 95\n",
      "108. feature 94 (0.000085), 84\n",
      "109. feature 29 (0.000060), 19\n",
      "110. feature 60 (0.000047), 50\n",
      "111. feature 17 (0.000032), 7\n",
      "112. feature 57 (0.000029), 47\n",
      "113. feature 53 (0.000020), 43\n",
      "114. feature 83 (0.000017), 73\n",
      "115. feature 65 (0.000015), 55\n",
      "116. feature 51 (0.000012), 41\n",
      "117. feature 75 (0.000012), 65\n",
      "118. feature 96 (0.000011), 86\n",
      "119. feature 32 (0.000002), 22\n",
      "120. feature 24 (0.000002), 14\n",
      "121. feature 56 (0.000002), 46\n",
      "122. feature 77 (0.000000), 67\n",
      "123. feature 27 (0.000000), 17\n"
     ]
    },
    {
     "data": {
      "text/plain": [
       "(-1, 123)"
      ]
     },
     "execution_count": 48,
     "metadata": {},
     "output_type": "execute_result"
    },
    {
     "data": {
      "image/png": "[encoded data removed]",
      "text/plain": [
       "<matplotlib.figure.Figure at 0x2eae24d0fd0>"
      ]
     },
     "metadata": {},
     "output_type": "display_data"
    }
   ],
   "source": [
    "forest = clf\n",
    "X = dff\n",
    "y = target\n",
    "forest.fit(X, y)\n",
    "importances = forest.feature_importances_\n",
    "std = np.std([tree.feature_importances_ for tree in forest.estimators_],\n",
    "             axis=0)\n",
    "indices = np.argsort(importances)[::-1]\n",
    "\n",
    "# Print the feature ranking\n",
    "print(\"Feature ranking:\")\n",
    "\n",
    "for f in range(X.shape[1]):\n",
    "    print(\"%d. feature %d (%f), %s\" % (f + 1, indices[f], importances[indices[f]], X.columns[indices[f]]))\n",
    "\n",
    "# Plot the feature importances of the forest\n",
    "plt.figure()\n",
    "plt.title(\"Feature importances\")\n",
    "plt.bar(range(X.shape[1]), importances[indices],\n",
    "       color=\"r\", yerr=std[indices], align=\"center\")\n",
    "plt.xticks(range(X.shape[1]), indices)\n",
    "plt.xlim([-1, X.shape[1]])"
   ]
  },
  {
   "cell_type": "code",
   "execution_count": 47,
   "metadata": {
    "collapsed": false
   },
   "outputs": [
    {
     "data": {
      "text/plain": [
       "-0.07925716383174726"
      ]
     },
     "execution_count": 47,
     "metadata": {},
     "output_type": "execute_result"
    }
   ],
   "source": [
    "cross_val_score(clf, dff, target, scoring='neg_mean_squared_error', n_jobs=-1).mean()"
   ]
  },
  {
   "cell_type": "markdown",
   "metadata": {
    "collapsed": true
   },
   "source": [
    "# YELLOW CARDS IS THE MOST IMPORTANT FEATURES!\n",
    "# For regressor, we should filter out the ratings that are to different from one another\n"
   ]
  },
  {
   "cell_type": "code",
   "execution_count": null,
   "metadata": {
    "collapsed": true
   },
   "outputs": [],
   "source": []
  },
  {
   "cell_type": "code",
   "execution_count": null,
   "metadata": {
    "collapsed": true
   },
   "outputs": [],
   "source": []
  },
  {
   "cell_type": "markdown",
   "metadata": {},
   "source": [
    "# TEST CELLS"
   ]
  },
  {
   "cell_type": "code",
   "execution_count": 72,
   "metadata": {
    "collapsed": false,
    "scrolled": true
   },
   "outputs": [],
   "source": [
    "\n",
    "\n",
    "d = pd.DataFrame({'A' : ['foo', 'bar', 'foo', 'bar',\n",
    "                  'foo', 'bar', 'foo', 'foo'],\n",
    "                  'B' : ['one', 'one', 'two', 'three',\n",
    "                          'two', 'two', 'one', 'three'],\n",
    "                  'C' : np.random.randn(8),\n",
    "                  'D' : np.random.randn(8),\n",
    "                  'E' : [np.nan,'0','1','0','1','0','1','1'],\n",
    "                  'F' : [1,2,3,4,5,6,7,8]})\n",
    "d.set_index('F', inplace=True)"
   ]
  },
  {
   "cell_type": "code",
   "execution_count": 73,
   "metadata": {
    "collapsed": false
   },
   "outputs": [
    {
     "data": {
      "text/plain": [
       "['foo', 'bar', 'foo', 'bar', 'foo', 'bar', 'foo', 'foo']"
      ]
     },
     "execution_count": 73,
     "metadata": {},
     "output_type": "execute_result"
    }
   ],
   "source": [
    "x = []\n",
    "for c in d['A']:\n",
    "    x.append(c)\n",
    "    \n",
    "x"
   ]
  }
 ],
 "metadata": {
  "anaconda-cloud": {},
  "kernelspec": {
   "display_name": "Python [default]",
   "language": "python",
   "name": "python3"
  },
  "language_info": {
   "codemirror_mode": {
    "name": "ipython",
    "version": 3
   },
   "file_extension": ".py",
   "mimetype": "text/x-python",
   "name": "python",
   "nbconvert_exporter": "python",
   "pygments_lexer": "ipython3",
   "version": "3.5.2"
  }
 },
 "nbformat": 4,
 "nbformat_minor": 1
}

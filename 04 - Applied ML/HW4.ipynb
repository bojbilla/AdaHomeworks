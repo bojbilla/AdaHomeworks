{
 "cells": [
  {
   "cell_type": "code",
   "execution_count": 311,
   "metadata": {
    "collapsed": true
   },
   "outputs": [],
   "source": [
    "import pandas as pd            \n",
    "import numpy as np             \n",
    "import matplotlib.pyplot as plt\n",
    "from sklearn import preprocessing\n",
    "from sklearn.model_selection import train_test_split\n",
    "from sklearn.ensemble import RandomForestClassifier\n",
    "from sklearn.preprocessing import Imputer\n",
    "from sklearn.model_selection import cross_val_score\n",
    "%matplotlib inline"
   ]
  },
  {
   "cell_type": "code",
   "execution_count": 3,
   "metadata": {
    "collapsed": false
   },
   "outputs": [],
   "source": [
    "# Read csv\n",
    "df = pd.read_csv('CrowdstormingDataJuly1st.csv')\n",
    "# Drop meaningless columns, we don't need the whole player name nor the birthday\n",
    "df.drop(['player','birthday'], 1, inplace=True)\n",
    "# Drop dyads where there are no photoID\n",
    "df.dropna(axis=0, subset=['photoID'], inplace=True)\n",
    "df.drop('photoID', 1, inplace=True)\n",
    "# Drop dyads where there are no rating\n",
    "df.dropna(axis=0, how='all', subset=['rater1', 'rater2'], inplace=True)"
   ]
  },
  {
   "cell_type": "code",
   "execution_count": 4,
   "metadata": {
    "collapsed": true
   },
   "outputs": [],
   "source": [
    "# First, try without 'racist data'\n",
    "df.drop(['refNum','refCountry','Alpha_3','meanIAT','nIAT','seIAT','meanExp','nExp','seExp'], 1, inplace=True)"
   ]
  },
  {
   "cell_type": "code",
   "execution_count": 352,
   "metadata": {
    "collapsed": false,
    "scrolled": true
   },
   "outputs": [],
   "source": [
    "# Need to sum for the aggregation\n",
    "sumAggIndexes = ['playerShort', 'games', 'victories', 'ties', 'defeats', 'goals', 'yellowCards','yellowReds', 'redCards']\n",
    "dfSumAgg = df[sumAggIndexes]\n",
    "aggregatedWithSum = dfSumAgg.groupby('playerShort').sum()\n",
    "\n",
    "# No sum for aggregation\n",
    "dfIdentityAgg = df[['playerShort', 'club', 'leagueCountry', 'height', 'weight',\n",
    "       'position', 'rater1', 'rater2']]\n",
    "identity = lambda x: x.iloc[0]\n",
    "aggregatedWithIdentity = dfIdentityAgg.groupby('playerShort').agg(identity)\n",
    "\n",
    "# Concatenate\n",
    "dfd = pd.concat([aggregatedWithIdentity, aggregatedWithSum], axis=1)"
   ]
  },
  {
   "cell_type": "code",
   "execution_count": 344,
   "metadata": {
    "collapsed": false
   },
   "outputs": [],
   "source": [
    "# Deal with NaN in weight and height\n",
    "ws = dfd['weight']\n",
    "meanW = ws.dropna().mean()\n",
    "dfd['weight'].fillna(meanW, inplace=True)\n",
    "\n",
    "hs = dfd['height']\n",
    "meanH = hs.dropna().mean()\n",
    "dfd['height'].fillna(meanH, inplace=True)"
   ]
  },
  {
   "cell_type": "code",
   "execution_count": 345,
   "metadata": {
    "collapsed": false,
    "scrolled": true
   },
   "outputs": [
    {
     "data": {
      "text/html": [
       "<div>\n",
       "<table border=\"1\" class=\"dataframe\">\n",
       "  <thead>\n",
       "    <tr style=\"text-align: right;\">\n",
       "      <th></th>\n",
       "      <th>club</th>\n",
       "      <th>leagueCountry</th>\n",
       "      <th>height</th>\n",
       "      <th>weight</th>\n",
       "      <th>position</th>\n",
       "      <th>yellowCards</th>\n",
       "      <th>yellowReds</th>\n",
       "      <th>redCards</th>\n",
       "    </tr>\n",
       "    <tr>\n",
       "      <th>playerShort</th>\n",
       "      <th></th>\n",
       "      <th></th>\n",
       "      <th></th>\n",
       "      <th></th>\n",
       "      <th></th>\n",
       "      <th></th>\n",
       "      <th></th>\n",
       "      <th></th>\n",
       "    </tr>\n",
       "  </thead>\n",
       "  <tbody>\n",
       "    <tr>\n",
       "      <th>aaron-hughes</th>\n",
       "      <td>Fulham FC</td>\n",
       "      <td>England</td>\n",
       "      <td>182.0</td>\n",
       "      <td>71.0</td>\n",
       "      <td>Center Back</td>\n",
       "      <td>19</td>\n",
       "      <td>0</td>\n",
       "      <td>0</td>\n",
       "    </tr>\n",
       "    <tr>\n",
       "      <th>aaron-hunt</th>\n",
       "      <td>Werder Bremen</td>\n",
       "      <td>Germany</td>\n",
       "      <td>183.0</td>\n",
       "      <td>73.0</td>\n",
       "      <td>Attacking Midfielder</td>\n",
       "      <td>42</td>\n",
       "      <td>0</td>\n",
       "      <td>1</td>\n",
       "    </tr>\n",
       "    <tr>\n",
       "      <th>aaron-lennon</th>\n",
       "      <td>Tottenham Hotspur</td>\n",
       "      <td>England</td>\n",
       "      <td>165.0</td>\n",
       "      <td>63.0</td>\n",
       "      <td>Right Midfielder</td>\n",
       "      <td>11</td>\n",
       "      <td>0</td>\n",
       "      <td>0</td>\n",
       "    </tr>\n",
       "    <tr>\n",
       "      <th>aaron-ramsey</th>\n",
       "      <td>Arsenal FC</td>\n",
       "      <td>England</td>\n",
       "      <td>178.0</td>\n",
       "      <td>76.0</td>\n",
       "      <td>Center Midfielder</td>\n",
       "      <td>31</td>\n",
       "      <td>0</td>\n",
       "      <td>1</td>\n",
       "    </tr>\n",
       "    <tr>\n",
       "      <th>abdelhamid-el-kaoutari</th>\n",
       "      <td>Montpellier HSC</td>\n",
       "      <td>France</td>\n",
       "      <td>180.0</td>\n",
       "      <td>73.0</td>\n",
       "      <td>Center Back</td>\n",
       "      <td>8</td>\n",
       "      <td>4</td>\n",
       "      <td>2</td>\n",
       "    </tr>\n",
       "  </tbody>\n",
       "</table>\n",
       "</div>"
      ],
      "text/plain": [
       "                                     club leagueCountry  height  weight  \\\n",
       "playerShort                                                               \n",
       "aaron-hughes                    Fulham FC       England   182.0    71.0   \n",
       "aaron-hunt                  Werder Bremen       Germany   183.0    73.0   \n",
       "aaron-lennon            Tottenham Hotspur       England   165.0    63.0   \n",
       "aaron-ramsey                   Arsenal FC       England   178.0    76.0   \n",
       "abdelhamid-el-kaoutari    Montpellier HSC        France   180.0    73.0   \n",
       "\n",
       "                                    position  yellowCards  yellowReds  \\\n",
       "playerShort                                                             \n",
       "aaron-hughes                     Center Back           19           0   \n",
       "aaron-hunt              Attacking Midfielder           42           0   \n",
       "aaron-lennon                Right Midfielder           11           0   \n",
       "aaron-ramsey               Center Midfielder           31           0   \n",
       "abdelhamid-el-kaoutari           Center Back            8           4   \n",
       "\n",
       "                        redCards  \n",
       "playerShort                       \n",
       "aaron-hughes                   0  \n",
       "aaron-hunt                     1  \n",
       "aaron-lennon                   0  \n",
       "aaron-ramsey                   1  \n",
       "abdelhamid-el-kaoutari         2  "
      ]
     },
     "execution_count": 345,
     "metadata": {},
     "output_type": "execute_result"
    }
   ],
   "source": [
    "# skin color\n",
    "colors = np.array([0, 0.25, 0.5, 0.75, 1])\n",
    "def find_nearest(array,value):\n",
    "    idx = (np.abs(array-value)).argmin()\n",
    "    return array[idx]\n",
    "\n",
    "meanColor = (dfd['rater1']+dfd['rater2'])/2\n",
    "\n",
    "# This is the target/observation\n",
    "target = meanColor.apply(lambda x: find_nearest(colors, x)).astype('str')\n",
    "# This is the data\n",
    "data = dfd.drop(['rater1', 'rater2'], axis=1)\n",
    "data.head()"
   ]
  },
  {
   "cell_type": "code",
   "execution_count": 346,
   "metadata": {
    "collapsed": false,
    "scrolled": true
   },
   "outputs": [
    {
     "name": "stderr",
     "output_type": "stream",
     "text": [
      "C:\\Users\\bapti\\Anaconda3\\lib\\site-packages\\sklearn\\utils\\validation.py:395: DeprecationWarning: Passing 1d arrays as data is deprecated in 0.17 and will raise ValueError in 0.19. Reshape your data either using X.reshape(-1, 1) if your data has a single feature or X.reshape(1, -1) if it contains a single sample.\n",
      "  DeprecationWarning)\n"
     ]
    }
   ],
   "source": [
    "# Encode the categorical features\n",
    "le = preprocessing.LabelEncoder()\n",
    "clubEncoded = pd.Series(index=data.index, data=le.fit_transform(data.club))\n",
    "leagueCountryEncoded = pd.Series(index=data.index, data=le.fit_transform(data.leagueCountry))\n",
    "# Encode the 'position', it has NaN values, so we handle them by replacing them\n",
    "# by the most frequent label\n",
    "position = data['position']\n",
    "posFiltered = position.dropna()\n",
    "posNan = position[position.isnull()]\n",
    "posFilEnc = le.fit_transform(posFiltered)\n",
    "posFilEncAsSerie = pd.Series(index=posFiltered.index, data=posFilEnc)\n",
    "concat = pd.concat([posFilEncAsSerie, posNan])\n",
    "positionWithNan = concat.sort_index()\n",
    "\n",
    "imp = Imputer(missing_values='NaN', strategy='most_frequent', axis=1)\n",
    "positionEncoded = pd.Series(index=positionWithNan.index, data=imp.fit_transform(positionWithNan)[0].astype(int))\n",
    "\n",
    "# Dataframe with categorical data encoded as int\n",
    "dataEncoded = pd.concat([clubEncoded, positionEncoded, leagueCountryEncoded],axis=1)\n",
    "dataEncoded.columns = ['club', 'position', 'leagueCountry']"
   ]
  },
  {
   "cell_type": "code",
   "execution_count": 347,
   "metadata": {
    "collapsed": false
   },
   "outputs": [],
   "source": [
    "# One hot encoder\n",
    "enc = preprocessing.OneHotEncoder()\n",
    "enc.fit(dataEncoded)\n",
    "oneHotEncodedData = enc.transform(dataEncoded).toarray()\n",
    "#oneHotEncodedData.astype()\n",
    "dfEncoded = pd.DataFrame(index=dataEncoded.index, data=oneHotEncodedData).astype(int)"
   ]
  },
  {
   "cell_type": "code",
   "execution_count": 348,
   "metadata": {
    "collapsed": false
   },
   "outputs": [],
   "source": [
    "# New data with categorical data encoded\n",
    "dff = pd.concat([data.drop(['club','position','leagueCountry'], axis=1), dfEncoded], axis=1)"
   ]
  },
  {
   "cell_type": "code",
   "execution_count": 339,
   "metadata": {
    "collapsed": false
   },
   "outputs": [],
   "source": [
    "# Split the data \n",
    "#X_train, X_test, y_train, y_test = train_test_split(dff, target, test_size=0.3, random_state=0)"
   ]
  },
  {
   "cell_type": "code",
   "execution_count": 350,
   "metadata": {
    "collapsed": false
   },
   "outputs": [],
   "source": [
    "# Classifier\n",
    "clf = RandomForestClassifier(n_estimators=20, n_jobs=-1)"
   ]
  },
  {
   "cell_type": "code",
   "execution_count": 351,
   "metadata": {
    "collapsed": false
   },
   "outputs": [
    {
     "data": {
      "text/plain": [
       "array([ 0.41587902,  0.43667297,  0.42314991])"
      ]
     },
     "execution_count": 351,
     "metadata": {},
     "output_type": "execute_result"
    }
   ],
   "source": [
    "cross_val_score(clf, dff, target).mean"
   ]
  },
  {
   "cell_type": "code",
   "execution_count": null,
   "metadata": {
    "collapsed": true
   },
   "outputs": [],
   "source": []
  },
  {
   "cell_type": "code",
   "execution_count": null,
   "metadata": {
    "collapsed": true
   },
   "outputs": [],
   "source": []
  },
  {
   "cell_type": "code",
   "execution_count": null,
   "metadata": {
    "collapsed": true
   },
   "outputs": [],
   "source": []
  },
  {
   "cell_type": "code",
   "execution_count": null,
   "metadata": {
    "collapsed": true
   },
   "outputs": [],
   "source": []
  },
  {
   "cell_type": "code",
   "execution_count": null,
   "metadata": {
    "collapsed": true
   },
   "outputs": [],
   "source": []
  },
  {
   "cell_type": "code",
   "execution_count": 295,
   "metadata": {
    "collapsed": false,
    "scrolled": true
   },
   "outputs": [],
   "source": [
    "d = pd.DataFrame({'A' : ['foo', 'bar', 'foo', 'bar',\n",
    "                  'foo', 'bar', 'foo', 'foo'],\n",
    "                  'B' : ['one', 'one', 'two', 'three',\n",
    "                          'two', 'two', 'one', 'three'],\n",
    "                  'C' : np.random.randn(8),\n",
    "                  'D' : np.random.randn(8),\n",
    "                  'E' : [np.nan,'0','1','0','1','0','1','1']})"
   ]
  },
  {
   "cell_type": "code",
   "execution_count": 297,
   "metadata": {
    "collapsed": false
   },
   "outputs": [
    {
     "data": {
      "text/html": [
       "<div>\n",
       "<table border=\"1\" class=\"dataframe\">\n",
       "  <thead>\n",
       "    <tr style=\"text-align: right;\">\n",
       "      <th></th>\n",
       "      <th>A</th>\n",
       "      <th>B</th>\n",
       "      <th>C</th>\n",
       "      <th>D</th>\n",
       "      <th>E</th>\n",
       "    </tr>\n",
       "  </thead>\n",
       "  <tbody>\n",
       "    <tr>\n",
       "      <th>0</th>\n",
       "      <td>foo</td>\n",
       "      <td>one</td>\n",
       "      <td>1.370157</td>\n",
       "      <td>-0.842420</td>\n",
       "      <td>NaN</td>\n",
       "    </tr>\n",
       "    <tr>\n",
       "      <th>1</th>\n",
       "      <td>bar</td>\n",
       "      <td>one</td>\n",
       "      <td>-1.969800</td>\n",
       "      <td>-0.843072</td>\n",
       "      <td>0</td>\n",
       "    </tr>\n",
       "    <tr>\n",
       "      <th>2</th>\n",
       "      <td>foo</td>\n",
       "      <td>two</td>\n",
       "      <td>1.537285</td>\n",
       "      <td>-0.588764</td>\n",
       "      <td>1</td>\n",
       "    </tr>\n",
       "    <tr>\n",
       "      <th>3</th>\n",
       "      <td>bar</td>\n",
       "      <td>three</td>\n",
       "      <td>2.161306</td>\n",
       "      <td>0.000363</td>\n",
       "      <td>0</td>\n",
       "    </tr>\n",
       "    <tr>\n",
       "      <th>4</th>\n",
       "      <td>foo</td>\n",
       "      <td>two</td>\n",
       "      <td>0.316969</td>\n",
       "      <td>-1.605432</td>\n",
       "      <td>1</td>\n",
       "    </tr>\n",
       "    <tr>\n",
       "      <th>5</th>\n",
       "      <td>bar</td>\n",
       "      <td>two</td>\n",
       "      <td>-0.731757</td>\n",
       "      <td>-1.772554</td>\n",
       "      <td>0</td>\n",
       "    </tr>\n",
       "    <tr>\n",
       "      <th>6</th>\n",
       "      <td>foo</td>\n",
       "      <td>one</td>\n",
       "      <td>-0.184452</td>\n",
       "      <td>-1.480211</td>\n",
       "      <td>1</td>\n",
       "    </tr>\n",
       "    <tr>\n",
       "      <th>7</th>\n",
       "      <td>foo</td>\n",
       "      <td>three</td>\n",
       "      <td>1.684653</td>\n",
       "      <td>-1.272516</td>\n",
       "      <td>1</td>\n",
       "    </tr>\n",
       "  </tbody>\n",
       "</table>\n",
       "</div>"
      ],
      "text/plain": [
       "     A      B         C         D    E\n",
       "0  foo    one  1.370157 -0.842420  NaN\n",
       "1  bar    one -1.969800 -0.843072    0\n",
       "2  foo    two  1.537285 -0.588764    1\n",
       "3  bar  three  2.161306  0.000363    0\n",
       "4  foo    two  0.316969 -1.605432    1\n",
       "5  bar    two -0.731757 -1.772554    0\n",
       "6  foo    one -0.184452 -1.480211    1\n",
       "7  foo  three  1.684653 -1.272516    1"
      ]
     },
     "execution_count": 297,
     "metadata": {},
     "output_type": "execute_result"
    }
   ],
   "source": [
    "d.fillna('ASDASD',inplace=True)\n",
    "d"
   ]
  }
 ],
 "metadata": {
  "anaconda-cloud": {},
  "kernelspec": {
   "display_name": "Python [default]",
   "language": "python",
   "name": "python3"
  },
  "language_info": {
   "codemirror_mode": {
    "name": "ipython",
    "version": 3
   },
   "file_extension": ".py",
   "mimetype": "text/x-python",
   "name": "python",
   "nbconvert_exporter": "python",
   "pygments_lexer": "ipython3",
   "version": "3.5.2"
  }
 },
 "nbformat": 4,
 "nbformat_minor": 1
}

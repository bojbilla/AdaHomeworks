{
 "cells": [
  {
   "cell_type": "code",
   "execution_count": 15,
   "metadata": {
    "collapsed": true
   },
   "outputs": [],
   "source": [
    "import pandas as pd            \n",
    "import numpy as np             \n",
    "import matplotlib.pyplot as plt\n",
    "from sklearn.model_selection import train_test_split\n",
    "%matplotlib inline"
   ]
  },
  {
   "cell_type": "code",
   "execution_count": 110,
   "metadata": {
    "collapsed": false
   },
   "outputs": [],
   "source": [
    "# Read csv\n",
    "df = pd.read_csv('CrowdstormingDataJuly1st.csv')\n",
    "# Drop meaningless columns, we don't need the whole player name nor the birthday\n",
    "df.drop(['player','birthday'], 1, inplace=True)\n",
    "# Drop dyads where there are no photoID\n",
    "df.dropna(axis=0, subset=['photoID'], inplace=True)\n",
    "df.drop('photoID', 1, inplace=True)\n",
    "# Drop dyads where there are no rating\n",
    "df.dropna(axis=0, how='all', subset=['rater1', 'rater2'], inplace=True)"
   ]
  },
  {
   "cell_type": "code",
   "execution_count": 111,
   "metadata": {
    "collapsed": true
   },
   "outputs": [],
   "source": [
    "# First, try without 'racist data'\n",
    "df.drop(['refNum','refCountry','Alpha_3','meanIAT','nIAT','seIAT','meanExp','nExp','seExp'], 1, inplace=True)"
   ]
  },
  {
   "cell_type": "code",
   "execution_count": 180,
   "metadata": {
    "collapsed": false,
    "scrolled": true
   },
   "outputs": [],
   "source": [
    "# Need to sum for the aggregation\n",
    "sumAggIndexes = ['playerShort', 'games', 'victories', 'ties', 'defeats', 'goals', 'yellowCards','yellowReds', 'redCards']\n",
    "dfSumAgg = df[sumAggIndexes]\n",
    "aggregatedWithSum = dfSumAgg.groupby('playerShort').sum()\n",
    "\n",
    "# No sum for aggregation\n",
    "dfIdentityAgg = df[['playerShort', 'club', 'leagueCountry', 'height', 'weight',\n",
    "       'position', 'rater1', 'rater2']]\n",
    "identity = lambda x: x.iloc[0]\n",
    "aggregatedWithIdentity = dfIdentityAgg.groupby('playerShort').agg(identity)\n",
    "\n",
    "# Concatenate\n",
    "dfd = pd.concat([aggregatedWithIdentity, aggregatedWithSum], axis=1)"
   ]
  },
  {
   "cell_type": "code",
   "execution_count": 192,
   "metadata": {
    "collapsed": false
   },
   "outputs": [
    {
     "ename": "TypeError",
     "evalue": "Can only append a Series if ignore_index=True or if the Series has a name",
     "output_type": "error",
     "traceback": [
      "\u001b[0;31m---------------------------------------------------------------------------\u001b[0m",
      "\u001b[0;31mTypeError\u001b[0m                                 Traceback (most recent call last)",
      "\u001b[0;32m<ipython-input-192-8f2cbd82a861>\u001b[0m in \u001b[0;36m<module>\u001b[0;34m()\u001b[0m\n\u001b[1;32m      7\u001b[0m \u001b[0mmeanColor\u001b[0m \u001b[1;33m=\u001b[0m \u001b[1;33m(\u001b[0m\u001b[0mdfd\u001b[0m\u001b[1;33m[\u001b[0m\u001b[1;34m'rater1'\u001b[0m\u001b[1;33m]\u001b[0m\u001b[1;33m+\u001b[0m\u001b[0mdfd\u001b[0m\u001b[1;33m[\u001b[0m\u001b[1;34m'rater2'\u001b[0m\u001b[1;33m]\u001b[0m\u001b[1;33m)\u001b[0m\u001b[1;33m/\u001b[0m\u001b[1;36m2\u001b[0m\u001b[1;33m\u001b[0m\u001b[0m\n\u001b[1;32m      8\u001b[0m \u001b[0mfixedColor\u001b[0m \u001b[1;33m=\u001b[0m \u001b[0mmeanColor\u001b[0m\u001b[1;33m.\u001b[0m\u001b[0mapply\u001b[0m\u001b[1;33m(\u001b[0m\u001b[1;32mlambda\u001b[0m \u001b[0mx\u001b[0m\u001b[1;33m:\u001b[0m \u001b[0mfind_nearest\u001b[0m\u001b[1;33m(\u001b[0m\u001b[0mcolors\u001b[0m\u001b[1;33m,\u001b[0m \u001b[0mx\u001b[0m\u001b[1;33m)\u001b[0m\u001b[1;33m)\u001b[0m\u001b[1;33m\u001b[0m\u001b[0m\n\u001b[0;32m----> 9\u001b[0;31m \u001b[0mdfd\u001b[0m \u001b[1;33m=\u001b[0m \u001b[0mdfd\u001b[0m\u001b[1;33m.\u001b[0m\u001b[0mappend\u001b[0m\u001b[1;33m(\u001b[0m\u001b[0mfixedColor\u001b[0m\u001b[1;33m)\u001b[0m\u001b[1;33m\u001b[0m\u001b[0m\n\u001b[0m",
      "\u001b[0;32mC:\\Users\\bapti\\Anaconda3\\lib\\site-packages\\pandas\\core\\frame.py\u001b[0m in \u001b[0;36mappend\u001b[0;34m(self, other, ignore_index, verify_integrity)\u001b[0m\n\u001b[1;32m   4414\u001b[0m                 \u001b[0mother\u001b[0m \u001b[1;33m=\u001b[0m \u001b[0mSeries\u001b[0m\u001b[1;33m(\u001b[0m\u001b[0mother\u001b[0m\u001b[1;33m)\u001b[0m\u001b[1;33m\u001b[0m\u001b[0m\n\u001b[1;32m   4415\u001b[0m             \u001b[1;32mif\u001b[0m \u001b[0mother\u001b[0m\u001b[1;33m.\u001b[0m\u001b[0mname\u001b[0m \u001b[1;32mis\u001b[0m \u001b[1;32mNone\u001b[0m \u001b[1;32mand\u001b[0m \u001b[1;32mnot\u001b[0m \u001b[0mignore_index\u001b[0m\u001b[1;33m:\u001b[0m\u001b[1;33m\u001b[0m\u001b[0m\n\u001b[0;32m-> 4416\u001b[0;31m                 raise TypeError('Can only append a Series if ignore_index=True'\n\u001b[0m\u001b[1;32m   4417\u001b[0m                                 ' or if the Series has a name')\n\u001b[1;32m   4418\u001b[0m \u001b[1;33m\u001b[0m\u001b[0m\n",
      "\u001b[0;31mTypeError\u001b[0m: Can only append a Series if ignore_index=True or if the Series has a name"
     ]
    }
   ],
   "source": [
    "# skin color\n",
    "colors = np.array([0, 0.25, 0.5, 0.75, 1])\n",
    "def find_nearest(array,value):\n",
    "    idx = (np.abs(array-value)).argmin()\n",
    "    return array[idx]\n",
    "\n",
    "meanColor = (dfd['rater1']+dfd['rater2'])/2\n",
    "fixedColor = meanColor.apply(lambda x: find_nearest(colors, x))\n",
    "\n",
    "# TODO: concat fixedColor\n"
   ]
  },
  {
   "cell_type": "code",
   "execution_count": 74,
   "metadata": {
    "collapsed": false
   },
   "outputs": [],
   "source": []
  },
  {
   "cell_type": "code",
   "execution_count": 13,
   "metadata": {
    "collapsed": true
   },
   "outputs": [
    {
     "data": {
      "text/plain": [
       "0                 lucas-wilchez\n",
       "1                    john-utaka\n",
       "2                   abdon-prats\n",
       "3                    pablo-mari\n",
       "4                    ruben-pena\n",
       "5                  aaron-hughes\n",
       "6            aleksandar-kolarov\n",
       "7              alexander-tettey\n",
       "8             anders-lindegaard\n",
       "9                  andreas-beck\n",
       "10             antonio-rukavina\n",
       "11               ashkan-dejagah\n",
       "12            benedikt-hoewedes\n",
       "13                  chris-baird\n",
       "14                  chris-brunt\n",
       "15               daniel-schwaab\n",
       "16                  dennis-aogo\n",
       "17             george-mccartney\n",
       "18             gylfi-sigurdsson\n",
       "19               ivan-obradovic\n",
       "20                  jan-moravek\n",
       "21                jan-rosenthal\n",
       "22                  jonny-evans\n",
       "23        kyriakos-papadopoulos\n",
       "24                  marko-marin\n",
       "25                 mats-hummels\n",
       "26                  mesut-oezil\n",
       "27              milorad-pekovic\n",
       "28                nemanja-vidic\n",
       "29                neven-subotic\n",
       "                  ...          \n",
       "145998          mohamed-sissoko\n",
       "145999                     nani\n",
       "146000             nedum-onuoha\n",
       "146001            nelson-valdez\n",
       "146002       nemanja-pejcinovic\n",
       "146003          nikos-karabelas\n",
       "146004          obafemi-martins\n",
       "146005                petr-cech\n",
       "146006        radoslav-zabavnik\n",
       "146007     rafael-van-der-vaart\n",
       "146008           ricardo-vaz-te\n",
       "146009            richard-dunne\n",
       "146010         robin-van-persie\n",
       "146011            romelu-lukaku\n",
       "146012        sebastian-larsson\n",
       "146013         sebastian-proedl\n",
       "146014            shaun-maloney\n",
       "146015    shaun-wright-phillips\n",
       "146016               shay-given\n",
       "146017             shola-ameobi\n",
       "146018        slobodan-rajkovic\n",
       "146019            steven-taylor\n",
       "146020             timmy-simons\n",
       "146021            titus-bramble\n",
       "146022          tom-huddlestone\n",
       "146023            tomas-rosicky\n",
       "146024             winston-reid\n",
       "146025          xherdan-shaqiri\n",
       "146026      yassine-el-ghanassi\n",
       "146027             zdenk-pospch\n",
       "Name: playerShort, dtype: object"
      ]
     },
     "execution_count": 13,
     "metadata": {},
     "output_type": "execute_result"
    }
   ],
   "source": [
    "X_train, X_test, y_train, y_test = train_test_split(data, target, test_size=0.3, random_state=0)"
   ]
  },
  {
   "cell_type": "code",
   "execution_count": 161,
   "metadata": {
    "collapsed": false
   },
   "outputs": [
    {
     "data": {
      "text/plain": [
       "array(['playerShort', 'club', 'leagueCountry', 'height', 'weight',\n",
       "       'position', 'games', 'victories', 'ties', 'defeats', 'goals',\n",
       "       'yellowCards', 'yellowReds', 'redCards', 'rater1', 'rater2'], dtype=object)"
      ]
     },
     "execution_count": 161,
     "metadata": {},
     "output_type": "execute_result"
    }
   ],
   "source": [
    "df.columns.get_values()"
   ]
  },
  {
   "cell_type": "code",
   "execution_count": null,
   "metadata": {
    "collapsed": true
   },
   "outputs": [],
   "source": []
  },
  {
   "cell_type": "code",
   "execution_count": null,
   "metadata": {
    "collapsed": true
   },
   "outputs": [],
   "source": []
  },
  {
   "cell_type": "code",
   "execution_count": 57,
   "metadata": {
    "collapsed": false,
    "scrolled": true
   },
   "outputs": [],
   "source": [
    "d = pd.DataFrame({'A' : ['foo', 'bar', 'foo', 'bar',\n",
    "                  'foo', 'bar', 'foo', 'foo'],\n",
    "                  'B' : ['one', 'one', 'two', 'three',\n",
    "                          'two', 'two', 'one', 'three'],\n",
    "                  'C' : np.random.randn(8),\n",
    "                  'D' : np.random.randn(8),\n",
    "                  'E' : ['1','0','1','0','1','0','1','1']})"
   ]
  },
  {
   "cell_type": "code",
   "execution_count": 63,
   "metadata": {
    "collapsed": false
   },
   "outputs": [
    {
     "data": {
      "text/plain": [
       "{'bar': Int64Index([1, 3, 5], dtype='int64'),\n",
       " 'foo': Int64Index([0, 2, 4, 6, 7], dtype='int64')}"
      ]
     },
     "execution_count": 63,
     "metadata": {},
     "output_type": "execute_result"
    }
   ],
   "source": [
    "g = d[['A','E']].groupby('A')\n",
    "g.groups"
   ]
  }
 ],
 "metadata": {
  "anaconda-cloud": {},
  "kernelspec": {
   "display_name": "Python [default]",
   "language": "python",
   "name": "python3"
  },
  "language_info": {
   "codemirror_mode": {
    "name": "ipython",
    "version": 3
   },
   "file_extension": ".py",
   "mimetype": "text/x-python",
   "name": "python",
   "nbconvert_exporter": "python",
   "pygments_lexer": "ipython3",
   "version": "3.5.2"
  }
 },
 "nbformat": 4,
 "nbformat_minor": 1
}

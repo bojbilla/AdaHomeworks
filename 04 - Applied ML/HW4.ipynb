{
 "cells": [
  {
   "cell_type": "code",
   "execution_count": 1,
   "metadata": {
    "collapsed": false
   },
   "outputs": [],
   "source": [
    "import pandas as pd            \n",
    "import numpy as np             \n",
    "import matplotlib.pyplot as plt\n",
    "from sklearn import preprocessing\n",
    "from sklearn.model_selection import train_test_split\n",
    "from sklearn.ensemble import RandomForestClassifier\n",
    "from sklearn.preprocessing import Imputer\n",
    "from sklearn.model_selection import cross_val_score\n",
    "%matplotlib inline"
   ]
  },
  {
   "cell_type": "code",
   "execution_count": 2,
   "metadata": {
    "collapsed": false
   },
   "outputs": [],
   "source": [
    "# Read csv\n",
    "original_data = pd.read_csv('CrowdstormingDataJuly1st.csv')\n",
    "# Drop meaningless columns, we don't need the whole player name nor the birthday\n",
    "original_data.drop(['player','birthday'], 1, inplace=True)\n",
    "# Drop dyads where there are no photoID\n",
    "original_data.dropna(axis=0, subset=['photoID'], inplace=True)\n",
    "original_data.drop('photoID', 1, inplace=True)\n",
    "# Drop dyads where there are no rating\n",
    "original_data.dropna(axis=0, how='all', subset=['rater1', 'rater2'], inplace=True)\n",
    "# Drop dyads where there is no position\n",
    "original_data.dropna(axis=0, how='all', subset=['position'], inplace=True)"
   ]
  },
  {
   "cell_type": "code",
   "execution_count": 3,
   "metadata": {
    "collapsed": false
   },
   "outputs": [],
   "source": [
    "# With the interesting data\n",
    "df = original_data.drop(['refNum', 'refCountry', 'Alpha_3', 'nIAT', 'nExp'], 1)"
   ]
  },
  {
   "cell_type": "markdown",
   "metadata": {},
   "source": [
    "IAT and Exp are linked to the referee and not directly to the player. The cards are what relates them. So let's try to weight the cards by IAT and Exp."
   ]
  },
  {
   "cell_type": "code",
   "execution_count": 4,
   "metadata": {
    "collapsed": false
   },
   "outputs": [],
   "source": [
    "# IAT \n",
    "df['IATYellows'] = df['yellowCards']*df['meanIAT']+df['seIAT']\n",
    "df['IATYellowReds'] = df['yellowReds']*df['meanIAT']+df['seIAT']\n",
    "df['IATReds'] = df['redCards']*df['meanIAT']+df['seIAT']\n",
    "# Exp\n",
    "df['ExpYellows'] = df['yellowCards']*df['meanExp']+df['seExp']\n",
    "df['ExpYellowReds'] = df['yellowReds']*df['meanExp']+df['seExp']\n",
    "df['ExpReds'] = df['redCards']*df['meanExp']+df['seExp']"
   ]
  },
  {
   "cell_type": "code",
   "execution_count": 6,
   "metadata": {
    "collapsed": false
   },
   "outputs": [],
   "source": [
    "# Sum for aggregation\n",
    "dfSumAgg = df[['playerShort', 'games', 'victories', 'ties', 'defeats', 'goals', 'yellowCards','yellowReds', 'redCards',\n",
    "                'IATYellows', 'IATYellowReds', 'IATReds', 'ExpYellows', 'ExpYellowReds', 'ExpReds']]\n",
    "aggregatedWithSum = dfSumAgg.groupby('playerShort').sum()\n",
    "\n",
    "# No sum for aggregation; also we don't take the IAT and Exp scores from the referees\n",
    "identity = lambda x: x.iloc[0]\n",
    "dfIdentityAgg = df[['playerShort', 'club', 'leagueCountry', 'height', 'weight', 'position', \n",
    "                     'rater1', 'rater2']]\n",
    "aggregatedWithIdentity = dfIdentityAgg.groupby('playerShort').agg(identity)\n",
    "dfd = pd.concat([aggregatedWithIdentity, aggregatedWithSum], axis=1)"
   ]
  },
  {
   "cell_type": "code",
   "execution_count": 7,
   "metadata": {
    "collapsed": false
   },
   "outputs": [],
   "source": [
    "# Normalize:\n",
    "\n",
    "# vitories, defeats, ties, goals, cards -> \n",
    "#   for each player x: x._/x.games\n",
    "\n",
    "colsToNorm = ['victories', 'ties', 'defeats', 'goals', 'yellowCards','yellowReds', 'redCards',\n",
    "             'IATYellows', 'IATYellowReds', 'IATReds', 'ExpYellows', 'ExpYellowReds', 'ExpReds']\n",
    "ds = []\n",
    "for c in colsToNorm:\n",
    "    col = []\n",
    "    for i in dfd.index:\n",
    "        col.append(dfd[c].loc[i]/dfd['games'].loc[i])\n",
    "    ds.append(pd.DataFrame(columns=[c], index=dfd.index, data=col))\n",
    "    \n",
    "\n",
    "\n",
    "dfd = pd.concat([pd.concat(ds,axis=1), dfd.drop(colsToNorm, axis=1)] ,axis=1)"
   ]
  },
  {
   "cell_type": "code",
   "execution_count": 8,
   "metadata": {
    "collapsed": true
   },
   "outputs": [],
   "source": [
    "# Deal with NaN in weight and height\n",
    "# There are only few missing data so we can fill them with the mean of the column without\n",
    "# inducing to much bias in the data\n",
    "\n",
    "ws = dfd['weight']\n",
    "meanW = ws.dropna().mean()\n",
    "dfd['weight'].fillna(meanW, inplace=True)\n",
    "\n",
    "hs = dfd['height']\n",
    "meanH = hs.dropna().mean()\n",
    "dfd['height'].fillna(meanH, inplace=True)"
   ]
  },
  {
   "cell_type": "code",
   "execution_count": 9,
   "metadata": {
    "collapsed": false
   },
   "outputs": [
    {
     "data": {
      "text/html": [
       "<div>\n",
       "<table border=\"1\" class=\"dataframe\">\n",
       "  <thead>\n",
       "    <tr style=\"text-align: right;\">\n",
       "      <th></th>\n",
       "      <th>victories</th>\n",
       "      <th>ties</th>\n",
       "      <th>defeats</th>\n",
       "      <th>goals</th>\n",
       "      <th>yellowCards</th>\n",
       "      <th>yellowReds</th>\n",
       "      <th>redCards</th>\n",
       "      <th>IATYellows</th>\n",
       "      <th>IATYellowReds</th>\n",
       "      <th>IATReds</th>\n",
       "      <th>ExpYellows</th>\n",
       "      <th>ExpYellowReds</th>\n",
       "      <th>ExpReds</th>\n",
       "      <th>club</th>\n",
       "      <th>leagueCountry</th>\n",
       "      <th>height</th>\n",
       "      <th>weight</th>\n",
       "      <th>position</th>\n",
       "      <th>games</th>\n",
       "    </tr>\n",
       "    <tr>\n",
       "      <th>playerShort</th>\n",
       "      <th></th>\n",
       "      <th></th>\n",
       "      <th></th>\n",
       "      <th></th>\n",
       "      <th></th>\n",
       "      <th></th>\n",
       "      <th></th>\n",
       "      <th></th>\n",
       "      <th></th>\n",
       "      <th></th>\n",
       "      <th></th>\n",
       "      <th></th>\n",
       "      <th></th>\n",
       "      <th></th>\n",
       "      <th></th>\n",
       "      <th></th>\n",
       "      <th></th>\n",
       "      <th></th>\n",
       "      <th></th>\n",
       "    </tr>\n",
       "  </thead>\n",
       "  <tbody>\n",
       "    <tr>\n",
       "      <th>aaron-hughes</th>\n",
       "      <td>0.377676</td>\n",
       "      <td>0.273700</td>\n",
       "      <td>0.348624</td>\n",
       "      <td>0.013761</td>\n",
       "      <td>0.029052</td>\n",
       "      <td>0.000000</td>\n",
       "      <td>0.000000</td>\n",
       "      <td>0.009982</td>\n",
       "      <td>0.000165</td>\n",
       "      <td>0.000165</td>\n",
       "      <td>0.013617</td>\n",
       "      <td>0.001032</td>\n",
       "      <td>0.001032</td>\n",
       "      <td>Fulham FC</td>\n",
       "      <td>England</td>\n",
       "      <td>182.0</td>\n",
       "      <td>71.0</td>\n",
       "      <td>Center Back</td>\n",
       "      <td>654</td>\n",
       "    </tr>\n",
       "    <tr>\n",
       "      <th>aaron-hunt</th>\n",
       "      <td>0.419643</td>\n",
       "      <td>0.217262</td>\n",
       "      <td>0.363095</td>\n",
       "      <td>0.184524</td>\n",
       "      <td>0.125000</td>\n",
       "      <td>0.000000</td>\n",
       "      <td>0.002976</td>\n",
       "      <td>0.042845</td>\n",
       "      <td>0.000064</td>\n",
       "      <td>0.001066</td>\n",
       "      <td>0.048712</td>\n",
       "      <td>0.000292</td>\n",
       "      <td>0.001292</td>\n",
       "      <td>Werder Bremen</td>\n",
       "      <td>Germany</td>\n",
       "      <td>183.0</td>\n",
       "      <td>73.0</td>\n",
       "      <td>Attacking Midfielder</td>\n",
       "      <td>336</td>\n",
       "    </tr>\n",
       "    <tr>\n",
       "      <th>aaron-lennon</th>\n",
       "      <td>0.485437</td>\n",
       "      <td>0.235437</td>\n",
       "      <td>0.279126</td>\n",
       "      <td>0.075243</td>\n",
       "      <td>0.026699</td>\n",
       "      <td>0.000000</td>\n",
       "      <td>0.000000</td>\n",
       "      <td>0.008954</td>\n",
       "      <td>0.000090</td>\n",
       "      <td>0.000090</td>\n",
       "      <td>0.011236</td>\n",
       "      <td>0.000498</td>\n",
       "      <td>0.000498</td>\n",
       "      <td>Tottenham Hotspur</td>\n",
       "      <td>England</td>\n",
       "      <td>165.0</td>\n",
       "      <td>63.0</td>\n",
       "      <td>Right Midfielder</td>\n",
       "      <td>412</td>\n",
       "    </tr>\n",
       "    <tr>\n",
       "      <th>aaron-ramsey</th>\n",
       "      <td>0.576923</td>\n",
       "      <td>0.161538</td>\n",
       "      <td>0.261538</td>\n",
       "      <td>0.150000</td>\n",
       "      <td>0.119231</td>\n",
       "      <td>0.000000</td>\n",
       "      <td>0.003846</td>\n",
       "      <td>0.041573</td>\n",
       "      <td>0.001334</td>\n",
       "      <td>0.002621</td>\n",
       "      <td>0.056607</td>\n",
       "      <td>0.005409</td>\n",
       "      <td>0.006702</td>\n",
       "      <td>Arsenal FC</td>\n",
       "      <td>England</td>\n",
       "      <td>178.0</td>\n",
       "      <td>76.0</td>\n",
       "      <td>Center Midfielder</td>\n",
       "      <td>260</td>\n",
       "    </tr>\n",
       "    <tr>\n",
       "      <th>abdelhamid-el-kaoutari</th>\n",
       "      <td>0.330645</td>\n",
       "      <td>0.322581</td>\n",
       "      <td>0.346774</td>\n",
       "      <td>0.008065</td>\n",
       "      <td>0.064516</td>\n",
       "      <td>0.032258</td>\n",
       "      <td>0.016129</td>\n",
       "      <td>0.022036</td>\n",
       "      <td>0.011387</td>\n",
       "      <td>0.005842</td>\n",
       "      <td>0.023264</td>\n",
       "      <td>0.013306</td>\n",
       "      <td>0.007001</td>\n",
       "      <td>Montpellier HSC</td>\n",
       "      <td>France</td>\n",
       "      <td>180.0</td>\n",
       "      <td>73.0</td>\n",
       "      <td>Center Back</td>\n",
       "      <td>124</td>\n",
       "    </tr>\n",
       "  </tbody>\n",
       "</table>\n",
       "</div>"
      ],
      "text/plain": [
       "                        victories      ties   defeats     goals  yellowCards  \\\n",
       "playerShort                                                                    \n",
       "aaron-hughes             0.377676  0.273700  0.348624  0.013761     0.029052   \n",
       "aaron-hunt               0.419643  0.217262  0.363095  0.184524     0.125000   \n",
       "aaron-lennon             0.485437  0.235437  0.279126  0.075243     0.026699   \n",
       "aaron-ramsey             0.576923  0.161538  0.261538  0.150000     0.119231   \n",
       "abdelhamid-el-kaoutari   0.330645  0.322581  0.346774  0.008065     0.064516   \n",
       "\n",
       "                        yellowReds  redCards  IATYellows  IATYellowReds  \\\n",
       "playerShort                                                               \n",
       "aaron-hughes              0.000000  0.000000    0.009982       0.000165   \n",
       "aaron-hunt                0.000000  0.002976    0.042845       0.000064   \n",
       "aaron-lennon              0.000000  0.000000    0.008954       0.000090   \n",
       "aaron-ramsey              0.000000  0.003846    0.041573       0.001334   \n",
       "abdelhamid-el-kaoutari    0.032258  0.016129    0.022036       0.011387   \n",
       "\n",
       "                         IATReds  ExpYellows  ExpYellowReds   ExpReds  \\\n",
       "playerShort                                                             \n",
       "aaron-hughes            0.000165    0.013617       0.001032  0.001032   \n",
       "aaron-hunt              0.001066    0.048712       0.000292  0.001292   \n",
       "aaron-lennon            0.000090    0.011236       0.000498  0.000498   \n",
       "aaron-ramsey            0.002621    0.056607       0.005409  0.006702   \n",
       "abdelhamid-el-kaoutari  0.005842    0.023264       0.013306  0.007001   \n",
       "\n",
       "                                     club leagueCountry  height  weight  \\\n",
       "playerShort                                                               \n",
       "aaron-hughes                    Fulham FC       England   182.0    71.0   \n",
       "aaron-hunt                  Werder Bremen       Germany   183.0    73.0   \n",
       "aaron-lennon            Tottenham Hotspur       England   165.0    63.0   \n",
       "aaron-ramsey                   Arsenal FC       England   178.0    76.0   \n",
       "abdelhamid-el-kaoutari    Montpellier HSC        France   180.0    73.0   \n",
       "\n",
       "                                    position  games  \n",
       "playerShort                                          \n",
       "aaron-hughes                     Center Back    654  \n",
       "aaron-hunt              Attacking Midfielder    336  \n",
       "aaron-lennon                Right Midfielder    412  \n",
       "aaron-ramsey               Center Midfielder    260  \n",
       "abdelhamid-el-kaoutari           Center Back    124  "
      ]
     },
     "execution_count": 9,
     "metadata": {},
     "output_type": "execute_result"
    }
   ],
   "source": [
    "# skin color\n",
    "colors = np.array([0, 0.25, 0.5, 0.75, 1])\n",
    "def find_nearest(array,value):\n",
    "    idx = (np.abs(array-value)).argmin()\n",
    "    return array[idx]\n",
    "\n",
    "meanColor = (dfd['rater1']+dfd['rater2'])/2\n",
    "\n",
    "# This is the target/observation\n",
    "target = meanColor.apply(lambda x: find_nearest(colors, x)).astype('str')\n",
    "# This is the data\n",
    "data = dfd.drop(['rater1', 'rater2'], axis=1)\n",
    "data.head()"
   ]
  },
  {
   "cell_type": "code",
   "execution_count": 10,
   "metadata": {
    "collapsed": false
   },
   "outputs": [],
   "source": [
    "# Encode the categorical features\n",
    "le = preprocessing.LabelEncoder()\n",
    "clubEncoded = pd.Series(index=data.index, data=le.fit_transform(data.club))\n",
    "leagueCountreyEncoded = pd.Series(index=data.index, data=le.fit_transform(data.leagueCountry))\n",
    "positionEncoded = pd.Series(index=data.index, data=le.fit_transform(data.position))\n",
    "\n",
    "# Dataframe with categorical data encoded as ints\n",
    "dataEncoded = pd.concat([clubEncoded, positionEncoded, leagueCountreyEncoded], axis=1)\n",
    "dataEncoded.columns=['club', 'position', 'leagueCountry']"
   ]
  },
  {
   "cell_type": "code",
   "execution_count": 465,
   "metadata": {
    "collapsed": false
   },
   "outputs": [],
   "source": [
    "# One hot encoder\n",
    "enc = preprocessing.OneHotEncoder()\n",
    "enc.fit(dataEncoded)\n",
    "oneHotEncodedData = enc.transform(dataEncoded).toarray()\n",
    "#oneHotEncodedData.astype()\n",
    "dfEncoded = pd.DataFrame(index=dataEncoded.index, data=oneHotEncodedData).astype(int)"
   ]
  },
  {
   "cell_type": "code",
   "execution_count": 466,
   "metadata": {
    "collapsed": false
   },
   "outputs": [],
   "source": [
    "# New data with categorical data encoded\n",
    "dff = pd.concat([data.drop(['club','position','leagueCountry'], axis=1), dfEncoded], axis=1)"
   ]
  },
  {
   "cell_type": "code",
   "execution_count": 467,
   "metadata": {
    "collapsed": false
   },
   "outputs": [],
   "source": [
    "# Split the data \n",
    "X_train, X_test, y_train, y_test = train_test_split(dff, target, test_size=0.3, random_state=0)"
   ]
  },
  {
   "cell_type": "code",
   "execution_count": 479,
   "metadata": {
    "collapsed": false
   },
   "outputs": [],
   "source": [
    "# Classifier\n",
    "clf = RandomForestClassifier(n_jobs=-1)"
   ]
  },
  {
   "cell_type": "code",
   "execution_count": 480,
   "metadata": {
    "collapsed": false
   },
   "outputs": [
    {
     "data": {
      "text/plain": [
       "0.42333882147285401"
      ]
     },
     "execution_count": 480,
     "metadata": {},
     "output_type": "execute_result"
    }
   ],
   "source": [
    "cross_val_score(clf, dff, target).mean()"
   ]
  },
  {
   "cell_type": "code",
   "execution_count": 487,
   "metadata": {
    "collapsed": false
   },
   "outputs": [
    {
     "data": {
      "text/plain": [
       "(array([ 20.,  16.,  11.,  18.,  12.,   4.,   5.,   6.,   4.,   2.,   4.,\n",
       "          0.,   1.,   1.,   1.,   1.,   2.,   1.,   2.,   0.,   0.,   0.,\n",
       "          1.,   1.,   0.,   0.,   0.,   0.,   0.,   0.,   0.,   0.,   0.,\n",
       "          0.,   0.,   0.,   0.,   0.,   0.,   0.,   0.,   0.,   0.,   0.,\n",
       "          0.,   0.,   1.,   1.,   0.,   0.,   0.,   0.,   0.,   0.,   0.,\n",
       "          0.,   0.,   0.,   0.,   0.,   0.,   0.,   0.,   0.,   0.,   0.,\n",
       "          0.,   0.,   0.,   0.,   0.,   0.,   0.,   0.,   0.,   0.,   0.,\n",
       "          0.,   0.,   0.,   0.,   0.,   0.,   0.,   0.,   0.,   0.,   0.,\n",
       "          0.,   0.,   0.,   0.,   0.,   0.,   0.,   0.,   0.,   0.,   0.,\n",
       "          0.,   0.,   0.,   0.,   1.,   0.,   0.,   0.,   1.,   0.,   0.,\n",
       "          0.,   0.,   0.,   1.,   0.,   1.,   1.,   1.,   0.,   0.,   0.,\n",
       "          1.,   1.]),\n",
       " array([ 0.        ,  0.00063765,  0.00127531,  0.00191296,  0.00255062,\n",
       "         0.00318827,  0.00382592,  0.00446358,  0.00510123,  0.00573889,\n",
       "         0.00637654,  0.00701419,  0.00765185,  0.0082895 ,  0.00892716,\n",
       "         0.00956481,  0.01020246,  0.01084012,  0.01147777,  0.01211543,\n",
       "         0.01275308,  0.01339073,  0.01402839,  0.01466604,  0.0153037 ,\n",
       "         0.01594135,  0.016579  ,  0.01721666,  0.01785431,  0.01849197,\n",
       "         0.01912962,  0.01976727,  0.02040493,  0.02104258,  0.02168024,\n",
       "         0.02231789,  0.02295554,  0.0235932 ,  0.02423085,  0.02486851,\n",
       "         0.02550616,  0.02614381,  0.02678147,  0.02741912,  0.02805678,\n",
       "         0.02869443,  0.02933208,  0.02996974,  0.03060739,  0.03124505,\n",
       "         0.0318827 ,  0.03252036,  0.03315801,  0.03379566,  0.03443332,\n",
       "         0.03507097,  0.03570863,  0.03634628,  0.03698393,  0.03762159,\n",
       "         0.03825924,  0.0388969 ,  0.03953455,  0.0401722 ,  0.04080986,\n",
       "         0.04144751,  0.04208517,  0.04272282,  0.04336047,  0.04399813,\n",
       "         0.04463578,  0.04527344,  0.04591109,  0.04654874,  0.0471864 ,\n",
       "         0.04782405,  0.04846171,  0.04909936,  0.04973701,  0.05037467,\n",
       "         0.05101232,  0.05164998,  0.05228763,  0.05292528,  0.05356294,\n",
       "         0.05420059,  0.05483825,  0.0554759 ,  0.05611355,  0.05675121,\n",
       "         0.05738886,  0.05802652,  0.05866417,  0.05930182,  0.05993948,\n",
       "         0.06057713,  0.06121479,  0.06185244,  0.06249009,  0.06312775,\n",
       "         0.0637654 ,  0.06440306,  0.06504071,  0.06567836,  0.06631602,\n",
       "         0.06695367,  0.06759133,  0.06822898,  0.06886663,  0.06950429,\n",
       "         0.07014194,  0.0707796 ,  0.07141725,  0.0720549 ,  0.07269256,\n",
       "         0.07333021,  0.07396787,  0.07460552,  0.07524317,  0.07588083,\n",
       "         0.07651848,  0.07715614,  0.07779379,  0.07843144]),\n",
       " <a list of 123 Patch objects>)"
      ]
     },
     "execution_count": 487,
     "metadata": {},
     "output_type": "execute_result"
    },
    {
     "data": {
      "image/png": "[encoded data removed]",
      "text/plain": [
       "<matplotlib.figure.Figure at 0x20ce66d2f60>"
      ]
     },
     "metadata": {},
     "output_type": "display_data"
    }
   ],
   "source": [
    "clf.fit(X_train,y_train)\n",
    "plt.hist(clf.feature_importances_, bins=len(X_train.columns))\n"
   ]
  },
  {
   "cell_type": "code",
   "execution_count": null,
   "metadata": {
    "collapsed": true
   },
   "outputs": [],
   "source": []
  },
  {
   "cell_type": "code",
   "execution_count": null,
   "metadata": {
    "collapsed": true
   },
   "outputs": [],
   "source": []
  },
  {
   "cell_type": "code",
   "execution_count": null,
   "metadata": {
    "collapsed": true
   },
   "outputs": [],
   "source": []
  },
  {
   "cell_type": "markdown",
   "metadata": {},
   "source": [
    "# TEST CELLS"
   ]
  },
  {
   "cell_type": "code",
   "execution_count": 471,
   "metadata": {
    "collapsed": false,
    "scrolled": true
   },
   "outputs": [],
   "source": [
    "\n",
    "\n",
    "d = pd.DataFrame({'A' : ['foo', 'bar', 'foo', 'bar',\n",
    "                  'foo', 'bar', 'foo', 'foo'],\n",
    "                  'B' : ['one', 'one', 'two', 'three',\n",
    "                          'two', 'two', 'one', 'three'],\n",
    "                  'C' : np.random.randn(8),\n",
    "                  'D' : np.random.randn(8),\n",
    "                  'E' : [np.nan,'0','1','0','1','0','1','1'],\n",
    "                  'F' : [1,2,3,4,5,6,7,8]})\n",
    "d.set_index('F', inplace=True)"
   ]
  },
  {
   "cell_type": "code",
   "execution_count": 472,
   "metadata": {
    "collapsed": false
   },
   "outputs": [
    {
     "data": {
      "text/plain": [
       "['foo', 'bar', 'foo', 'bar', 'foo', 'bar', 'foo', 'foo']"
      ]
     },
     "execution_count": 472,
     "metadata": {},
     "output_type": "execute_result"
    }
   ],
   "source": [
    "x = []\n",
    "for c in d['A']:\n",
    "    x.append(c)\n",
    "    \n",
    "x"
   ]
  }
 ],
 "metadata": {
  "anaconda-cloud": {},
  "kernelspec": {
   "display_name": "Python [default]",
   "language": "python",
   "name": "python3"
  },
  "language_info": {
   "codemirror_mode": {
    "name": "ipython",
    "version": 3
   },
   "file_extension": ".py",
   "mimetype": "text/x-python",
   "name": "python",
   "nbconvert_exporter": "python",
   "pygments_lexer": "ipython3",
   "version": "3.5.2"
  }
 },
 "nbformat": 4,
 "nbformat_minor": 1
}
